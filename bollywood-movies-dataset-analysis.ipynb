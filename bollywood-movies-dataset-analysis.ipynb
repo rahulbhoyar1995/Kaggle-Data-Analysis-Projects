{
 "cells": [
  {
   "cell_type": "code",
   "execution_count": 1,
   "id": "91ec16ed",
   "metadata": {
    "_cell_guid": "b1076dfc-b9ad-4769-8c92-a6c4dae69d19",
    "_uuid": "8f2839f25d086af736a60e9eeb907d3b93b6e0e5",
    "execution": {
     "iopub.execute_input": "2024-03-22T09:41:22.911916Z",
     "iopub.status.busy": "2024-03-22T09:41:22.911436Z",
     "iopub.status.idle": "2024-03-22T09:41:24.128707Z",
     "shell.execute_reply": "2024-03-22T09:41:24.127509Z"
    },
    "papermill": {
     "duration": 1.233123,
     "end_time": "2024-03-22T09:41:24.133193",
     "exception": false,
     "start_time": "2024-03-22T09:41:22.900070",
     "status": "completed"
    },
    "tags": []
   },
   "outputs": [
    {
     "name": "stdout",
     "output_type": "stream",
     "text": [
      "/kaggle/input/bollywood-movies-dataset/Data for repository.csv\n"
     ]
    }
   ],
   "source": [
    "# This Python 3 environment comes with many helpful analytics libraries installed\n",
    "# It is defined by the kaggle/python Docker image: https://github.com/kaggle/docker-python\n",
    "# For example, here's several helpful packages to load\n",
    "\n",
    "import numpy as np # linear algebra\n",
    "import pandas as pd # data processing, CSV file I/O (e.g. pd.read_csv)\n",
    "\n",
    "# Input data files are available in the read-only \"../input/\" directory\n",
    "# For example, running this (by clicking run or pressing Shift+Enter) will list all files under the input directory\n",
    "\n",
    "import os\n",
    "for dirname, _, filenames in os.walk('/kaggle/input'):\n",
    "    for filename in filenames:\n",
    "        print(os.path.join(dirname, filename))\n",
    "\n",
    "# You can write up to 20GB to the current directory (/kaggle/working/) that gets preserved as output when you create a version using \"Save & Run All\" \n",
    "# You can also write temporary files to /kaggle/temp/, but they won't be saved outside of the current session"
   ]
  },
  {
   "cell_type": "code",
   "execution_count": 2,
   "id": "4a0a5d74",
   "metadata": {
    "execution": {
     "iopub.execute_input": "2024-03-22T09:41:24.151141Z",
     "iopub.status.busy": "2024-03-22T09:41:24.150556Z",
     "iopub.status.idle": "2024-03-22T09:41:24.218066Z",
     "shell.execute_reply": "2024-03-22T09:41:24.216200Z"
    },
    "papermill": {
     "duration": 0.079364,
     "end_time": "2024-03-22T09:41:24.220783",
     "exception": false,
     "start_time": "2024-03-22T09:41:24.141419",
     "status": "completed"
    },
    "tags": []
   },
   "outputs": [
    {
     "data": {
      "text/html": [
       "<div>\n",
       "<style scoped>\n",
       "    .dataframe tbody tr th:only-of-type {\n",
       "        vertical-align: middle;\n",
       "    }\n",
       "\n",
       "    .dataframe tbody tr th {\n",
       "        vertical-align: top;\n",
       "    }\n",
       "\n",
       "    .dataframe thead th {\n",
       "        text-align: right;\n",
       "    }\n",
       "</style>\n",
       "<table border=\"1\" class=\"dataframe\">\n",
       "  <thead>\n",
       "    <tr style=\"text-align: right;\">\n",
       "      <th></th>\n",
       "      <th>Movie Name</th>\n",
       "      <th>Release Period</th>\n",
       "      <th>Whether Remake</th>\n",
       "      <th>Whether Franchise</th>\n",
       "      <th>Genre</th>\n",
       "      <th>New Actor</th>\n",
       "      <th>New Director</th>\n",
       "      <th>New Music Director</th>\n",
       "      <th>Lead Star</th>\n",
       "      <th>Director</th>\n",
       "      <th>Music Director</th>\n",
       "      <th>Number of Screens</th>\n",
       "      <th>Revenue(INR)</th>\n",
       "      <th>Budget(INR)</th>\n",
       "    </tr>\n",
       "  </thead>\n",
       "  <tbody>\n",
       "    <tr>\n",
       "      <th>0</th>\n",
       "      <td>Golden Boys</td>\n",
       "      <td>Normal</td>\n",
       "      <td>No</td>\n",
       "      <td>No</td>\n",
       "      <td>suspense</td>\n",
       "      <td>Yes</td>\n",
       "      <td>No</td>\n",
       "      <td>No</td>\n",
       "      <td>Jeet Goswami</td>\n",
       "      <td>Ravi Varma</td>\n",
       "      <td>Baba Jagirdar</td>\n",
       "      <td>5</td>\n",
       "      <td>5000000</td>\n",
       "      <td>85000</td>\n",
       "    </tr>\n",
       "    <tr>\n",
       "      <th>1</th>\n",
       "      <td>Kaccha Limboo</td>\n",
       "      <td>Holiday</td>\n",
       "      <td>No</td>\n",
       "      <td>No</td>\n",
       "      <td>drama</td>\n",
       "      <td>Yes</td>\n",
       "      <td>No</td>\n",
       "      <td>Yes</td>\n",
       "      <td>Karan Bhanushali</td>\n",
       "      <td>Sagar Ballary</td>\n",
       "      <td>Amardeep Nijjer</td>\n",
       "      <td>75</td>\n",
       "      <td>15000000</td>\n",
       "      <td>825000</td>\n",
       "    </tr>\n",
       "    <tr>\n",
       "      <th>2</th>\n",
       "      <td>Not A Love Story</td>\n",
       "      <td>Holiday</td>\n",
       "      <td>No</td>\n",
       "      <td>No</td>\n",
       "      <td>thriller</td>\n",
       "      <td>No</td>\n",
       "      <td>No</td>\n",
       "      <td>No</td>\n",
       "      <td>Mahie Gill</td>\n",
       "      <td>Ram Gopal Verma</td>\n",
       "      <td>Sandeep Chowta</td>\n",
       "      <td>525</td>\n",
       "      <td>75000000</td>\n",
       "      <td>56700000</td>\n",
       "    </tr>\n",
       "    <tr>\n",
       "      <th>3</th>\n",
       "      <td>Qaidi Band</td>\n",
       "      <td>Holiday</td>\n",
       "      <td>No</td>\n",
       "      <td>No</td>\n",
       "      <td>drama</td>\n",
       "      <td>Yes</td>\n",
       "      <td>No</td>\n",
       "      <td>No</td>\n",
       "      <td>Aadar Jain</td>\n",
       "      <td>Habib Faisal</td>\n",
       "      <td>Amit Trivedi</td>\n",
       "      <td>800</td>\n",
       "      <td>210000000</td>\n",
       "      <td>4500000</td>\n",
       "    </tr>\n",
       "    <tr>\n",
       "      <th>4</th>\n",
       "      <td>Chaatwali</td>\n",
       "      <td>Holiday</td>\n",
       "      <td>No</td>\n",
       "      <td>No</td>\n",
       "      <td>adult</td>\n",
       "      <td>Yes</td>\n",
       "      <td>Yes</td>\n",
       "      <td>Yes</td>\n",
       "      <td>Aadil Khan</td>\n",
       "      <td>Aadil Khan</td>\n",
       "      <td>Babloo Ustad</td>\n",
       "      <td>1</td>\n",
       "      <td>1000000</td>\n",
       "      <td>1075000</td>\n",
       "    </tr>\n",
       "  </tbody>\n",
       "</table>\n",
       "</div>"
      ],
      "text/plain": [
       "         Movie Name Release Period Whether Remake Whether Franchise     Genre  \\\n",
       "0       Golden Boys         Normal             No                No  suspense   \n",
       "1     Kaccha Limboo        Holiday             No                No     drama   \n",
       "2  Not A Love Story        Holiday             No                No  thriller   \n",
       "3        Qaidi Band        Holiday             No                No     drama   \n",
       "4         Chaatwali        Holiday             No                No     adult   \n",
       "\n",
       "  New Actor New Director New Music Director         Lead Star  \\\n",
       "0       Yes           No                 No      Jeet Goswami   \n",
       "1       Yes           No                Yes  Karan Bhanushali   \n",
       "2        No           No                 No        Mahie Gill   \n",
       "3       Yes           No                 No        Aadar Jain   \n",
       "4       Yes          Yes                Yes        Aadil Khan   \n",
       "\n",
       "          Director   Music Director  Number of Screens  Revenue(INR)  \\\n",
       "0       Ravi Varma    Baba Jagirdar                  5       5000000   \n",
       "1    Sagar Ballary  Amardeep Nijjer                 75      15000000   \n",
       "2  Ram Gopal Verma   Sandeep Chowta                525      75000000   \n",
       "3     Habib Faisal     Amit Trivedi                800     210000000   \n",
       "4       Aadil Khan     Babloo Ustad                  1       1000000   \n",
       "\n",
       "   Budget(INR)  \n",
       "0        85000  \n",
       "1       825000  \n",
       "2     56700000  \n",
       "3      4500000  \n",
       "4      1075000  "
      ]
     },
     "execution_count": 2,
     "metadata": {},
     "output_type": "execute_result"
    }
   ],
   "source": [
    "df = pd.read_csv(\"/kaggle/input/bollywood-movies-dataset/Data for repository.csv\")\n",
    "df.head()"
   ]
  },
  {
   "cell_type": "code",
   "execution_count": 3,
   "id": "9015d686",
   "metadata": {
    "execution": {
     "iopub.execute_input": "2024-03-22T09:41:24.240516Z",
     "iopub.status.busy": "2024-03-22T09:41:24.238834Z",
     "iopub.status.idle": "2024-03-22T09:41:24.250272Z",
     "shell.execute_reply": "2024-03-22T09:41:24.246415Z"
    },
    "papermill": {
     "duration": 0.024604,
     "end_time": "2024-03-22T09:41:24.253751",
     "exception": false,
     "start_time": "2024-03-22T09:41:24.229147",
     "status": "completed"
    },
    "tags": []
   },
   "outputs": [
    {
     "data": {
      "text/plain": [
       "['Movie Name',\n",
       " 'Release Period',\n",
       " 'Whether Remake',\n",
       " 'Whether Franchise',\n",
       " 'Genre',\n",
       " 'New Actor',\n",
       " 'New Director',\n",
       " 'New Music Director',\n",
       " 'Lead Star',\n",
       " 'Director',\n",
       " 'Music Director',\n",
       " 'Number of Screens',\n",
       " 'Revenue(INR)',\n",
       " 'Budget(INR)']"
      ]
     },
     "execution_count": 3,
     "metadata": {},
     "output_type": "execute_result"
    }
   ],
   "source": [
    "list(df.columns)"
   ]
  },
  {
   "cell_type": "code",
   "execution_count": 4,
   "id": "316a5082",
   "metadata": {
    "execution": {
     "iopub.execute_input": "2024-03-22T09:41:24.272368Z",
     "iopub.status.busy": "2024-03-22T09:41:24.271999Z",
     "iopub.status.idle": "2024-03-22T09:41:24.284118Z",
     "shell.execute_reply": "2024-03-22T09:41:24.282354Z"
    },
    "papermill": {
     "duration": 0.024594,
     "end_time": "2024-03-22T09:41:24.286906",
     "exception": false,
     "start_time": "2024-03-22T09:41:24.262312",
     "status": "completed"
    },
    "tags": []
   },
   "outputs": [
    {
     "data": {
      "text/plain": [
       "150167388.10365134"
      ]
     },
     "execution_count": 4,
     "metadata": {},
     "output_type": "execute_result"
    }
   ],
   "source": [
    "# What is the average revenue for all movies in the dataset?\n",
    "df['Revenue(INR)'].mean()"
   ]
  },
  {
   "cell_type": "code",
   "execution_count": 5,
   "id": "26788dd9",
   "metadata": {
    "execution": {
     "iopub.execute_input": "2024-03-22T09:41:24.304819Z",
     "iopub.status.busy": "2024-03-22T09:41:24.304366Z",
     "iopub.status.idle": "2024-03-22T09:41:24.320284Z",
     "shell.execute_reply": "2024-03-22T09:41:24.317853Z"
    },
    "papermill": {
     "duration": 0.028483,
     "end_time": "2024-03-22T09:41:24.323505",
     "exception": false,
     "start_time": "2024-03-22T09:41:24.295022",
     "status": "completed"
    },
    "tags": []
   },
   "outputs": [
    {
     "name": "stdout",
     "output_type": "stream",
     "text": [
      "Total Genres : 14\n",
      "Genres : ['suspense', 'drama', 'thriller', 'adult', 'comedy', 'action', 'love_story', 'rom__com', 'horror', 'fantasy', 'masala', 'mythological', 'animation', 'documentary']\n"
     ]
    }
   ],
   "source": [
    "# How many unique movie genres are there?\n",
    "print(\"Total Genres :\",len(list(df['Genre'].unique())))\n",
    "print(\"Genres :\",list(df['Genre'].unique()))"
   ]
  },
  {
   "cell_type": "code",
   "execution_count": 6,
   "id": "e2dd5607",
   "metadata": {
    "execution": {
     "iopub.execute_input": "2024-03-22T09:41:24.342544Z",
     "iopub.status.busy": "2024-03-22T09:41:24.342161Z",
     "iopub.status.idle": "2024-03-22T09:41:24.361352Z",
     "shell.execute_reply": "2024-03-22T09:41:24.360423Z"
    },
    "papermill": {
     "duration": 0.032162,
     "end_time": "2024-03-22T09:41:24.364355",
     "exception": false,
     "start_time": "2024-03-22T09:41:24.332193",
     "status": "completed"
    },
    "tags": []
   },
   "outputs": [
    {
     "data": {
      "text/plain": [
       "Genre\n",
       "action          43936750000\n",
       "adult             308700000\n",
       "animation         292500000\n",
       "comedy          43370500000\n",
       "documentary       390000000\n",
       "drama           70477075000\n",
       "fantasy          2595000000\n",
       "horror           3768500000\n",
       "love_story      20539500000\n",
       "masala          16040000000\n",
       "mythological      129000000\n",
       "rom__com        18935700000\n",
       "suspense         1162500000\n",
       "thriller        33038500000\n",
       "Name: Revenue(INR), dtype: int64"
      ]
     },
     "execution_count": 6,
     "metadata": {},
     "output_type": "execute_result"
    }
   ],
   "source": [
    "# Calculate the total revenue for each genre\n",
    "df.groupby('Genre')['Revenue(INR)'].sum()"
   ]
  },
  {
   "cell_type": "code",
   "execution_count": 7,
   "id": "ec9dc847",
   "metadata": {
    "execution": {
     "iopub.execute_input": "2024-03-22T09:41:24.385006Z",
     "iopub.status.busy": "2024-03-22T09:41:24.384559Z",
     "iopub.status.idle": "2024-03-22T09:41:24.406244Z",
     "shell.execute_reply": "2024-03-22T09:41:24.403975Z"
    },
    "papermill": {
     "duration": 0.034993,
     "end_time": "2024-03-22T09:41:24.409210",
     "exception": false,
     "start_time": "2024-03-22T09:41:24.374217",
     "status": "completed"
    },
    "tags": []
   },
   "outputs": [
    {
     "data": {
      "text/html": [
       "<div>\n",
       "<style scoped>\n",
       "    .dataframe tbody tr th:only-of-type {\n",
       "        vertical-align: middle;\n",
       "    }\n",
       "\n",
       "    .dataframe tbody tr th {\n",
       "        vertical-align: top;\n",
       "    }\n",
       "\n",
       "    .dataframe thead th {\n",
       "        text-align: right;\n",
       "    }\n",
       "</style>\n",
       "<table border=\"1\" class=\"dataframe\">\n",
       "  <thead>\n",
       "    <tr style=\"text-align: right;\">\n",
       "      <th></th>\n",
       "      <th>Movie Name</th>\n",
       "      <th>Release Period</th>\n",
       "      <th>Whether Remake</th>\n",
       "      <th>Whether Franchise</th>\n",
       "      <th>Genre</th>\n",
       "      <th>New Actor</th>\n",
       "      <th>New Director</th>\n",
       "      <th>New Music Director</th>\n",
       "      <th>Lead Star</th>\n",
       "      <th>Director</th>\n",
       "      <th>Music Director</th>\n",
       "      <th>Number of Screens</th>\n",
       "      <th>Revenue(INR)</th>\n",
       "      <th>Budget(INR)</th>\n",
       "    </tr>\n",
       "  </thead>\n",
       "  <tbody>\n",
       "    <tr>\n",
       "      <th>1240</th>\n",
       "      <td>Tiger Zinda Hai</td>\n",
       "      <td>Holiday</td>\n",
       "      <td>No</td>\n",
       "      <td>Yes</td>\n",
       "      <td>action</td>\n",
       "      <td>No</td>\n",
       "      <td>No</td>\n",
       "      <td>No</td>\n",
       "      <td>Salman Khan</td>\n",
       "      <td>Ali Abbas Zafar</td>\n",
       "      <td>Vishal - Shekhar</td>\n",
       "      <td>4600</td>\n",
       "      <td>2100000000</td>\n",
       "      <td>5651020000</td>\n",
       "    </tr>\n",
       "  </tbody>\n",
       "</table>\n",
       "</div>"
      ],
      "text/plain": [
       "           Movie Name Release Period Whether Remake Whether Franchise   Genre  \\\n",
       "1240  Tiger Zinda Hai        Holiday             No               Yes  action   \n",
       "\n",
       "     New Actor New Director New Music Director    Lead Star         Director  \\\n",
       "1240        No           No                 No  Salman Khan  Ali Abbas Zafar   \n",
       "\n",
       "        Music Director  Number of Screens  Revenue(INR)  Budget(INR)  \n",
       "1240  Vishal - Shekhar               4600    2100000000   5651020000  "
      ]
     },
     "execution_count": 7,
     "metadata": {},
     "output_type": "execute_result"
    }
   ],
   "source": [
    "# Find the movie with the highest revenue.\n",
    "df[df['Revenue(INR)'] == df['Revenue(INR)'].max()]\n",
    "#sorted(df['Revenue(INR)'])[-1] #2100000000"
   ]
  },
  {
   "cell_type": "code",
   "execution_count": 8,
   "id": "2a7163cd",
   "metadata": {
    "execution": {
     "iopub.execute_input": "2024-03-22T09:41:24.429705Z",
     "iopub.status.busy": "2024-03-22T09:41:24.428968Z",
     "iopub.status.idle": "2024-03-22T09:41:24.444541Z",
     "shell.execute_reply": "2024-03-22T09:41:24.442866Z"
    },
    "papermill": {
     "duration": 0.029187,
     "end_time": "2024-03-22T09:41:24.447442",
     "exception": false,
     "start_time": "2024-03-22T09:41:24.418255",
     "status": "completed"
    },
    "tags": []
   },
   "outputs": [
    {
     "data": {
      "text/plain": [
       "Lead Star\n",
       "Akshay Kumar        48\n",
       "Ajay Devgn          35\n",
       "Emraan Hashmi       27\n",
       "Salman Khan         27\n",
       "Amitabh Bachchan    21\n",
       "Name: count, dtype: int64"
      ]
     },
     "execution_count": 8,
     "metadata": {},
     "output_type": "execute_result"
    }
   ],
   "source": [
    "# Identify the most common lead star in the dataset.\n",
    "df['Lead Star'].value_counts().head()"
   ]
  },
  {
   "cell_type": "code",
   "execution_count": 9,
   "id": "705562d8",
   "metadata": {
    "execution": {
     "iopub.execute_input": "2024-03-22T09:41:24.468058Z",
     "iopub.status.busy": "2024-03-22T09:41:24.467616Z",
     "iopub.status.idle": "2024-03-22T09:41:24.480546Z",
     "shell.execute_reply": "2024-03-22T09:41:24.479136Z"
    },
    "papermill": {
     "duration": 0.028052,
     "end_time": "2024-03-22T09:41:24.484667",
     "exception": false,
     "start_time": "2024-03-22T09:41:24.456615",
     "status": "completed"
    },
    "tags": []
   },
   "outputs": [
    {
     "data": {
      "text/plain": [
       "210000000.0"
      ]
     },
     "execution_count": 9,
     "metadata": {},
     "output_type": "execute_result"
    }
   ],
   "source": [
    "# What is the median revenue for movies in the 'Action' genre?\n",
    "df[df[\"Genre\"] == \"action\"][\"Revenue(INR)\"].median()"
   ]
  },
  {
   "cell_type": "code",
   "execution_count": 10,
   "id": "3710b040",
   "metadata": {
    "execution": {
     "iopub.execute_input": "2024-03-22T09:41:24.505827Z",
     "iopub.status.busy": "2024-03-22T09:41:24.505373Z",
     "iopub.status.idle": "2024-03-22T09:41:24.516163Z",
     "shell.execute_reply": "2024-03-22T09:41:24.514827Z"
    },
    "papermill": {
     "duration": 0.023508,
     "end_time": "2024-03-22T09:41:24.518205",
     "exception": false,
     "start_time": "2024-03-22T09:41:24.494697",
     "status": "completed"
    },
    "tags": []
   },
   "outputs": [
    {
     "name": "stdout",
     "output_type": "stream",
     "text": [
      "Total movies in dataset : 1698\n",
      "Total remakes : 71\n",
      "Total non-remakes : 1627\n"
     ]
    }
   ],
   "source": [
    "# How many movies are remakes, and how many are not?\n",
    "print(\"Total movies in dataset :\", len(df))\n",
    "print(\"Total remakes :\",len(df[df[\"Whether Remake\"] == \"Yes\"]))\n",
    "print(\"Total non-remakes :\",len(df[df[\"Whether Remake\"] == \"No\"]))\n",
    "\n"
   ]
  },
  {
   "cell_type": "code",
   "execution_count": 11,
   "id": "83bb9129",
   "metadata": {
    "execution": {
     "iopub.execute_input": "2024-03-22T09:41:24.538068Z",
     "iopub.status.busy": "2024-03-22T09:41:24.537614Z",
     "iopub.status.idle": "2024-03-22T09:41:24.552292Z",
     "shell.execute_reply": "2024-03-22T09:41:24.550745Z"
    },
    "papermill": {
     "duration": 0.028369,
     "end_time": "2024-03-22T09:41:24.555437",
     "exception": false,
     "start_time": "2024-03-22T09:41:24.527068",
     "status": "completed"
    },
    "tags": []
   },
   "outputs": [
    {
     "data": {
      "text/plain": [
       "Release Period\n",
       "Holiday    1.982476e+08\n",
       "Normal     1.215181e+08\n",
       "Name: Revenue(INR), dtype: float64"
      ]
     },
     "execution_count": 11,
     "metadata": {},
     "output_type": "execute_result"
    }
   ],
   "source": [
    "# Calculate the average revenue for movies in each release period.\n",
    "df.groupby(\"Release Period\")[\"Revenue(INR)\"].mean()"
   ]
  },
  {
   "cell_type": "code",
   "execution_count": 12,
   "id": "619437aa",
   "metadata": {
    "execution": {
     "iopub.execute_input": "2024-03-22T09:41:24.577112Z",
     "iopub.status.busy": "2024-03-22T09:41:24.576677Z",
     "iopub.status.idle": "2024-03-22T09:41:24.600194Z",
     "shell.execute_reply": "2024-03-22T09:41:24.599183Z"
    },
    "papermill": {
     "duration": 0.03777,
     "end_time": "2024-03-22T09:41:24.602727",
     "exception": false,
     "start_time": "2024-03-22T09:41:24.564957",
     "status": "completed"
    },
    "tags": []
   },
   "outputs": [
    {
     "data": {
      "text/html": [
       "<div>\n",
       "<style scoped>\n",
       "    .dataframe tbody tr th:only-of-type {\n",
       "        vertical-align: middle;\n",
       "    }\n",
       "\n",
       "    .dataframe tbody tr th {\n",
       "        vertical-align: top;\n",
       "    }\n",
       "\n",
       "    .dataframe thead th {\n",
       "        text-align: right;\n",
       "    }\n",
       "</style>\n",
       "<table border=\"1\" class=\"dataframe\">\n",
       "  <thead>\n",
       "    <tr style=\"text-align: right;\">\n",
       "      <th></th>\n",
       "      <th>Movie Name</th>\n",
       "      <th>Release Period</th>\n",
       "      <th>Whether Remake</th>\n",
       "      <th>Whether Franchise</th>\n",
       "      <th>Genre</th>\n",
       "      <th>New Actor</th>\n",
       "      <th>New Director</th>\n",
       "      <th>New Music Director</th>\n",
       "      <th>Lead Star</th>\n",
       "      <th>Director</th>\n",
       "      <th>Music Director</th>\n",
       "      <th>Number of Screens</th>\n",
       "      <th>Revenue(INR)</th>\n",
       "      <th>Budget(INR)</th>\n",
       "    </tr>\n",
       "  </thead>\n",
       "  <tbody>\n",
       "    <tr>\n",
       "      <th>1240</th>\n",
       "      <td>Tiger Zinda Hai</td>\n",
       "      <td>Holiday</td>\n",
       "      <td>No</td>\n",
       "      <td>Yes</td>\n",
       "      <td>action</td>\n",
       "      <td>No</td>\n",
       "      <td>No</td>\n",
       "      <td>No</td>\n",
       "      <td>Salman Khan</td>\n",
       "      <td>Ali Abbas Zafar</td>\n",
       "      <td>Vishal - Shekhar</td>\n",
       "      <td>4600</td>\n",
       "      <td>2100000000</td>\n",
       "      <td>5651020000</td>\n",
       "    </tr>\n",
       "  </tbody>\n",
       "</table>\n",
       "</div>"
      ],
      "text/plain": [
       "           Movie Name Release Period Whether Remake Whether Franchise   Genre  \\\n",
       "1240  Tiger Zinda Hai        Holiday             No               Yes  action   \n",
       "\n",
       "     New Actor New Director New Music Director    Lead Star         Director  \\\n",
       "1240        No           No                 No  Salman Khan  Ali Abbas Zafar   \n",
       "\n",
       "        Music Director  Number of Screens  Revenue(INR)  Budget(INR)  \n",
       "1240  Vishal - Shekhar               4600    2100000000   5651020000  "
      ]
     },
     "execution_count": 12,
     "metadata": {},
     "output_type": "execute_result"
    }
   ],
   "source": [
    "\n",
    "# Identify the movie with the highest number of screens.\n",
    "df[df[\"Number of Screens\"] == df[\"Number of Screens\"].max()]"
   ]
  },
  {
   "cell_type": "code",
   "execution_count": 13,
   "id": "fc41c6b4",
   "metadata": {
    "execution": {
     "iopub.execute_input": "2024-03-22T09:41:24.630905Z",
     "iopub.status.busy": "2024-03-22T09:41:24.630392Z",
     "iopub.status.idle": "2024-03-22T09:41:24.652528Z",
     "shell.execute_reply": "2024-03-22T09:41:24.650629Z"
    },
    "papermill": {
     "duration": 0.040828,
     "end_time": "2024-03-22T09:41:24.656481",
     "exception": false,
     "start_time": "2024-03-22T09:41:24.615653",
     "status": "completed"
    },
    "tags": []
   },
   "outputs": [
    {
     "data": {
      "text/html": [
       "<div>\n",
       "<style scoped>\n",
       "    .dataframe tbody tr th:only-of-type {\n",
       "        vertical-align: middle;\n",
       "    }\n",
       "\n",
       "    .dataframe tbody tr th {\n",
       "        vertical-align: top;\n",
       "    }\n",
       "\n",
       "    .dataframe thead th {\n",
       "        text-align: right;\n",
       "    }\n",
       "</style>\n",
       "<table border=\"1\" class=\"dataframe\">\n",
       "  <thead>\n",
       "    <tr style=\"text-align: right;\">\n",
       "      <th></th>\n",
       "      <th>Director</th>\n",
       "      <th>Revenue(INR)</th>\n",
       "    </tr>\n",
       "  </thead>\n",
       "  <tbody>\n",
       "    <tr>\n",
       "      <th>740</th>\n",
       "      <td>S.S. Rajamouli</td>\n",
       "      <td>1.825000e+09</td>\n",
       "    </tr>\n",
       "    <tr>\n",
       "      <th>759</th>\n",
       "      <td>Sajid Nadiadwala</td>\n",
       "      <td>1.400000e+09</td>\n",
       "    </tr>\n",
       "    <tr>\n",
       "      <th>65</th>\n",
       "      <td>Ali Abbas Zafar</td>\n",
       "      <td>1.095000e+09</td>\n",
       "    </tr>\n",
       "    <tr>\n",
       "      <th>992</th>\n",
       "      <td>Vijay Krishna Acharya</td>\n",
       "      <td>1.030000e+09</td>\n",
       "    </tr>\n",
       "    <tr>\n",
       "      <th>896</th>\n",
       "      <td>Sooraj Barjatya</td>\n",
       "      <td>9.400000e+08</td>\n",
       "    </tr>\n",
       "  </tbody>\n",
       "</table>\n",
       "</div>"
      ],
      "text/plain": [
       "                  Director  Revenue(INR)\n",
       "740         S.S. Rajamouli  1.825000e+09\n",
       "759       Sajid Nadiadwala  1.400000e+09\n",
       "65         Ali Abbas Zafar  1.095000e+09\n",
       "992  Vijay Krishna Acharya  1.030000e+09\n",
       "896        Sooraj Barjatya  9.400000e+08"
      ]
     },
     "execution_count": 13,
     "metadata": {},
     "output_type": "execute_result"
    }
   ],
   "source": [
    "# Find the top 5 directors with the highest average revenue.\n",
    "\n",
    "df.groupby(\"Director\")[\"Revenue(INR)\"].mean()\n",
    "#df.sort_values(by='Column_Name')\n",
    "\n",
    "director_revenue = df.groupby(\"Director\")[\"Revenue(INR)\"].mean().reset_index()\n",
    "director_revenue_sorted = director_revenue.sort_values(by=\"Revenue(INR)\", ascending=False)\n",
    "director_revenue_sorted.head()\n"
   ]
  },
  {
   "cell_type": "code",
   "execution_count": 14,
   "id": "2adf6ae4",
   "metadata": {
    "execution": {
     "iopub.execute_input": "2024-03-22T09:41:24.678597Z",
     "iopub.status.busy": "2024-03-22T09:41:24.678128Z",
     "iopub.status.idle": "2024-03-22T09:41:24.691202Z",
     "shell.execute_reply": "2024-03-22T09:41:24.688991Z"
    },
    "papermill": {
     "duration": 0.027716,
     "end_time": "2024-03-22T09:41:24.694568",
     "exception": false,
     "start_time": "2024-03-22T09:41:24.666852",
     "status": "completed"
    },
    "tags": []
   },
   "outputs": [
    {
     "data": {
      "text/plain": [
       "290000000.0"
      ]
     },
     "execution_count": 14,
     "metadata": {},
     "output_type": "execute_result"
    }
   ],
   "source": [
    "# What is the median revenue for movies that belong to a franchise?\n",
    "df[df[\"Whether Franchise\"] == \"Yes\"][\"Revenue(INR)\"].median()"
   ]
  },
  {
   "cell_type": "code",
   "execution_count": 15,
   "id": "d10390c4",
   "metadata": {
    "execution": {
     "iopub.execute_input": "2024-03-22T09:41:24.716743Z",
     "iopub.status.busy": "2024-03-22T09:41:24.716302Z",
     "iopub.status.idle": "2024-03-22T09:41:24.726164Z",
     "shell.execute_reply": "2024-03-22T09:41:24.724599Z"
    },
    "papermill": {
     "duration": 0.023494,
     "end_time": "2024-03-22T09:41:24.728647",
     "exception": false,
     "start_time": "2024-03-22T09:41:24.705153",
     "status": "completed"
    },
    "tags": []
   },
   "outputs": [
    {
     "name": "stdout",
     "output_type": "stream",
     "text": [
      "Total Movies : 1698\n",
      "Total movies in Ech period\n"
     ]
    },
    {
     "data": {
      "text/plain": [
       "Release Period\n",
       "Normal     1064\n",
       "Holiday     634\n",
       "Name: count, dtype: int64"
      ]
     },
     "execution_count": 15,
     "metadata": {},
     "output_type": "execute_result"
    }
   ],
   "source": [
    "# How many movies were released in each period?\n",
    "print(\"Total Movies :\", len(df))\n",
    "print(\"Total movies in Ech period\")\n",
    "df[\"Release Period\"].value_counts()"
   ]
  },
  {
   "cell_type": "code",
   "execution_count": 16,
   "id": "60605eef",
   "metadata": {
    "execution": {
     "iopub.execute_input": "2024-03-22T09:41:24.750343Z",
     "iopub.status.busy": "2024-03-22T09:41:24.749946Z",
     "iopub.status.idle": "2024-03-22T09:41:24.761619Z",
     "shell.execute_reply": "2024-03-22T09:41:24.759692Z"
    },
    "papermill": {
     "duration": 0.026184,
     "end_time": "2024-03-22T09:41:24.764785",
     "exception": false,
     "start_time": "2024-03-22T09:41:24.738601",
     "status": "completed"
    },
    "tags": []
   },
   "outputs": [
    {
     "name": "stdout",
     "output_type": "stream",
     "text": [
      "With new actor: 49675604.395604394\n",
      "Without new actor: 186952393.40305713\n"
     ]
    }
   ],
   "source": [
    "# Calculate the average revenue for movies with a new actor versus those without a new actor.\n",
    "\n",
    "print(\"With new actor:\", df[df[\"New Actor\"] == \"Yes\"][\"Revenue(INR)\"].mean())\n",
    "print(\"Without new actor:\", df[df[\"New Actor\"] == \"No\"][\"Revenue(INR)\"].mean())"
   ]
  },
  {
   "cell_type": "code",
   "execution_count": 17,
   "id": "885b01ac",
   "metadata": {
    "execution": {
     "iopub.execute_input": "2024-03-22T09:41:24.786575Z",
     "iopub.status.busy": "2024-03-22T09:41:24.786231Z",
     "iopub.status.idle": "2024-03-22T09:41:24.800490Z",
     "shell.execute_reply": "2024-03-22T09:41:24.798324Z"
    },
    "papermill": {
     "duration": 0.028596,
     "end_time": "2024-03-22T09:41:24.803707",
     "exception": false,
     "start_time": "2024-03-22T09:41:24.775111",
     "status": "completed"
    },
    "tags": []
   },
   "outputs": [
    {
     "data": {
      "text/html": [
       "<div>\n",
       "<style scoped>\n",
       "    .dataframe tbody tr th:only-of-type {\n",
       "        vertical-align: middle;\n",
       "    }\n",
       "\n",
       "    .dataframe tbody tr th {\n",
       "        vertical-align: top;\n",
       "    }\n",
       "\n",
       "    .dataframe thead th {\n",
       "        text-align: right;\n",
       "    }\n",
       "</style>\n",
       "<table border=\"1\" class=\"dataframe\">\n",
       "  <thead>\n",
       "    <tr style=\"text-align: right;\">\n",
       "      <th></th>\n",
       "      <th>Music Director</th>\n",
       "      <th>count</th>\n",
       "    </tr>\n",
       "  </thead>\n",
       "  <tbody>\n",
       "    <tr>\n",
       "      <th>0</th>\n",
       "      <td>Pritam</td>\n",
       "      <td>92</td>\n",
       "    </tr>\n",
       "  </tbody>\n",
       "</table>\n",
       "</div>"
      ],
      "text/plain": [
       "  Music Director  count\n",
       "0         Pritam     92"
      ]
     },
     "execution_count": 17,
     "metadata": {},
     "output_type": "execute_result"
    }
   ],
   "source": [
    "\n",
    "# Determine the most frequent music director in the dataset.\n",
    "df[\"Music Director\"].value_counts().sort_values(ascending=False).head().reset_index()[0:1]"
   ]
  },
  {
   "cell_type": "code",
   "execution_count": 18,
   "id": "48d141ca",
   "metadata": {
    "execution": {
     "iopub.execute_input": "2024-03-22T09:41:24.825946Z",
     "iopub.status.busy": "2024-03-22T09:41:24.825505Z",
     "iopub.status.idle": "2024-03-22T09:41:24.835240Z",
     "shell.execute_reply": "2024-03-22T09:41:24.833905Z"
    },
    "papermill": {
     "duration": 0.024788,
     "end_time": "2024-03-22T09:41:24.838400",
     "exception": false,
     "start_time": "2024-03-22T09:41:24.813612",
     "status": "completed"
    },
    "tags": []
   },
   "outputs": [
    {
     "data": {
      "text/plain": [
       "75523314.9509804"
      ]
     },
     "execution_count": 18,
     "metadata": {},
     "output_type": "execute_result"
    }
   ],
   "source": [
    "\n",
    "# What is the average revenue for movies with a new director?\n",
    "df[df[\"New Director\"] == \"Yes\"][\"Revenue(INR)\"].mean()"
   ]
  },
  {
   "cell_type": "code",
   "execution_count": 19,
   "id": "ecf187ec",
   "metadata": {
    "execution": {
     "iopub.execute_input": "2024-03-22T09:41:24.860871Z",
     "iopub.status.busy": "2024-03-22T09:41:24.860459Z",
     "iopub.status.idle": "2024-03-22T09:41:24.880670Z",
     "shell.execute_reply": "2024-03-22T09:41:24.879287Z"
    },
    "papermill": {
     "duration": 0.035322,
     "end_time": "2024-03-22T09:41:24.883797",
     "exception": false,
     "start_time": "2024-03-22T09:41:24.848475",
     "status": "completed"
    },
    "tags": []
   },
   "outputs": [
    {
     "data": {
      "text/html": [
       "<div>\n",
       "<style scoped>\n",
       "    .dataframe tbody tr th:only-of-type {\n",
       "        vertical-align: middle;\n",
       "    }\n",
       "\n",
       "    .dataframe tbody tr th {\n",
       "        vertical-align: top;\n",
       "    }\n",
       "\n",
       "    .dataframe thead th {\n",
       "        text-align: right;\n",
       "    }\n",
       "</style>\n",
       "<table border=\"1\" class=\"dataframe\">\n",
       "  <thead>\n",
       "    <tr style=\"text-align: right;\">\n",
       "      <th></th>\n",
       "      <th>Movie Name</th>\n",
       "      <th>Release Period</th>\n",
       "      <th>Whether Remake</th>\n",
       "      <th>Whether Franchise</th>\n",
       "      <th>Genre</th>\n",
       "      <th>New Actor</th>\n",
       "      <th>New Director</th>\n",
       "      <th>New Music Director</th>\n",
       "      <th>Lead Star</th>\n",
       "      <th>Director</th>\n",
       "      <th>Music Director</th>\n",
       "      <th>Number of Screens</th>\n",
       "      <th>Revenue(INR)</th>\n",
       "      <th>Budget(INR)</th>\n",
       "    </tr>\n",
       "  </thead>\n",
       "  <tbody>\n",
       "    <tr>\n",
       "      <th>4</th>\n",
       "      <td>Chaatwali</td>\n",
       "      <td>Holiday</td>\n",
       "      <td>No</td>\n",
       "      <td>No</td>\n",
       "      <td>adult</td>\n",
       "      <td>Yes</td>\n",
       "      <td>Yes</td>\n",
       "      <td>Yes</td>\n",
       "      <td>Aadil Khan</td>\n",
       "      <td>Aadil Khan</td>\n",
       "      <td>Babloo Ustad</td>\n",
       "      <td>1</td>\n",
       "      <td>1000000</td>\n",
       "      <td>1075000</td>\n",
       "    </tr>\n",
       "    <tr>\n",
       "      <th>5</th>\n",
       "      <td>Shuttlecock Boys</td>\n",
       "      <td>Normal</td>\n",
       "      <td>No</td>\n",
       "      <td>No</td>\n",
       "      <td>comedy</td>\n",
       "      <td>Yes</td>\n",
       "      <td>Yes</td>\n",
       "      <td>Yes</td>\n",
       "      <td>Aakar Kaushik</td>\n",
       "      <td>Hemant Gaba</td>\n",
       "      <td>Avinash Baghel</td>\n",
       "      <td>10</td>\n",
       "      <td>5000000</td>\n",
       "      <td>170000</td>\n",
       "    </tr>\n",
       "    <tr>\n",
       "      <th>18</th>\n",
       "      <td>Pyaar Mein Aisa Hota Hai</td>\n",
       "      <td>Holiday</td>\n",
       "      <td>No</td>\n",
       "      <td>No</td>\n",
       "      <td>thriller</td>\n",
       "      <td>Yes</td>\n",
       "      <td>Yes</td>\n",
       "      <td>Yes</td>\n",
       "      <td>Aanamika Bawa</td>\n",
       "      <td>Rajesh Kumar</td>\n",
       "      <td>Shabab Azmi</td>\n",
       "      <td>5</td>\n",
       "      <td>5500000</td>\n",
       "      <td>350000</td>\n",
       "    </tr>\n",
       "    <tr>\n",
       "      <th>19</th>\n",
       "      <td>Gurjar Aandolan - A Fight For Right</td>\n",
       "      <td>Normal</td>\n",
       "      <td>No</td>\n",
       "      <td>No</td>\n",
       "      <td>drama</td>\n",
       "      <td>Yes</td>\n",
       "      <td>Yes</td>\n",
       "      <td>Yes</td>\n",
       "      <td>Aarun Nagar</td>\n",
       "      <td>Aarun Nagar</td>\n",
       "      <td>Ashish Donald</td>\n",
       "      <td>5</td>\n",
       "      <td>6500000</td>\n",
       "      <td>575000</td>\n",
       "    </tr>\n",
       "    <tr>\n",
       "      <th>22</th>\n",
       "      <td>Dreams - Sapnay Sach Honge...</td>\n",
       "      <td>Holiday</td>\n",
       "      <td>No</td>\n",
       "      <td>No</td>\n",
       "      <td>love_story</td>\n",
       "      <td>Yes</td>\n",
       "      <td>Yes</td>\n",
       "      <td>No</td>\n",
       "      <td>Aashish Chanana</td>\n",
       "      <td>Aashish Chanana</td>\n",
       "      <td>Sajid - Wajid</td>\n",
       "      <td>25</td>\n",
       "      <td>12500000</td>\n",
       "      <td>1375000</td>\n",
       "    </tr>\n",
       "  </tbody>\n",
       "</table>\n",
       "</div>"
      ],
      "text/plain": [
       "                             Movie Name Release Period Whether Remake  \\\n",
       "4                             Chaatwali        Holiday             No   \n",
       "5                      Shuttlecock Boys         Normal             No   \n",
       "18             Pyaar Mein Aisa Hota Hai        Holiday             No   \n",
       "19  Gurjar Aandolan - A Fight For Right         Normal             No   \n",
       "22        Dreams - Sapnay Sach Honge...        Holiday             No   \n",
       "\n",
       "   Whether Franchise       Genre New Actor New Director New Music Director  \\\n",
       "4                 No       adult       Yes          Yes                Yes   \n",
       "5                 No      comedy       Yes          Yes                Yes   \n",
       "18                No    thriller       Yes          Yes                Yes   \n",
       "19                No       drama       Yes          Yes                Yes   \n",
       "22                No  love_story       Yes          Yes                 No   \n",
       "\n",
       "          Lead Star         Director  Music Director  Number of Screens  \\\n",
       "4        Aadil Khan       Aadil Khan    Babloo Ustad                  1   \n",
       "5     Aakar Kaushik      Hemant Gaba  Avinash Baghel                 10   \n",
       "18    Aanamika Bawa     Rajesh Kumar     Shabab Azmi                  5   \n",
       "19      Aarun Nagar      Aarun Nagar   Ashish Donald                  5   \n",
       "22  Aashish Chanana  Aashish Chanana   Sajid - Wajid                 25   \n",
       "\n",
       "    Revenue(INR)  Budget(INR)  \n",
       "4        1000000      1075000  \n",
       "5        5000000       170000  \n",
       "18       5500000       350000  \n",
       "19       6500000       575000  \n",
       "22      12500000      1375000  "
      ]
     },
     "execution_count": 19,
     "metadata": {},
     "output_type": "execute_result"
    }
   ],
   "source": [
    "\n",
    "# How many movies have a new music director and a new actor simultaneously?\n",
    "df[(df[\"New Director\"] == \"Yes\") & (df[\"New Actor\"] == \"Yes\")].head()\n"
   ]
  },
  {
   "cell_type": "code",
   "execution_count": 20,
   "id": "232f135f",
   "metadata": {
    "execution": {
     "iopub.execute_input": "2024-03-22T09:41:24.908658Z",
     "iopub.status.busy": "2024-03-22T09:41:24.907687Z",
     "iopub.status.idle": "2024-03-22T09:41:24.924385Z",
     "shell.execute_reply": "2024-03-22T09:41:24.922860Z"
    },
    "papermill": {
     "duration": 0.032166,
     "end_time": "2024-03-22T09:41:24.927420",
     "exception": false,
     "start_time": "2024-03-22T09:41:24.895254",
     "status": "completed"
    },
    "tags": []
   },
   "outputs": [
    {
     "data": {
      "text/html": [
       "<div>\n",
       "<style scoped>\n",
       "    .dataframe tbody tr th:only-of-type {\n",
       "        vertical-align: middle;\n",
       "    }\n",
       "\n",
       "    .dataframe tbody tr th {\n",
       "        vertical-align: top;\n",
       "    }\n",
       "\n",
       "    .dataframe thead th {\n",
       "        text-align: right;\n",
       "    }\n",
       "</style>\n",
       "<table border=\"1\" class=\"dataframe\">\n",
       "  <thead>\n",
       "    <tr style=\"text-align: right;\">\n",
       "      <th></th>\n",
       "      <th>Lead Star</th>\n",
       "      <th>Revenue(INR)</th>\n",
       "    </tr>\n",
       "  </thead>\n",
       "  <tbody>\n",
       "    <tr>\n",
       "      <th>0</th>\n",
       "      <td>Akshay Kumar</td>\n",
       "      <td>24420000000</td>\n",
       "    </tr>\n",
       "    <tr>\n",
       "      <th>1</th>\n",
       "      <td>Salman Khan</td>\n",
       "      <td>18520000000</td>\n",
       "    </tr>\n",
       "    <tr>\n",
       "      <th>2</th>\n",
       "      <td>Ajay Devgn</td>\n",
       "      <td>15155000000</td>\n",
       "    </tr>\n",
       "    <tr>\n",
       "      <th>3</th>\n",
       "      <td>Shahrukh Khan</td>\n",
       "      <td>13660000000</td>\n",
       "    </tr>\n",
       "    <tr>\n",
       "      <th>4</th>\n",
       "      <td>Ranbir Kapoor</td>\n",
       "      <td>10107500000</td>\n",
       "    </tr>\n",
       "  </tbody>\n",
       "</table>\n",
       "</div>"
      ],
      "text/plain": [
       "       Lead Star  Revenue(INR)\n",
       "0   Akshay Kumar   24420000000\n",
       "1    Salman Khan   18520000000\n",
       "2     Ajay Devgn   15155000000\n",
       "3  Shahrukh Khan   13660000000\n",
       "4  Ranbir Kapoor   10107500000"
      ]
     },
     "execution_count": 20,
     "metadata": {},
     "output_type": "execute_result"
    }
   ],
   "source": [
    "# Calculate the total revenue for each lead star.\n",
    "df.groupby(\"Lead Star\")[\"Revenue(INR)\"].sum().sort_values(ascending = False).reset_index().head()"
   ]
  },
  {
   "cell_type": "code",
   "execution_count": 21,
   "id": "7f57906d",
   "metadata": {
    "execution": {
     "iopub.execute_input": "2024-03-22T09:41:24.950126Z",
     "iopub.status.busy": "2024-03-22T09:41:24.949747Z",
     "iopub.status.idle": "2024-03-22T09:41:24.972669Z",
     "shell.execute_reply": "2024-03-22T09:41:24.970475Z"
    },
    "papermill": {
     "duration": 0.038016,
     "end_time": "2024-03-22T09:41:24.975744",
     "exception": false,
     "start_time": "2024-03-22T09:41:24.937728",
     "status": "completed"
    },
    "tags": []
   },
   "outputs": [
    {
     "data": {
      "text/html": [
       "<div>\n",
       "<style scoped>\n",
       "    .dataframe tbody tr th:only-of-type {\n",
       "        vertical-align: middle;\n",
       "    }\n",
       "\n",
       "    .dataframe tbody tr th {\n",
       "        vertical-align: top;\n",
       "    }\n",
       "\n",
       "    .dataframe thead th {\n",
       "        text-align: right;\n",
       "    }\n",
       "</style>\n",
       "<table border=\"1\" class=\"dataframe\">\n",
       "  <thead>\n",
       "    <tr style=\"text-align: right;\">\n",
       "      <th></th>\n",
       "      <th>Movie Name</th>\n",
       "      <th>Release Period</th>\n",
       "      <th>Whether Remake</th>\n",
       "      <th>Whether Franchise</th>\n",
       "      <th>Genre</th>\n",
       "      <th>New Actor</th>\n",
       "      <th>New Director</th>\n",
       "      <th>New Music Director</th>\n",
       "      <th>Lead Star</th>\n",
       "      <th>Director</th>\n",
       "      <th>Music Director</th>\n",
       "      <th>Number of Screens</th>\n",
       "      <th>Revenue(INR)</th>\n",
       "      <th>Budget(INR)</th>\n",
       "      <th>Profit</th>\n",
       "    </tr>\n",
       "  </thead>\n",
       "  <tbody>\n",
       "    <tr>\n",
       "      <th>1240</th>\n",
       "      <td>Tiger Zinda Hai</td>\n",
       "      <td>Holiday</td>\n",
       "      <td>No</td>\n",
       "      <td>Yes</td>\n",
       "      <td>action</td>\n",
       "      <td>No</td>\n",
       "      <td>No</td>\n",
       "      <td>No</td>\n",
       "      <td>Salman Khan</td>\n",
       "      <td>Ali Abbas Zafar</td>\n",
       "      <td>Vishal - Shekhar</td>\n",
       "      <td>4600</td>\n",
       "      <td>2100000000</td>\n",
       "      <td>5651020000</td>\n",
       "      <td>-3551020000</td>\n",
       "    </tr>\n",
       "    <tr>\n",
       "      <th>947</th>\n",
       "      <td>Bahubali 2 - The Conclusion</td>\n",
       "      <td>Holiday</td>\n",
       "      <td>No</td>\n",
       "      <td>Yes</td>\n",
       "      <td>masala</td>\n",
       "      <td>No</td>\n",
       "      <td>No</td>\n",
       "      <td>No</td>\n",
       "      <td>Prabhas</td>\n",
       "      <td>S.S. Rajamouli</td>\n",
       "      <td>M.M. Kreem</td>\n",
       "      <td>3950</td>\n",
       "      <td>1950000000</td>\n",
       "      <td>8016120000</td>\n",
       "      <td>-6066120000</td>\n",
       "    </tr>\n",
       "    <tr>\n",
       "      <th>17</th>\n",
       "      <td>Dhoom 3</td>\n",
       "      <td>Normal</td>\n",
       "      <td>No</td>\n",
       "      <td>Yes</td>\n",
       "      <td>action</td>\n",
       "      <td>No</td>\n",
       "      <td>No</td>\n",
       "      <td>No</td>\n",
       "      <td>Aamir Khan</td>\n",
       "      <td>Vijay Krishna Acharya</td>\n",
       "      <td>Pritam</td>\n",
       "      <td>3650</td>\n",
       "      <td>1750000000</td>\n",
       "      <td>5243760000</td>\n",
       "      <td>-3493760000</td>\n",
       "    </tr>\n",
       "    <tr>\n",
       "      <th>121</th>\n",
       "      <td>Golmaal Again</td>\n",
       "      <td>Holiday</td>\n",
       "      <td>No</td>\n",
       "      <td>Yes</td>\n",
       "      <td>comedy</td>\n",
       "      <td>No</td>\n",
       "      <td>No</td>\n",
       "      <td>Yes</td>\n",
       "      <td>Ajay Devgn</td>\n",
       "      <td>Rohit Shetty</td>\n",
       "      <td>DJ Chetas</td>\n",
       "      <td>3300</td>\n",
       "      <td>1420000000</td>\n",
       "      <td>3110450000</td>\n",
       "      <td>-1690450000</td>\n",
       "    </tr>\n",
       "    <tr>\n",
       "      <th>646</th>\n",
       "      <td>Welcome Back</td>\n",
       "      <td>Holiday</td>\n",
       "      <td>No</td>\n",
       "      <td>Yes</td>\n",
       "      <td>comedy</td>\n",
       "      <td>No</td>\n",
       "      <td>No</td>\n",
       "      <td>No</td>\n",
       "      <td>John Abraham</td>\n",
       "      <td>Anees Bazmee</td>\n",
       "      <td>Meet Bros</td>\n",
       "      <td>3200</td>\n",
       "      <td>1080000000</td>\n",
       "      <td>1687670000</td>\n",
       "      <td>-607670000</td>\n",
       "    </tr>\n",
       "  </tbody>\n",
       "</table>\n",
       "</div>"
      ],
      "text/plain": [
       "                       Movie Name Release Period Whether Remake  \\\n",
       "1240              Tiger Zinda Hai        Holiday             No   \n",
       "947   Bahubali 2 - The Conclusion        Holiday             No   \n",
       "17                        Dhoom 3         Normal             No   \n",
       "121                 Golmaal Again        Holiday             No   \n",
       "646                  Welcome Back        Holiday             No   \n",
       "\n",
       "     Whether Franchise   Genre New Actor New Director New Music Director  \\\n",
       "1240               Yes  action        No           No                 No   \n",
       "947                Yes  masala        No           No                 No   \n",
       "17                 Yes  action        No           No                 No   \n",
       "121                Yes  comedy        No           No                Yes   \n",
       "646                Yes  comedy        No           No                 No   \n",
       "\n",
       "         Lead Star               Director    Music Director  \\\n",
       "1240   Salman Khan        Ali Abbas Zafar  Vishal - Shekhar   \n",
       "947        Prabhas         S.S. Rajamouli        M.M. Kreem   \n",
       "17      Aamir Khan  Vijay Krishna Acharya            Pritam   \n",
       "121     Ajay Devgn           Rohit Shetty         DJ Chetas   \n",
       "646   John Abraham           Anees Bazmee         Meet Bros   \n",
       "\n",
       "      Number of Screens  Revenue(INR)  Budget(INR)      Profit  \n",
       "1240               4600    2100000000   5651020000 -3551020000  \n",
       "947                3950    1950000000   8016120000 -6066120000  \n",
       "17                 3650    1750000000   5243760000 -3493760000  \n",
       "121                3300    1420000000   3110450000 -1690450000  \n",
       "646                3200    1080000000   1687670000  -607670000  "
      ]
     },
     "execution_count": 21,
     "metadata": {},
     "output_type": "execute_result"
    }
   ],
   "source": [
    "# Determine the most profitable franchise in terms of revenue.\n",
    "df[\"Profit\"] = df[\"Revenue(INR)\"] - df[\"Budget(INR)\"]\n",
    "df[df[\"Whether Franchise\"] == \"Yes\"].sort_values(by=\"Revenue(INR)\", ascending=False).head()\n",
    "\n",
    "#sort_values(by=\"Revenue(INR)\", ascending=False)"
   ]
  },
  {
   "cell_type": "code",
   "execution_count": 22,
   "id": "aeeee653",
   "metadata": {
    "execution": {
     "iopub.execute_input": "2024-03-22T09:41:25.000110Z",
     "iopub.status.busy": "2024-03-22T09:41:24.999662Z",
     "iopub.status.idle": "2024-03-22T09:41:25.020650Z",
     "shell.execute_reply": "2024-03-22T09:41:25.019606Z"
    },
    "papermill": {
     "duration": 0.035618,
     "end_time": "2024-03-22T09:41:25.023352",
     "exception": false,
     "start_time": "2024-03-22T09:41:24.987734",
     "status": "completed"
    },
    "tags": []
   },
   "outputs": [
    {
     "data": {
      "text/html": [
       "<div>\n",
       "<style scoped>\n",
       "    .dataframe tbody tr th:only-of-type {\n",
       "        vertical-align: middle;\n",
       "    }\n",
       "\n",
       "    .dataframe tbody tr th {\n",
       "        vertical-align: top;\n",
       "    }\n",
       "\n",
       "    .dataframe thead th {\n",
       "        text-align: right;\n",
       "    }\n",
       "</style>\n",
       "<table border=\"1\" class=\"dataframe\">\n",
       "  <thead>\n",
       "    <tr style=\"text-align: right;\">\n",
       "      <th></th>\n",
       "      <th>Genre</th>\n",
       "      <th>Release Period</th>\n",
       "      <th>Revenue(INR)</th>\n",
       "    </tr>\n",
       "  </thead>\n",
       "  <tbody>\n",
       "    <tr>\n",
       "      <th>0</th>\n",
       "      <td>action</td>\n",
       "      <td>Holiday</td>\n",
       "      <td>4.698770e+08</td>\n",
       "    </tr>\n",
       "    <tr>\n",
       "      <th>1</th>\n",
       "      <td>action</td>\n",
       "      <td>Normal</td>\n",
       "      <td>2.239766e+08</td>\n",
       "    </tr>\n",
       "    <tr>\n",
       "      <th>2</th>\n",
       "      <td>adult</td>\n",
       "      <td>Holiday</td>\n",
       "      <td>3.854167e+06</td>\n",
       "    </tr>\n",
       "    <tr>\n",
       "      <th>3</th>\n",
       "      <td>adult</td>\n",
       "      <td>Normal</td>\n",
       "      <td>4.046429e+06</td>\n",
       "    </tr>\n",
       "    <tr>\n",
       "      <th>4</th>\n",
       "      <td>animation</td>\n",
       "      <td>Holiday</td>\n",
       "      <td>1.300000e+08</td>\n",
       "    </tr>\n",
       "    <tr>\n",
       "      <th>5</th>\n",
       "      <td>animation</td>\n",
       "      <td>Normal</td>\n",
       "      <td>3.250000e+07</td>\n",
       "    </tr>\n",
       "    <tr>\n",
       "      <th>6</th>\n",
       "      <td>comedy</td>\n",
       "      <td>Holiday</td>\n",
       "      <td>2.000842e+08</td>\n",
       "    </tr>\n",
       "    <tr>\n",
       "      <th>7</th>\n",
       "      <td>comedy</td>\n",
       "      <td>Normal</td>\n",
       "      <td>1.289021e+08</td>\n",
       "    </tr>\n",
       "    <tr>\n",
       "      <th>8</th>\n",
       "      <td>documentary</td>\n",
       "      <td>Normal</td>\n",
       "      <td>3.900000e+08</td>\n",
       "    </tr>\n",
       "    <tr>\n",
       "      <th>9</th>\n",
       "      <td>drama</td>\n",
       "      <td>Holiday</td>\n",
       "      <td>1.318810e+08</td>\n",
       "    </tr>\n",
       "    <tr>\n",
       "      <th>10</th>\n",
       "      <td>drama</td>\n",
       "      <td>Normal</td>\n",
       "      <td>9.807004e+07</td>\n",
       "    </tr>\n",
       "    <tr>\n",
       "      <th>11</th>\n",
       "      <td>fantasy</td>\n",
       "      <td>Holiday</td>\n",
       "      <td>2.925000e+08</td>\n",
       "    </tr>\n",
       "    <tr>\n",
       "      <th>12</th>\n",
       "      <td>fantasy</td>\n",
       "      <td>Normal</td>\n",
       "      <td>1.583333e+08</td>\n",
       "    </tr>\n",
       "    <tr>\n",
       "      <th>13</th>\n",
       "      <td>horror</td>\n",
       "      <td>Holiday</td>\n",
       "      <td>7.481579e+07</td>\n",
       "    </tr>\n",
       "    <tr>\n",
       "      <th>14</th>\n",
       "      <td>horror</td>\n",
       "      <td>Normal</td>\n",
       "      <td>6.902941e+07</td>\n",
       "    </tr>\n",
       "    <tr>\n",
       "      <th>15</th>\n",
       "      <td>love_story</td>\n",
       "      <td>Holiday</td>\n",
       "      <td>1.842708e+08</td>\n",
       "    </tr>\n",
       "    <tr>\n",
       "      <th>16</th>\n",
       "      <td>love_story</td>\n",
       "      <td>Normal</td>\n",
       "      <td>1.375824e+08</td>\n",
       "    </tr>\n",
       "    <tr>\n",
       "      <th>17</th>\n",
       "      <td>masala</td>\n",
       "      <td>Holiday</td>\n",
       "      <td>9.708333e+08</td>\n",
       "    </tr>\n",
       "    <tr>\n",
       "      <th>18</th>\n",
       "      <td>masala</td>\n",
       "      <td>Normal</td>\n",
       "      <td>1.097500e+09</td>\n",
       "    </tr>\n",
       "    <tr>\n",
       "      <th>19</th>\n",
       "      <td>mythological</td>\n",
       "      <td>Holiday</td>\n",
       "      <td>2.150000e+07</td>\n",
       "    </tr>\n",
       "    <tr>\n",
       "      <th>20</th>\n",
       "      <td>mythological</td>\n",
       "      <td>Normal</td>\n",
       "      <td>4.300000e+06</td>\n",
       "    </tr>\n",
       "    <tr>\n",
       "      <th>21</th>\n",
       "      <td>rom__com</td>\n",
       "      <td>Holiday</td>\n",
       "      <td>2.473387e+08</td>\n",
       "    </tr>\n",
       "    <tr>\n",
       "      <th>22</th>\n",
       "      <td>rom__com</td>\n",
       "      <td>Normal</td>\n",
       "      <td>1.760656e+08</td>\n",
       "    </tr>\n",
       "    <tr>\n",
       "      <th>23</th>\n",
       "      <td>suspense</td>\n",
       "      <td>Holiday</td>\n",
       "      <td>4.850000e+07</td>\n",
       "    </tr>\n",
       "    <tr>\n",
       "      <th>24</th>\n",
       "      <td>suspense</td>\n",
       "      <td>Normal</td>\n",
       "      <td>3.520455e+07</td>\n",
       "    </tr>\n",
       "    <tr>\n",
       "      <th>25</th>\n",
       "      <td>thriller</td>\n",
       "      <td>Holiday</td>\n",
       "      <td>1.850309e+08</td>\n",
       "    </tr>\n",
       "    <tr>\n",
       "      <th>26</th>\n",
       "      <td>thriller</td>\n",
       "      <td>Normal</td>\n",
       "      <td>1.377939e+08</td>\n",
       "    </tr>\n",
       "  </tbody>\n",
       "</table>\n",
       "</div>"
      ],
      "text/plain": [
       "           Genre Release Period  Revenue(INR)\n",
       "0         action        Holiday  4.698770e+08\n",
       "1         action         Normal  2.239766e+08\n",
       "2          adult        Holiday  3.854167e+06\n",
       "3          adult         Normal  4.046429e+06\n",
       "4      animation        Holiday  1.300000e+08\n",
       "5      animation         Normal  3.250000e+07\n",
       "6         comedy        Holiday  2.000842e+08\n",
       "7         comedy         Normal  1.289021e+08\n",
       "8    documentary         Normal  3.900000e+08\n",
       "9          drama        Holiday  1.318810e+08\n",
       "10         drama         Normal  9.807004e+07\n",
       "11       fantasy        Holiday  2.925000e+08\n",
       "12       fantasy         Normal  1.583333e+08\n",
       "13        horror        Holiday  7.481579e+07\n",
       "14        horror         Normal  6.902941e+07\n",
       "15    love_story        Holiday  1.842708e+08\n",
       "16    love_story         Normal  1.375824e+08\n",
       "17        masala        Holiday  9.708333e+08\n",
       "18        masala         Normal  1.097500e+09\n",
       "19  mythological        Holiday  2.150000e+07\n",
       "20  mythological         Normal  4.300000e+06\n",
       "21      rom__com        Holiday  2.473387e+08\n",
       "22      rom__com         Normal  1.760656e+08\n",
       "23      suspense        Holiday  4.850000e+07\n",
       "24      suspense         Normal  3.520455e+07\n",
       "25      thriller        Holiday  1.850309e+08\n",
       "26      thriller         Normal  1.377939e+08"
      ]
     },
     "execution_count": 22,
     "metadata": {},
     "output_type": "execute_result"
    }
   ],
   "source": [
    "# What is the average revenue for movies in each genre and release period combination?\n",
    "df.groupby([\"Genre\", \"Release Period\"])[\"Revenue(INR)\"].mean().reset_index()\n"
   ]
  },
  {
   "cell_type": "code",
   "execution_count": 23,
   "id": "612b350b",
   "metadata": {
    "execution": {
     "iopub.execute_input": "2024-03-22T09:41:25.047062Z",
     "iopub.status.busy": "2024-03-22T09:41:25.046649Z",
     "iopub.status.idle": "2024-03-22T09:41:25.066712Z",
     "shell.execute_reply": "2024-03-22T09:41:25.065446Z"
    },
    "papermill": {
     "duration": 0.034616,
     "end_time": "2024-03-22T09:41:25.069007",
     "exception": false,
     "start_time": "2024-03-22T09:41:25.034391",
     "status": "completed"
    },
    "tags": []
   },
   "outputs": [
    {
     "data": {
      "text/html": [
       "<div>\n",
       "<style scoped>\n",
       "    .dataframe tbody tr th:only-of-type {\n",
       "        vertical-align: middle;\n",
       "    }\n",
       "\n",
       "    .dataframe tbody tr th {\n",
       "        vertical-align: top;\n",
       "    }\n",
       "\n",
       "    .dataframe thead th {\n",
       "        text-align: right;\n",
       "    }\n",
       "</style>\n",
       "<table border=\"1\" class=\"dataframe\">\n",
       "  <thead>\n",
       "    <tr style=\"text-align: right;\">\n",
       "      <th></th>\n",
       "      <th>Genre</th>\n",
       "      <th>Release Period</th>\n",
       "      <th>Mean Revenue</th>\n",
       "    </tr>\n",
       "  </thead>\n",
       "  <tbody>\n",
       "    <tr>\n",
       "      <th>0</th>\n",
       "      <td>action</td>\n",
       "      <td>Holiday</td>\n",
       "      <td>4.698770e+08</td>\n",
       "    </tr>\n",
       "    <tr>\n",
       "      <th>1</th>\n",
       "      <td>action</td>\n",
       "      <td>Normal</td>\n",
       "      <td>2.239766e+08</td>\n",
       "    </tr>\n",
       "    <tr>\n",
       "      <th>2</th>\n",
       "      <td>adult</td>\n",
       "      <td>Holiday</td>\n",
       "      <td>3.854167e+06</td>\n",
       "    </tr>\n",
       "    <tr>\n",
       "      <th>3</th>\n",
       "      <td>adult</td>\n",
       "      <td>Normal</td>\n",
       "      <td>4.046429e+06</td>\n",
       "    </tr>\n",
       "    <tr>\n",
       "      <th>4</th>\n",
       "      <td>animation</td>\n",
       "      <td>Holiday</td>\n",
       "      <td>1.300000e+08</td>\n",
       "    </tr>\n",
       "    <tr>\n",
       "      <th>5</th>\n",
       "      <td>animation</td>\n",
       "      <td>Normal</td>\n",
       "      <td>3.250000e+07</td>\n",
       "    </tr>\n",
       "    <tr>\n",
       "      <th>6</th>\n",
       "      <td>comedy</td>\n",
       "      <td>Holiday</td>\n",
       "      <td>2.000842e+08</td>\n",
       "    </tr>\n",
       "    <tr>\n",
       "      <th>7</th>\n",
       "      <td>comedy</td>\n",
       "      <td>Normal</td>\n",
       "      <td>1.289021e+08</td>\n",
       "    </tr>\n",
       "    <tr>\n",
       "      <th>8</th>\n",
       "      <td>documentary</td>\n",
       "      <td>Normal</td>\n",
       "      <td>3.900000e+08</td>\n",
       "    </tr>\n",
       "    <tr>\n",
       "      <th>9</th>\n",
       "      <td>drama</td>\n",
       "      <td>Holiday</td>\n",
       "      <td>1.318810e+08</td>\n",
       "    </tr>\n",
       "    <tr>\n",
       "      <th>10</th>\n",
       "      <td>drama</td>\n",
       "      <td>Normal</td>\n",
       "      <td>9.807004e+07</td>\n",
       "    </tr>\n",
       "    <tr>\n",
       "      <th>11</th>\n",
       "      <td>fantasy</td>\n",
       "      <td>Holiday</td>\n",
       "      <td>2.925000e+08</td>\n",
       "    </tr>\n",
       "    <tr>\n",
       "      <th>12</th>\n",
       "      <td>fantasy</td>\n",
       "      <td>Normal</td>\n",
       "      <td>1.583333e+08</td>\n",
       "    </tr>\n",
       "    <tr>\n",
       "      <th>13</th>\n",
       "      <td>horror</td>\n",
       "      <td>Holiday</td>\n",
       "      <td>7.481579e+07</td>\n",
       "    </tr>\n",
       "    <tr>\n",
       "      <th>14</th>\n",
       "      <td>horror</td>\n",
       "      <td>Normal</td>\n",
       "      <td>6.902941e+07</td>\n",
       "    </tr>\n",
       "    <tr>\n",
       "      <th>15</th>\n",
       "      <td>love_story</td>\n",
       "      <td>Holiday</td>\n",
       "      <td>1.842708e+08</td>\n",
       "    </tr>\n",
       "    <tr>\n",
       "      <th>16</th>\n",
       "      <td>love_story</td>\n",
       "      <td>Normal</td>\n",
       "      <td>1.375824e+08</td>\n",
       "    </tr>\n",
       "    <tr>\n",
       "      <th>17</th>\n",
       "      <td>masala</td>\n",
       "      <td>Holiday</td>\n",
       "      <td>9.708333e+08</td>\n",
       "    </tr>\n",
       "    <tr>\n",
       "      <th>18</th>\n",
       "      <td>masala</td>\n",
       "      <td>Normal</td>\n",
       "      <td>1.097500e+09</td>\n",
       "    </tr>\n",
       "    <tr>\n",
       "      <th>19</th>\n",
       "      <td>mythological</td>\n",
       "      <td>Holiday</td>\n",
       "      <td>2.150000e+07</td>\n",
       "    </tr>\n",
       "    <tr>\n",
       "      <th>20</th>\n",
       "      <td>mythological</td>\n",
       "      <td>Normal</td>\n",
       "      <td>4.300000e+06</td>\n",
       "    </tr>\n",
       "    <tr>\n",
       "      <th>21</th>\n",
       "      <td>rom__com</td>\n",
       "      <td>Holiday</td>\n",
       "      <td>2.473387e+08</td>\n",
       "    </tr>\n",
       "    <tr>\n",
       "      <th>22</th>\n",
       "      <td>rom__com</td>\n",
       "      <td>Normal</td>\n",
       "      <td>1.760656e+08</td>\n",
       "    </tr>\n",
       "    <tr>\n",
       "      <th>23</th>\n",
       "      <td>suspense</td>\n",
       "      <td>Holiday</td>\n",
       "      <td>4.850000e+07</td>\n",
       "    </tr>\n",
       "    <tr>\n",
       "      <th>24</th>\n",
       "      <td>suspense</td>\n",
       "      <td>Normal</td>\n",
       "      <td>3.520455e+07</td>\n",
       "    </tr>\n",
       "    <tr>\n",
       "      <th>25</th>\n",
       "      <td>thriller</td>\n",
       "      <td>Holiday</td>\n",
       "      <td>1.850309e+08</td>\n",
       "    </tr>\n",
       "    <tr>\n",
       "      <th>26</th>\n",
       "      <td>thriller</td>\n",
       "      <td>Normal</td>\n",
       "      <td>1.377939e+08</td>\n",
       "    </tr>\n",
       "  </tbody>\n",
       "</table>\n",
       "</div>"
      ],
      "text/plain": [
       "           Genre Release Period  Mean Revenue\n",
       "0         action        Holiday  4.698770e+08\n",
       "1         action         Normal  2.239766e+08\n",
       "2          adult        Holiday  3.854167e+06\n",
       "3          adult         Normal  4.046429e+06\n",
       "4      animation        Holiday  1.300000e+08\n",
       "5      animation         Normal  3.250000e+07\n",
       "6         comedy        Holiday  2.000842e+08\n",
       "7         comedy         Normal  1.289021e+08\n",
       "8    documentary         Normal  3.900000e+08\n",
       "9          drama        Holiday  1.318810e+08\n",
       "10         drama         Normal  9.807004e+07\n",
       "11       fantasy        Holiday  2.925000e+08\n",
       "12       fantasy         Normal  1.583333e+08\n",
       "13        horror        Holiday  7.481579e+07\n",
       "14        horror         Normal  6.902941e+07\n",
       "15    love_story        Holiday  1.842708e+08\n",
       "16    love_story         Normal  1.375824e+08\n",
       "17        masala        Holiday  9.708333e+08\n",
       "18        masala         Normal  1.097500e+09\n",
       "19  mythological        Holiday  2.150000e+07\n",
       "20  mythological         Normal  4.300000e+06\n",
       "21      rom__com        Holiday  2.473387e+08\n",
       "22      rom__com         Normal  1.760656e+08\n",
       "23      suspense        Holiday  4.850000e+07\n",
       "24      suspense         Normal  3.520455e+07\n",
       "25      thriller        Holiday  1.850309e+08\n",
       "26      thriller         Normal  1.377939e+08"
      ]
     },
     "execution_count": 23,
     "metadata": {},
     "output_type": "execute_result"
    }
   ],
   "source": [
    "result = df.groupby([\"Genre\", \"Release Period\"]).agg({'Revenue(INR)': 'mean'}).reset_index()\n",
    "result.columns = ['Genre', 'Release Period', 'Mean Revenue']\n",
    "result"
   ]
  },
  {
   "cell_type": "code",
   "execution_count": 24,
   "id": "8bb179b6",
   "metadata": {
    "execution": {
     "iopub.execute_input": "2024-03-22T09:41:25.093249Z",
     "iopub.status.busy": "2024-03-22T09:41:25.092886Z",
     "iopub.status.idle": "2024-03-22T09:41:25.102066Z",
     "shell.execute_reply": "2024-03-22T09:41:25.100722Z"
    },
    "papermill": {
     "duration": 0.024728,
     "end_time": "2024-03-22T09:41:25.104991",
     "exception": false,
     "start_time": "2024-03-22T09:41:25.080263",
     "status": "completed"
    },
    "tags": []
   },
   "outputs": [
    {
     "data": {
      "text/plain": [
       "Director\n",
       "Ram Gopal Verma      18\n",
       "Priyadarshan         16\n",
       "Vikram Bhatt         16\n",
       "Suresh Jain          15\n",
       "Rohit Shetty         11\n",
       "Mohit Suri           11\n",
       "Anurag Kashyap       10\n",
       "Madhur Bhandarkar     9\n",
       "Anees Bazmee          9\n",
       "David Dhawan          8\n",
       "Name: count, dtype: int64"
      ]
     },
     "execution_count": 24,
     "metadata": {},
     "output_type": "execute_result"
    }
   ],
   "source": [
    "# Find the director who has worked on the most movies.\n",
    "\n",
    "df[\"Director\"].value_counts().sort_values(ascending = False).head(10)"
   ]
  },
  {
   "cell_type": "code",
   "execution_count": 25,
   "id": "a07a03cc",
   "metadata": {
    "execution": {
     "iopub.execute_input": "2024-03-22T09:41:25.208992Z",
     "iopub.status.busy": "2024-03-22T09:41:25.208575Z",
     "iopub.status.idle": "2024-03-22T09:41:25.220633Z",
     "shell.execute_reply": "2024-03-22T09:41:25.219596Z"
    },
    "papermill": {
     "duration": 0.02816,
     "end_time": "2024-03-22T09:41:25.223425",
     "exception": false,
     "start_time": "2024-03-22T09:41:25.195265",
     "status": "completed"
    },
    "tags": []
   },
   "outputs": [
    {
     "data": {
      "text/plain": [
       "Release Period\n",
       "Holiday     7822750000\n",
       "Normal     14779650000\n",
       "Name: Revenue(INR), dtype: int64"
      ]
     },
     "execution_count": 25,
     "metadata": {},
     "output_type": "execute_result"
    }
   ],
   "source": [
    "# Calculate the total revenue for movies in each release period with a new actor.\n",
    "\n",
    "df[df[\"New Actor\"] == \"Yes\"].groupby(\"Release Period\")[\"Revenue(INR)\"].sum()"
   ]
  },
  {
   "cell_type": "code",
   "execution_count": 26,
   "id": "3720e371",
   "metadata": {
    "execution": {
     "iopub.execute_input": "2024-03-22T09:41:25.249694Z",
     "iopub.status.busy": "2024-03-22T09:41:25.249277Z",
     "iopub.status.idle": "2024-03-22T09:41:25.257727Z",
     "shell.execute_reply": "2024-03-22T09:41:25.257058Z"
    },
    "papermill": {
     "duration": 0.025058,
     "end_time": "2024-03-22T09:41:25.260570",
     "exception": false,
     "start_time": "2024-03-22T09:41:25.235512",
     "status": "completed"
    },
    "tags": []
   },
   "outputs": [
    {
     "data": {
      "text/plain": [
       "['Chaatwali',\n",
       " 'Taare Zameen Par',\n",
       " 'Gurjar Aandolan - A Fight For Right',\n",
       " 'Dreams - Sapnay Sach Honge...',\n",
       " 'Bandook',\n",
       " 'U Me Aur Hum',\n",
       " 'Shivaay',\n",
       " 'Staying Alive',\n",
       " 'Happy Husbands',\n",
       " 'Mr Ya Miss',\n",
       " 'Yeh Dooriyaan',\n",
       " 'Mr. Prime Minister',\n",
       " 'Chargesheet',\n",
       " 'MSG - The Warrior Lion Heart',\n",
       " 'Hind Ka Napak Ko Jawab - MSG Lion Heart-2',\n",
       " 'Jattu Engineer',\n",
       " 'Shringaar',\n",
       " 'Rise Of The Zombie',\n",
       " 'Life Is Beautiful!',\n",
       " 'Hum Sey Hai Jahaan',\n",
       " 'Young - The Powerful Blood',\n",
       " 'Tantiya Bheel',\n",
       " 'Kabhi Yun Bhi Toh Ho...',\n",
       " 'Last Benchers',\n",
       " \"Huff! It's Too Much\",\n",
       " 'Ata Pata Laapata',\n",
       " 'World Cupp 2011',\n",
       " 'Naari Teri Shakti Anokhi',\n",
       " 'Jaana Pehchana',\n",
       " 'M.A.D - Mad About Dance',\n",
       " 'Jai Singh Are Baap Re',\n",
       " 'Soch Lo',\n",
       " 'Us Disha Mein',\n",
       " 'Shakal Pe Mat Ja',\n",
       " 'Raat Abhi Baaki Hai',\n",
       " 'Money Back Guarantee',\n",
       " 'Ghayal Once Again',\n",
       " 'Yahi To Pyar Hai',\n",
       " 'Yeh Dil Ramta Jogi',\n",
       " 'Tere Pyaarr Mein Paapad',\n",
       " 'Kya Dilli Kya Lahore',\n",
       " 'Don Ke Baad Kaun?',\n",
       " 'Challo Driver',\n",
       " 'Pehla Aashiq Pehla Qatil',\n",
       " 'Gopa - The Freedom Fighter']"
      ]
     },
     "execution_count": 26,
     "metadata": {},
     "output_type": "execute_result"
    }
   ],
   "source": [
    "\n",
    "# Identify movies where the lead star is also the director.\n",
    "list(df[df[\"Lead Star\"] == df[\"Director\"]][\"Movie Name\"])"
   ]
  },
  {
   "cell_type": "code",
   "execution_count": 27,
   "id": "c301aef8",
   "metadata": {
    "execution": {
     "iopub.execute_input": "2024-03-22T09:41:25.287441Z",
     "iopub.status.busy": "2024-03-22T09:41:25.287032Z",
     "iopub.status.idle": "2024-03-22T09:41:25.298516Z",
     "shell.execute_reply": "2024-03-22T09:41:25.297831Z"
    },
    "papermill": {
     "duration": 0.028019,
     "end_time": "2024-03-22T09:41:25.301116",
     "exception": false,
     "start_time": "2024-03-22T09:41:25.273097",
     "status": "completed"
    },
    "tags": []
   },
   "outputs": [
    {
     "data": {
      "text/plain": [
       "0.8977651709284016"
      ]
     },
     "execution_count": 27,
     "metadata": {},
     "output_type": "execute_result"
    }
   ],
   "source": [
    "\n",
    "# Determine the correlation between the number of screens and revenue.\n",
    "df[\"Number of Screens\"].corr(df[\"Revenue(INR)\"])"
   ]
  },
  {
   "cell_type": "code",
   "execution_count": 28,
   "id": "4d1ec4b6",
   "metadata": {
    "execution": {
     "iopub.execute_input": "2024-03-22T09:41:25.327388Z",
     "iopub.status.busy": "2024-03-22T09:41:25.326961Z",
     "iopub.status.idle": "2024-03-22T09:41:25.338314Z",
     "shell.execute_reply": "2024-03-22T09:41:25.336559Z"
    },
    "papermill": {
     "duration": 0.028217,
     "end_time": "2024-03-22T09:41:25.341605",
     "exception": false,
     "start_time": "2024-03-22T09:41:25.313388",
     "status": "completed"
    },
    "tags": []
   },
   "outputs": [
    {
     "data": {
      "text/plain": [
       "75523314.9509804"
      ]
     },
     "execution_count": 28,
     "metadata": {},
     "output_type": "execute_result"
    }
   ],
   "source": [
    "\n",
    "\n",
    "# What is the average revenue for movies directed by new directors?\n",
    "df[df[\"New Director\"] == \"Yes\"][\"Revenue(INR)\"].mean()"
   ]
  },
  {
   "cell_type": "code",
   "execution_count": 29,
   "id": "28a6a1ca",
   "metadata": {
    "execution": {
     "iopub.execute_input": "2024-03-22T09:41:25.368231Z",
     "iopub.status.busy": "2024-03-22T09:41:25.367851Z",
     "iopub.status.idle": "2024-03-22T09:41:25.380051Z",
     "shell.execute_reply": "2024-03-22T09:41:25.379009Z"
    },
    "papermill": {
     "duration": 0.028643,
     "end_time": "2024-03-22T09:41:25.382573",
     "exception": false,
     "start_time": "2024-03-22T09:41:25.353930",
     "status": "completed"
    },
    "tags": []
   },
   "outputs": [
    {
     "data": {
      "text/plain": [
       "718    It Can Be Dangerous - City Of Dreams\n",
       "Name: Movie Name, dtype: object"
      ]
     },
     "execution_count": 29,
     "metadata": {},
     "output_type": "execute_result"
    }
   ],
   "source": [
    "# Find the movie with the lowest revenue.\n",
    "df[df[\"Revenue(INR)\"] == df[\"Revenue(INR)\"].min()][\"Movie Name\"]"
   ]
  },
  {
   "cell_type": "code",
   "execution_count": 30,
   "id": "f8649528",
   "metadata": {
    "execution": {
     "iopub.execute_input": "2024-03-22T09:41:25.408886Z",
     "iopub.status.busy": "2024-03-22T09:41:25.408476Z",
     "iopub.status.idle": "2024-03-22T09:41:25.419603Z",
     "shell.execute_reply": "2024-03-22T09:41:25.418282Z"
    },
    "papermill": {
     "duration": 0.027737,
     "end_time": "2024-03-22T09:41:25.422229",
     "exception": false,
     "start_time": "2024-03-22T09:41:25.394492",
     "status": "completed"
    },
    "tags": []
   },
   "outputs": [
    {
     "data": {
      "text/plain": [
       "46155408.1632653"
      ]
     },
     "execution_count": 30,
     "metadata": {},
     "output_type": "execute_result"
    }
   ],
   "source": [
    "\n",
    "# Calculate the average revenue for movies in the 'Drama' genre with a new music director.\n",
    "df[(df[\"Genre\"] == \"drama\") & (df[\"New Music Director\"] == \"Yes\")][\"Revenue(INR)\"].mean()"
   ]
  },
  {
   "cell_type": "code",
   "execution_count": null,
   "id": "f773ba77",
   "metadata": {
    "papermill": {
     "duration": 0.011708,
     "end_time": "2024-03-22T09:41:25.446584",
     "exception": false,
     "start_time": "2024-03-22T09:41:25.434876",
     "status": "completed"
    },
    "tags": []
   },
   "outputs": [],
   "source": []
  },
  {
   "cell_type": "code",
   "execution_count": null,
   "id": "6a3e5436",
   "metadata": {
    "execution": {
     "iopub.execute_input": "2023-10-22T11:44:03.953780Z",
     "iopub.status.busy": "2023-10-22T11:44:03.953367Z",
     "iopub.status.idle": "2023-10-22T11:44:03.973176Z",
     "shell.execute_reply": "2023-10-22T11:44:03.972070Z",
     "shell.execute_reply.started": "2023-10-22T11:44:03.953750Z"
    },
    "papermill": {
     "duration": 0.011822,
     "end_time": "2024-03-22T09:41:25.470443",
     "exception": false,
     "start_time": "2024-03-22T09:41:25.458621",
     "status": "completed"
    },
    "tags": []
   },
   "outputs": [],
   "source": []
  },
  {
   "cell_type": "code",
   "execution_count": 31,
   "id": "454fe7fd",
   "metadata": {
    "execution": {
     "iopub.execute_input": "2024-03-22T09:41:25.497162Z",
     "iopub.status.busy": "2024-03-22T09:41:25.496746Z",
     "iopub.status.idle": "2024-03-22T09:41:25.509365Z",
     "shell.execute_reply": "2024-03-22T09:41:25.507874Z"
    },
    "papermill": {
     "duration": 0.028768,
     "end_time": "2024-03-22T09:41:25.511613",
     "exception": false,
     "start_time": "2024-03-22T09:41:25.482845",
     "status": "completed"
    },
    "tags": []
   },
   "outputs": [
    {
     "data": {
      "text/plain": [
       "Lead Star\n",
       "Akshay Kumar        48\n",
       "Ajay Devgn          35\n",
       "Emraan Hashmi       27\n",
       "Salman Khan         27\n",
       "Amitabh Bachchan    21\n",
       "Name: count, dtype: int64"
      ]
     },
     "execution_count": 31,
     "metadata": {},
     "output_type": "execute_result"
    }
   ],
   "source": [
    "# Identify the lead star who has appeared in the most movies.\n",
    "df[\"Lead Star\"].value_counts().head()"
   ]
  },
  {
   "cell_type": "code",
   "execution_count": 32,
   "id": "ebfe3e41",
   "metadata": {
    "execution": {
     "iopub.execute_input": "2024-03-22T09:41:25.538691Z",
     "iopub.status.busy": "2024-03-22T09:41:25.538282Z",
     "iopub.status.idle": "2024-03-22T09:41:25.559384Z",
     "shell.execute_reply": "2024-03-22T09:41:25.558345Z"
    },
    "papermill": {
     "duration": 0.037955,
     "end_time": "2024-03-22T09:41:25.562183",
     "exception": false,
     "start_time": "2024-03-22T09:41:25.524228",
     "status": "completed"
    },
    "tags": []
   },
   "outputs": [
    {
     "data": {
      "text/html": [
       "<div>\n",
       "<style scoped>\n",
       "    .dataframe tbody tr th:only-of-type {\n",
       "        vertical-align: middle;\n",
       "    }\n",
       "\n",
       "    .dataframe tbody tr th {\n",
       "        vertical-align: top;\n",
       "    }\n",
       "\n",
       "    .dataframe thead th {\n",
       "        text-align: right;\n",
       "    }\n",
       "</style>\n",
       "<table border=\"1\" class=\"dataframe\">\n",
       "  <thead>\n",
       "    <tr style=\"text-align: right;\">\n",
       "      <th></th>\n",
       "      <th>Genre</th>\n",
       "      <th>Release Period</th>\n",
       "      <th>Revenue(INR)</th>\n",
       "    </tr>\n",
       "  </thead>\n",
       "  <tbody>\n",
       "    <tr>\n",
       "      <th>0</th>\n",
       "      <td>action</td>\n",
       "      <td>Holiday</td>\n",
       "      <td>3.600000e+08</td>\n",
       "    </tr>\n",
       "    <tr>\n",
       "      <th>1</th>\n",
       "      <td>action</td>\n",
       "      <td>Normal</td>\n",
       "      <td>1.150000e+08</td>\n",
       "    </tr>\n",
       "    <tr>\n",
       "      <th>2</th>\n",
       "      <td>adult</td>\n",
       "      <td>Holiday</td>\n",
       "      <td>1.500000e+06</td>\n",
       "    </tr>\n",
       "    <tr>\n",
       "      <th>3</th>\n",
       "      <td>adult</td>\n",
       "      <td>Normal</td>\n",
       "      <td>2.000000e+06</td>\n",
       "    </tr>\n",
       "    <tr>\n",
       "      <th>4</th>\n",
       "      <td>animation</td>\n",
       "      <td>Holiday</td>\n",
       "      <td>1.300000e+08</td>\n",
       "    </tr>\n",
       "    <tr>\n",
       "      <th>5</th>\n",
       "      <td>animation</td>\n",
       "      <td>Normal</td>\n",
       "      <td>3.250000e+07</td>\n",
       "    </tr>\n",
       "    <tr>\n",
       "      <th>6</th>\n",
       "      <td>comedy</td>\n",
       "      <td>Holiday</td>\n",
       "      <td>1.100000e+08</td>\n",
       "    </tr>\n",
       "    <tr>\n",
       "      <th>7</th>\n",
       "      <td>comedy</td>\n",
       "      <td>Normal</td>\n",
       "      <td>7.000000e+07</td>\n",
       "    </tr>\n",
       "    <tr>\n",
       "      <th>8</th>\n",
       "      <td>documentary</td>\n",
       "      <td>Normal</td>\n",
       "      <td>3.900000e+08</td>\n",
       "    </tr>\n",
       "    <tr>\n",
       "      <th>9</th>\n",
       "      <td>drama</td>\n",
       "      <td>Holiday</td>\n",
       "      <td>3.500000e+07</td>\n",
       "    </tr>\n",
       "    <tr>\n",
       "      <th>10</th>\n",
       "      <td>drama</td>\n",
       "      <td>Normal</td>\n",
       "      <td>3.000000e+07</td>\n",
       "    </tr>\n",
       "    <tr>\n",
       "      <th>11</th>\n",
       "      <td>fantasy</td>\n",
       "      <td>Holiday</td>\n",
       "      <td>3.250000e+08</td>\n",
       "    </tr>\n",
       "    <tr>\n",
       "      <th>12</th>\n",
       "      <td>fantasy</td>\n",
       "      <td>Normal</td>\n",
       "      <td>7.750000e+07</td>\n",
       "    </tr>\n",
       "    <tr>\n",
       "      <th>13</th>\n",
       "      <td>horror</td>\n",
       "      <td>Holiday</td>\n",
       "      <td>7.000000e+07</td>\n",
       "    </tr>\n",
       "    <tr>\n",
       "      <th>14</th>\n",
       "      <td>horror</td>\n",
       "      <td>Normal</td>\n",
       "      <td>3.000000e+07</td>\n",
       "    </tr>\n",
       "    <tr>\n",
       "      <th>15</th>\n",
       "      <td>love_story</td>\n",
       "      <td>Holiday</td>\n",
       "      <td>1.000000e+08</td>\n",
       "    </tr>\n",
       "    <tr>\n",
       "      <th>16</th>\n",
       "      <td>love_story</td>\n",
       "      <td>Normal</td>\n",
       "      <td>6.000000e+07</td>\n",
       "    </tr>\n",
       "    <tr>\n",
       "      <th>17</th>\n",
       "      <td>masala</td>\n",
       "      <td>Holiday</td>\n",
       "      <td>7.950000e+08</td>\n",
       "    </tr>\n",
       "    <tr>\n",
       "      <th>18</th>\n",
       "      <td>masala</td>\n",
       "      <td>Normal</td>\n",
       "      <td>1.095000e+09</td>\n",
       "    </tr>\n",
       "    <tr>\n",
       "      <th>19</th>\n",
       "      <td>mythological</td>\n",
       "      <td>Holiday</td>\n",
       "      <td>2.100000e+07</td>\n",
       "    </tr>\n",
       "    <tr>\n",
       "      <th>20</th>\n",
       "      <td>mythological</td>\n",
       "      <td>Normal</td>\n",
       "      <td>2.250000e+06</td>\n",
       "    </tr>\n",
       "    <tr>\n",
       "      <th>21</th>\n",
       "      <td>rom__com</td>\n",
       "      <td>Holiday</td>\n",
       "      <td>1.900000e+08</td>\n",
       "    </tr>\n",
       "    <tr>\n",
       "      <th>22</th>\n",
       "      <td>rom__com</td>\n",
       "      <td>Normal</td>\n",
       "      <td>1.400000e+08</td>\n",
       "    </tr>\n",
       "    <tr>\n",
       "      <th>23</th>\n",
       "      <td>suspense</td>\n",
       "      <td>Holiday</td>\n",
       "      <td>3.125000e+07</td>\n",
       "    </tr>\n",
       "    <tr>\n",
       "      <th>24</th>\n",
       "      <td>suspense</td>\n",
       "      <td>Normal</td>\n",
       "      <td>1.875000e+07</td>\n",
       "    </tr>\n",
       "    <tr>\n",
       "      <th>25</th>\n",
       "      <td>thriller</td>\n",
       "      <td>Holiday</td>\n",
       "      <td>8.500000e+07</td>\n",
       "    </tr>\n",
       "    <tr>\n",
       "      <th>26</th>\n",
       "      <td>thriller</td>\n",
       "      <td>Normal</td>\n",
       "      <td>6.500000e+07</td>\n",
       "    </tr>\n",
       "  </tbody>\n",
       "</table>\n",
       "</div>"
      ],
      "text/plain": [
       "           Genre Release Period  Revenue(INR)\n",
       "0         action        Holiday  3.600000e+08\n",
       "1         action         Normal  1.150000e+08\n",
       "2          adult        Holiday  1.500000e+06\n",
       "3          adult         Normal  2.000000e+06\n",
       "4      animation        Holiday  1.300000e+08\n",
       "5      animation         Normal  3.250000e+07\n",
       "6         comedy        Holiday  1.100000e+08\n",
       "7         comedy         Normal  7.000000e+07\n",
       "8    documentary         Normal  3.900000e+08\n",
       "9          drama        Holiday  3.500000e+07\n",
       "10         drama         Normal  3.000000e+07\n",
       "11       fantasy        Holiday  3.250000e+08\n",
       "12       fantasy         Normal  7.750000e+07\n",
       "13        horror        Holiday  7.000000e+07\n",
       "14        horror         Normal  3.000000e+07\n",
       "15    love_story        Holiday  1.000000e+08\n",
       "16    love_story         Normal  6.000000e+07\n",
       "17        masala        Holiday  7.950000e+08\n",
       "18        masala         Normal  1.095000e+09\n",
       "19  mythological        Holiday  2.100000e+07\n",
       "20  mythological         Normal  2.250000e+06\n",
       "21      rom__com        Holiday  1.900000e+08\n",
       "22      rom__com         Normal  1.400000e+08\n",
       "23      suspense        Holiday  3.125000e+07\n",
       "24      suspense         Normal  1.875000e+07\n",
       "25      thriller        Holiday  8.500000e+07\n",
       "26      thriller         Normal  6.500000e+07"
      ]
     },
     "execution_count": 32,
     "metadata": {},
     "output_type": "execute_result"
    }
   ],
   "source": [
    "# Calculate the median revenue for movies in each genre and release period combination.\n",
    "df.groupby([\"Genre\", \"Release Period\"])[\"Revenue(INR)\"].median().reset_index()\n"
   ]
  },
  {
   "cell_type": "code",
   "execution_count": 33,
   "id": "46f10ac7",
   "metadata": {
    "execution": {
     "iopub.execute_input": "2024-03-22T09:41:25.588946Z",
     "iopub.status.busy": "2024-03-22T09:41:25.588502Z",
     "iopub.status.idle": "2024-03-22T09:41:25.595809Z",
     "shell.execute_reply": "2024-03-22T09:41:25.593393Z"
    },
    "papermill": {
     "duration": 0.023714,
     "end_time": "2024-03-22T09:41:25.598705",
     "exception": false,
     "start_time": "2024-03-22T09:41:25.574991",
     "status": "completed"
    },
    "tags": []
   },
   "outputs": [],
   "source": [
    "# Determine the correlation between the number of screens and the release period.\n"
   ]
  }
 ],
 "metadata": {
  "kaggle": {
   "accelerator": "none",
   "dataSources": [
    {
     "datasetId": 2476918,
     "sourceId": 4200898,
     "sourceType": "datasetVersion"
    }
   ],
   "dockerImageVersionId": 30558,
   "isGpuEnabled": false,
   "isInternetEnabled": true,
   "language": "python",
   "sourceType": "notebook"
  },
  "kernelspec": {
   "display_name": "Python 3",
   "language": "python",
   "name": "python3"
  },
  "language_info": {
   "codemirror_mode": {
    "name": "ipython",
    "version": 3
   },
   "file_extension": ".py",
   "mimetype": "text/x-python",
   "name": "python",
   "nbconvert_exporter": "python",
   "pygments_lexer": "ipython3",
   "version": "3.10.12"
  },
  "papermill": {
   "default_parameters": {},
   "duration": 7.883822,
   "end_time": "2024-03-22T09:41:26.236545",
   "environment_variables": {},
   "exception": null,
   "input_path": "__notebook__.ipynb",
   "output_path": "__notebook__.ipynb",
   "parameters": {},
   "start_time": "2024-03-22T09:41:18.352723",
   "version": "2.4.0"
  }
 },
 "nbformat": 4,
 "nbformat_minor": 5
}
