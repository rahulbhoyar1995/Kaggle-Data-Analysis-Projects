{
 "cells": [
  {
   "cell_type": "code",
   "execution_count": 1,
   "id": "f812b6d1",
   "metadata": {
    "_cell_guid": "b1076dfc-b9ad-4769-8c92-a6c4dae69d19",
    "_uuid": "8f2839f25d086af736a60e9eeb907d3b93b6e0e5",
    "execution": {
     "iopub.execute_input": "2024-04-10T09:04:35.957114Z",
     "iopub.status.busy": "2024-04-10T09:04:35.956053Z",
     "iopub.status.idle": "2024-04-10T09:04:36.967127Z",
     "shell.execute_reply": "2024-04-10T09:04:36.965706Z"
    },
    "papermill": {
     "duration": 1.040797,
     "end_time": "2024-04-10T09:04:36.970205",
     "exception": false,
     "start_time": "2024-04-10T09:04:35.929408",
     "status": "completed"
    },
    "tags": []
   },
   "outputs": [
    {
     "name": "stdout",
     "output_type": "stream",
     "text": [
      "/kaggle/input/bollywood-movies-dataset/Data for repository.csv\n"
     ]
    }
   ],
   "source": [
    "# This Python 3 environment comes with many helpful analytics libraries installed\n",
    "# It is defined by the kaggle/python Docker image: https://github.com/kaggle/docker-python\n",
    "# For example, here's several helpful packages to load\n",
    "\n",
    "import numpy as np # linear algebra\n",
    "import pandas as pd # data processing, CSV file I/O (e.g. pd.read_csv)\n",
    "\n",
    "# Input data files are available in the read-only \"../input/\" directory\n",
    "# For example, running this (by clicking run or pressing Shift+Enter) will list all files under the input directory\n",
    "\n",
    "import os\n",
    "for dirname, _, filenames in os.walk('/kaggle/input'):\n",
    "    for filename in filenames:\n",
    "        print(os.path.join(dirname, filename))\n",
    "\n",
    "# You can write up to 20GB to the current directory (/kaggle/working/) that gets preserved as output when you create a version using \"Save & Run All\" \n",
    "# You can also write temporary files to /kaggle/temp/, but they won't be saved outside of the current session"
   ]
  },
  {
   "cell_type": "code",
   "execution_count": 2,
   "id": "60178fc0",
   "metadata": {
    "execution": {
     "iopub.execute_input": "2024-04-10T09:04:37.018842Z",
     "iopub.status.busy": "2024-04-10T09:04:37.017373Z",
     "iopub.status.idle": "2024-04-10T09:04:37.081112Z",
     "shell.execute_reply": "2024-04-10T09:04:37.080019Z"
    },
    "papermill": {
     "duration": 0.090229,
     "end_time": "2024-04-10T09:04:37.083393",
     "exception": false,
     "start_time": "2024-04-10T09:04:36.993164",
     "status": "completed"
    },
    "tags": []
   },
   "outputs": [
    {
     "data": {
      "text/html": [
       "<div>\n",
       "<style scoped>\n",
       "    .dataframe tbody tr th:only-of-type {\n",
       "        vertical-align: middle;\n",
       "    }\n",
       "\n",
       "    .dataframe tbody tr th {\n",
       "        vertical-align: top;\n",
       "    }\n",
       "\n",
       "    .dataframe thead th {\n",
       "        text-align: right;\n",
       "    }\n",
       "</style>\n",
       "<table border=\"1\" class=\"dataframe\">\n",
       "  <thead>\n",
       "    <tr style=\"text-align: right;\">\n",
       "      <th></th>\n",
       "      <th>Movie Name</th>\n",
       "      <th>Release Period</th>\n",
       "      <th>Whether Remake</th>\n",
       "      <th>Whether Franchise</th>\n",
       "      <th>Genre</th>\n",
       "      <th>New Actor</th>\n",
       "      <th>New Director</th>\n",
       "      <th>New Music Director</th>\n",
       "      <th>Lead Star</th>\n",
       "      <th>Director</th>\n",
       "      <th>Music Director</th>\n",
       "      <th>Number of Screens</th>\n",
       "      <th>Revenue(INR)</th>\n",
       "      <th>Budget(INR)</th>\n",
       "    </tr>\n",
       "  </thead>\n",
       "  <tbody>\n",
       "    <tr>\n",
       "      <th>0</th>\n",
       "      <td>Golden Boys</td>\n",
       "      <td>Normal</td>\n",
       "      <td>No</td>\n",
       "      <td>No</td>\n",
       "      <td>suspense</td>\n",
       "      <td>Yes</td>\n",
       "      <td>No</td>\n",
       "      <td>No</td>\n",
       "      <td>Jeet Goswami</td>\n",
       "      <td>Ravi Varma</td>\n",
       "      <td>Baba Jagirdar</td>\n",
       "      <td>5</td>\n",
       "      <td>5000000</td>\n",
       "      <td>85000</td>\n",
       "    </tr>\n",
       "    <tr>\n",
       "      <th>1</th>\n",
       "      <td>Kaccha Limboo</td>\n",
       "      <td>Holiday</td>\n",
       "      <td>No</td>\n",
       "      <td>No</td>\n",
       "      <td>drama</td>\n",
       "      <td>Yes</td>\n",
       "      <td>No</td>\n",
       "      <td>Yes</td>\n",
       "      <td>Karan Bhanushali</td>\n",
       "      <td>Sagar Ballary</td>\n",
       "      <td>Amardeep Nijjer</td>\n",
       "      <td>75</td>\n",
       "      <td>15000000</td>\n",
       "      <td>825000</td>\n",
       "    </tr>\n",
       "    <tr>\n",
       "      <th>2</th>\n",
       "      <td>Not A Love Story</td>\n",
       "      <td>Holiday</td>\n",
       "      <td>No</td>\n",
       "      <td>No</td>\n",
       "      <td>thriller</td>\n",
       "      <td>No</td>\n",
       "      <td>No</td>\n",
       "      <td>No</td>\n",
       "      <td>Mahie Gill</td>\n",
       "      <td>Ram Gopal Verma</td>\n",
       "      <td>Sandeep Chowta</td>\n",
       "      <td>525</td>\n",
       "      <td>75000000</td>\n",
       "      <td>56700000</td>\n",
       "    </tr>\n",
       "    <tr>\n",
       "      <th>3</th>\n",
       "      <td>Qaidi Band</td>\n",
       "      <td>Holiday</td>\n",
       "      <td>No</td>\n",
       "      <td>No</td>\n",
       "      <td>drama</td>\n",
       "      <td>Yes</td>\n",
       "      <td>No</td>\n",
       "      <td>No</td>\n",
       "      <td>Aadar Jain</td>\n",
       "      <td>Habib Faisal</td>\n",
       "      <td>Amit Trivedi</td>\n",
       "      <td>800</td>\n",
       "      <td>210000000</td>\n",
       "      <td>4500000</td>\n",
       "    </tr>\n",
       "    <tr>\n",
       "      <th>4</th>\n",
       "      <td>Chaatwali</td>\n",
       "      <td>Holiday</td>\n",
       "      <td>No</td>\n",
       "      <td>No</td>\n",
       "      <td>adult</td>\n",
       "      <td>Yes</td>\n",
       "      <td>Yes</td>\n",
       "      <td>Yes</td>\n",
       "      <td>Aadil Khan</td>\n",
       "      <td>Aadil Khan</td>\n",
       "      <td>Babloo Ustad</td>\n",
       "      <td>1</td>\n",
       "      <td>1000000</td>\n",
       "      <td>1075000</td>\n",
       "    </tr>\n",
       "  </tbody>\n",
       "</table>\n",
       "</div>"
      ],
      "text/plain": [
       "         Movie Name Release Period Whether Remake Whether Franchise     Genre  \\\n",
       "0       Golden Boys         Normal             No                No  suspense   \n",
       "1     Kaccha Limboo        Holiday             No                No     drama   \n",
       "2  Not A Love Story        Holiday             No                No  thriller   \n",
       "3        Qaidi Band        Holiday             No                No     drama   \n",
       "4         Chaatwali        Holiday             No                No     adult   \n",
       "\n",
       "  New Actor New Director New Music Director         Lead Star  \\\n",
       "0       Yes           No                 No      Jeet Goswami   \n",
       "1       Yes           No                Yes  Karan Bhanushali   \n",
       "2        No           No                 No        Mahie Gill   \n",
       "3       Yes           No                 No        Aadar Jain   \n",
       "4       Yes          Yes                Yes        Aadil Khan   \n",
       "\n",
       "          Director   Music Director  Number of Screens  Revenue(INR)  \\\n",
       "0       Ravi Varma    Baba Jagirdar                  5       5000000   \n",
       "1    Sagar Ballary  Amardeep Nijjer                 75      15000000   \n",
       "2  Ram Gopal Verma   Sandeep Chowta                525      75000000   \n",
       "3     Habib Faisal     Amit Trivedi                800     210000000   \n",
       "4       Aadil Khan     Babloo Ustad                  1       1000000   \n",
       "\n",
       "   Budget(INR)  \n",
       "0        85000  \n",
       "1       825000  \n",
       "2     56700000  \n",
       "3      4500000  \n",
       "4      1075000  "
      ]
     },
     "execution_count": 2,
     "metadata": {},
     "output_type": "execute_result"
    }
   ],
   "source": [
    "df = pd.read_csv(\"/kaggle/input/bollywood-movies-dataset/Data for repository.csv\")\n",
    "df.head()"
   ]
  },
  {
   "cell_type": "markdown",
   "id": "1b57bb92",
   "metadata": {
    "papermill": {
     "duration": 0.022742,
     "end_time": "2024-04-10T09:04:37.129028",
     "exception": false,
     "start_time": "2024-04-10T09:04:37.106286",
     "status": "completed"
    },
    "tags": []
   },
   "source": [
    "All columns in the datasets."
   ]
  },
  {
   "cell_type": "code",
   "execution_count": 3,
   "id": "a553cc50",
   "metadata": {
    "execution": {
     "iopub.execute_input": "2024-04-10T09:04:37.176674Z",
     "iopub.status.busy": "2024-04-10T09:04:37.175774Z",
     "iopub.status.idle": "2024-04-10T09:04:37.182243Z",
     "shell.execute_reply": "2024-04-10T09:04:37.180778Z"
    },
    "papermill": {
     "duration": 0.033407,
     "end_time": "2024-04-10T09:04:37.184909",
     "exception": false,
     "start_time": "2024-04-10T09:04:37.151502",
     "status": "completed"
    },
    "tags": []
   },
   "outputs": [
    {
     "name": "stdout",
     "output_type": "stream",
     "text": [
      "All columns in the datset are : ['Movie Name', 'Release Period', 'Whether Remake', 'Whether Franchise', 'Genre', 'New Actor', 'New Director', 'New Music Director', 'Lead Star', 'Director', 'Music Director', 'Number of Screens', 'Revenue(INR)', 'Budget(INR)']\n"
     ]
    }
   ],
   "source": [
    "print(\"All columns in the datset are :\",list(df.columns))"
   ]
  },
  {
   "cell_type": "markdown",
   "id": "2c52a9d4",
   "metadata": {
    "papermill": {
     "duration": 0.022204,
     "end_time": "2024-04-10T09:04:37.230286",
     "exception": false,
     "start_time": "2024-04-10T09:04:37.208082",
     "status": "completed"
    },
    "tags": []
   },
   "source": [
    "What is the average revenue for all movies in the dataset?"
   ]
  },
  {
   "cell_type": "code",
   "execution_count": 4,
   "id": "e77d9450",
   "metadata": {
    "execution": {
     "iopub.execute_input": "2024-04-10T09:04:37.279724Z",
     "iopub.status.busy": "2024-04-10T09:04:37.278829Z",
     "iopub.status.idle": "2024-04-10T09:04:37.287789Z",
     "shell.execute_reply": "2024-04-10T09:04:37.286301Z"
    },
    "papermill": {
     "duration": 0.037207,
     "end_time": "2024-04-10T09:04:37.290469",
     "exception": false,
     "start_time": "2024-04-10T09:04:37.253262",
     "status": "completed"
    },
    "tags": []
   },
   "outputs": [
    {
     "name": "stdout",
     "output_type": "stream",
     "text": [
      "Average of all the movies in dataset : Rs. 150167388.10365134\n"
     ]
    }
   ],
   "source": [
    "print(f\"Average of all the movies in dataset : Rs. {df['Revenue(INR)'].mean()}\")"
   ]
  },
  {
   "cell_type": "markdown",
   "id": "64fac026",
   "metadata": {
    "papermill": {
     "duration": 0.022198,
     "end_time": "2024-04-10T09:04:37.335267",
     "exception": false,
     "start_time": "2024-04-10T09:04:37.313069",
     "status": "completed"
    },
    "tags": []
   },
   "source": [
    "Calculate the total revenue for each genre"
   ]
  },
  {
   "cell_type": "code",
   "execution_count": 5,
   "id": "58b143de",
   "metadata": {
    "execution": {
     "iopub.execute_input": "2024-04-10T09:04:37.382879Z",
     "iopub.status.busy": "2024-04-10T09:04:37.382385Z",
     "iopub.status.idle": "2024-04-10T09:04:37.409713Z",
     "shell.execute_reply": "2024-04-10T09:04:37.408487Z"
    },
    "papermill": {
     "duration": 0.054114,
     "end_time": "2024-04-10T09:04:37.412189",
     "exception": false,
     "start_time": "2024-04-10T09:04:37.358075",
     "status": "completed"
    },
    "tags": []
   },
   "outputs": [
    {
     "data": {
      "text/html": [
       "<div>\n",
       "<style scoped>\n",
       "    .dataframe tbody tr th:only-of-type {\n",
       "        vertical-align: middle;\n",
       "    }\n",
       "\n",
       "    .dataframe tbody tr th {\n",
       "        vertical-align: top;\n",
       "    }\n",
       "\n",
       "    .dataframe thead th {\n",
       "        text-align: right;\n",
       "    }\n",
       "</style>\n",
       "<table border=\"1\" class=\"dataframe\">\n",
       "  <thead>\n",
       "    <tr style=\"text-align: right;\">\n",
       "      <th></th>\n",
       "      <th>Genre</th>\n",
       "      <th>Revenue(INR)</th>\n",
       "    </tr>\n",
       "  </thead>\n",
       "  <tbody>\n",
       "    <tr>\n",
       "      <th>0</th>\n",
       "      <td>action</td>\n",
       "      <td>43936750000</td>\n",
       "    </tr>\n",
       "    <tr>\n",
       "      <th>1</th>\n",
       "      <td>adult</td>\n",
       "      <td>308700000</td>\n",
       "    </tr>\n",
       "    <tr>\n",
       "      <th>2</th>\n",
       "      <td>animation</td>\n",
       "      <td>292500000</td>\n",
       "    </tr>\n",
       "    <tr>\n",
       "      <th>3</th>\n",
       "      <td>comedy</td>\n",
       "      <td>43370500000</td>\n",
       "    </tr>\n",
       "    <tr>\n",
       "      <th>4</th>\n",
       "      <td>documentary</td>\n",
       "      <td>390000000</td>\n",
       "    </tr>\n",
       "    <tr>\n",
       "      <th>5</th>\n",
       "      <td>drama</td>\n",
       "      <td>70477075000</td>\n",
       "    </tr>\n",
       "    <tr>\n",
       "      <th>6</th>\n",
       "      <td>fantasy</td>\n",
       "      <td>2595000000</td>\n",
       "    </tr>\n",
       "    <tr>\n",
       "      <th>7</th>\n",
       "      <td>horror</td>\n",
       "      <td>3768500000</td>\n",
       "    </tr>\n",
       "    <tr>\n",
       "      <th>8</th>\n",
       "      <td>love_story</td>\n",
       "      <td>20539500000</td>\n",
       "    </tr>\n",
       "    <tr>\n",
       "      <th>9</th>\n",
       "      <td>masala</td>\n",
       "      <td>16040000000</td>\n",
       "    </tr>\n",
       "    <tr>\n",
       "      <th>10</th>\n",
       "      <td>mythological</td>\n",
       "      <td>129000000</td>\n",
       "    </tr>\n",
       "    <tr>\n",
       "      <th>11</th>\n",
       "      <td>rom__com</td>\n",
       "      <td>18935700000</td>\n",
       "    </tr>\n",
       "    <tr>\n",
       "      <th>12</th>\n",
       "      <td>suspense</td>\n",
       "      <td>1162500000</td>\n",
       "    </tr>\n",
       "    <tr>\n",
       "      <th>13</th>\n",
       "      <td>thriller</td>\n",
       "      <td>33038500000</td>\n",
       "    </tr>\n",
       "  </tbody>\n",
       "</table>\n",
       "</div>"
      ],
      "text/plain": [
       "           Genre  Revenue(INR)\n",
       "0         action   43936750000\n",
       "1          adult     308700000\n",
       "2      animation     292500000\n",
       "3         comedy   43370500000\n",
       "4    documentary     390000000\n",
       "5          drama   70477075000\n",
       "6        fantasy    2595000000\n",
       "7         horror    3768500000\n",
       "8     love_story   20539500000\n",
       "9         masala   16040000000\n",
       "10  mythological     129000000\n",
       "11      rom__com   18935700000\n",
       "12      suspense    1162500000\n",
       "13      thriller   33038500000"
      ]
     },
     "execution_count": 5,
     "metadata": {},
     "output_type": "execute_result"
    }
   ],
   "source": [
    "# Calculate the total revenue for each genre\n",
    "df.groupby('Genre')['Revenue(INR)'].sum().reset_index()"
   ]
  },
  {
   "cell_type": "markdown",
   "id": "1096ec6d",
   "metadata": {
    "papermill": {
     "duration": 0.12973,
     "end_time": "2024-04-10T09:04:37.567730",
     "exception": false,
     "start_time": "2024-04-10T09:04:37.438000",
     "status": "completed"
    },
    "tags": []
   },
   "source": [
    "Find the movie with the highest revenue"
   ]
  },
  {
   "cell_type": "code",
   "execution_count": 6,
   "id": "ad25458a",
   "metadata": {
    "execution": {
     "iopub.execute_input": "2024-04-10T09:04:37.623741Z",
     "iopub.status.busy": "2024-04-10T09:04:37.623261Z",
     "iopub.status.idle": "2024-04-10T09:04:37.647517Z",
     "shell.execute_reply": "2024-04-10T09:04:37.645821Z"
    },
    "papermill": {
     "duration": 0.057823,
     "end_time": "2024-04-10T09:04:37.650118",
     "exception": false,
     "start_time": "2024-04-10T09:04:37.592295",
     "status": "completed"
    },
    "tags": []
   },
   "outputs": [
    {
     "data": {
      "text/html": [
       "<div>\n",
       "<style scoped>\n",
       "    .dataframe tbody tr th:only-of-type {\n",
       "        vertical-align: middle;\n",
       "    }\n",
       "\n",
       "    .dataframe tbody tr th {\n",
       "        vertical-align: top;\n",
       "    }\n",
       "\n",
       "    .dataframe thead th {\n",
       "        text-align: right;\n",
       "    }\n",
       "</style>\n",
       "<table border=\"1\" class=\"dataframe\">\n",
       "  <thead>\n",
       "    <tr style=\"text-align: right;\">\n",
       "      <th></th>\n",
       "      <th>Movie Name</th>\n",
       "      <th>Release Period</th>\n",
       "      <th>Whether Remake</th>\n",
       "      <th>Whether Franchise</th>\n",
       "      <th>Genre</th>\n",
       "      <th>New Actor</th>\n",
       "      <th>New Director</th>\n",
       "      <th>New Music Director</th>\n",
       "      <th>Lead Star</th>\n",
       "      <th>Director</th>\n",
       "      <th>Music Director</th>\n",
       "      <th>Number of Screens</th>\n",
       "      <th>Revenue(INR)</th>\n",
       "      <th>Budget(INR)</th>\n",
       "    </tr>\n",
       "  </thead>\n",
       "  <tbody>\n",
       "    <tr>\n",
       "      <th>1240</th>\n",
       "      <td>Tiger Zinda Hai</td>\n",
       "      <td>Holiday</td>\n",
       "      <td>No</td>\n",
       "      <td>Yes</td>\n",
       "      <td>action</td>\n",
       "      <td>No</td>\n",
       "      <td>No</td>\n",
       "      <td>No</td>\n",
       "      <td>Salman Khan</td>\n",
       "      <td>Ali Abbas Zafar</td>\n",
       "      <td>Vishal - Shekhar</td>\n",
       "      <td>4600</td>\n",
       "      <td>2100000000</td>\n",
       "      <td>5651020000</td>\n",
       "    </tr>\n",
       "  </tbody>\n",
       "</table>\n",
       "</div>"
      ],
      "text/plain": [
       "           Movie Name Release Period Whether Remake Whether Franchise   Genre  \\\n",
       "1240  Tiger Zinda Hai        Holiday             No               Yes  action   \n",
       "\n",
       "     New Actor New Director New Music Director    Lead Star         Director  \\\n",
       "1240        No           No                 No  Salman Khan  Ali Abbas Zafar   \n",
       "\n",
       "        Music Director  Number of Screens  Revenue(INR)  Budget(INR)  \n",
       "1240  Vishal - Shekhar               4600    2100000000   5651020000  "
      ]
     },
     "execution_count": 6,
     "metadata": {},
     "output_type": "execute_result"
    }
   ],
   "source": [
    "# Find the movie with the highest revenue.\n",
    "df[df['Revenue(INR)'] == df['Revenue(INR)'].max()]\n",
    "#sorted(df['Revenue(INR)'])[-1] #2100000000"
   ]
  },
  {
   "cell_type": "code",
   "execution_count": null,
   "id": "e6c0567b",
   "metadata": {
    "papermill": {
     "duration": 0.031975,
     "end_time": "2024-04-10T09:04:37.707414",
     "exception": false,
     "start_time": "2024-04-10T09:04:37.675439",
     "status": "completed"
    },
    "tags": []
   },
   "outputs": [],
   "source": []
  },
  {
   "cell_type": "markdown",
   "id": "90cf3a59",
   "metadata": {
    "papermill": {
     "duration": 0.027438,
     "end_time": "2024-04-10T09:04:37.764968",
     "exception": false,
     "start_time": "2024-04-10T09:04:37.737530",
     "status": "completed"
    },
    "tags": []
   },
   "source": [
    "Identify the most common lead star in the dataset."
   ]
  },
  {
   "cell_type": "code",
   "execution_count": 7,
   "id": "d34ce5af",
   "metadata": {
    "execution": {
     "iopub.execute_input": "2024-04-10T09:04:37.815323Z",
     "iopub.status.busy": "2024-04-10T09:04:37.814832Z",
     "iopub.status.idle": "2024-04-10T09:04:37.833444Z",
     "shell.execute_reply": "2024-04-10T09:04:37.832115Z"
    },
    "papermill": {
     "duration": 0.046251,
     "end_time": "2024-04-10T09:04:37.836125",
     "exception": false,
     "start_time": "2024-04-10T09:04:37.789874",
     "status": "completed"
    },
    "tags": []
   },
   "outputs": [
    {
     "data": {
      "text/html": [
       "<div>\n",
       "<style scoped>\n",
       "    .dataframe tbody tr th:only-of-type {\n",
       "        vertical-align: middle;\n",
       "    }\n",
       "\n",
       "    .dataframe tbody tr th {\n",
       "        vertical-align: top;\n",
       "    }\n",
       "\n",
       "    .dataframe thead th {\n",
       "        text-align: right;\n",
       "    }\n",
       "</style>\n",
       "<table border=\"1\" class=\"dataframe\">\n",
       "  <thead>\n",
       "    <tr style=\"text-align: right;\">\n",
       "      <th></th>\n",
       "      <th>Lead Star</th>\n",
       "      <th>count</th>\n",
       "    </tr>\n",
       "  </thead>\n",
       "  <tbody>\n",
       "    <tr>\n",
       "      <th>0</th>\n",
       "      <td>Akshay Kumar</td>\n",
       "      <td>48</td>\n",
       "    </tr>\n",
       "    <tr>\n",
       "      <th>1</th>\n",
       "      <td>Ajay Devgn</td>\n",
       "      <td>35</td>\n",
       "    </tr>\n",
       "    <tr>\n",
       "      <th>2</th>\n",
       "      <td>Emraan Hashmi</td>\n",
       "      <td>27</td>\n",
       "    </tr>\n",
       "    <tr>\n",
       "      <th>3</th>\n",
       "      <td>Salman Khan</td>\n",
       "      <td>27</td>\n",
       "    </tr>\n",
       "    <tr>\n",
       "      <th>4</th>\n",
       "      <td>Amitabh Bachchan</td>\n",
       "      <td>21</td>\n",
       "    </tr>\n",
       "  </tbody>\n",
       "</table>\n",
       "</div>"
      ],
      "text/plain": [
       "          Lead Star  count\n",
       "0      Akshay Kumar     48\n",
       "1        Ajay Devgn     35\n",
       "2     Emraan Hashmi     27\n",
       "3       Salman Khan     27\n",
       "4  Amitabh Bachchan     21"
      ]
     },
     "execution_count": 7,
     "metadata": {},
     "output_type": "execute_result"
    }
   ],
   "source": [
    "# Identify the most common lead star in the dataset.\n",
    "df['Lead Star'].value_counts().head().reset_index()"
   ]
  },
  {
   "cell_type": "markdown",
   "id": "bab6b10c",
   "metadata": {
    "papermill": {
     "duration": 0.032025,
     "end_time": "2024-04-10T09:04:37.892396",
     "exception": false,
     "start_time": "2024-04-10T09:04:37.860371",
     "status": "completed"
    },
    "tags": []
   },
   "source": [
    "What is the median revenue for movies in the 'Action' genre?"
   ]
  },
  {
   "cell_type": "code",
   "execution_count": 8,
   "id": "2cb5155d",
   "metadata": {
    "execution": {
     "iopub.execute_input": "2024-04-10T09:04:37.947200Z",
     "iopub.status.busy": "2024-04-10T09:04:37.946356Z",
     "iopub.status.idle": "2024-04-10T09:04:37.959634Z",
     "shell.execute_reply": "2024-04-10T09:04:37.958416Z"
    },
    "papermill": {
     "duration": 0.041327,
     "end_time": "2024-04-10T09:04:37.962366",
     "exception": false,
     "start_time": "2024-04-10T09:04:37.921039",
     "status": "completed"
    },
    "tags": []
   },
   "outputs": [
    {
     "data": {
      "text/plain": [
       "210000000.0"
      ]
     },
     "execution_count": 8,
     "metadata": {},
     "output_type": "execute_result"
    }
   ],
   "source": [
    "# What is the median revenue for movies in the 'Action' genre?\n",
    "df[df[\"Genre\"] == \"action\"][\"Revenue(INR)\"].median()"
   ]
  },
  {
   "cell_type": "code",
   "execution_count": 9,
   "id": "1ee4cba9",
   "metadata": {
    "execution": {
     "iopub.execute_input": "2024-04-10T09:04:38.014669Z",
     "iopub.status.busy": "2024-04-10T09:04:38.013917Z",
     "iopub.status.idle": "2024-04-10T09:04:38.022930Z",
     "shell.execute_reply": "2024-04-10T09:04:38.021864Z"
    },
    "papermill": {
     "duration": 0.038757,
     "end_time": "2024-04-10T09:04:38.025612",
     "exception": false,
     "start_time": "2024-04-10T09:04:37.986855",
     "status": "completed"
    },
    "tags": []
   },
   "outputs": [
    {
     "name": "stdout",
     "output_type": "stream",
     "text": [
      "Total movies in dataset : 1698\n",
      "--------------------------------------------------\n",
      "Total remakes : 71\n",
      "Total non-remakes : 1627\n"
     ]
    }
   ],
   "source": [
    "# How many movies are remakes, and how many are not?\n",
    "print(\"Total movies in dataset :\", len(df))\n",
    "print(\"-\"*50)\n",
    "print(\"Total remakes :\",len(df[df[\"Whether Remake\"] == \"Yes\"]))\n",
    "print(\"Total non-remakes :\",len(df[df[\"Whether Remake\"] == \"No\"]))\n",
    "\n"
   ]
  },
  {
   "cell_type": "code",
   "execution_count": 10,
   "id": "95933681",
   "metadata": {
    "execution": {
     "iopub.execute_input": "2024-04-10T09:04:38.079609Z",
     "iopub.status.busy": "2024-04-10T09:04:38.078550Z",
     "iopub.status.idle": "2024-04-10T09:04:38.093895Z",
     "shell.execute_reply": "2024-04-10T09:04:38.092390Z"
    },
    "papermill": {
     "duration": 0.045428,
     "end_time": "2024-04-10T09:04:38.096647",
     "exception": false,
     "start_time": "2024-04-10T09:04:38.051219",
     "status": "completed"
    },
    "tags": []
   },
   "outputs": [
    {
     "data": {
      "text/plain": [
       "Release Period\n",
       "Holiday    1.982476e+08\n",
       "Normal     1.215181e+08\n",
       "Name: Revenue(INR), dtype: float64"
      ]
     },
     "execution_count": 10,
     "metadata": {},
     "output_type": "execute_result"
    }
   ],
   "source": [
    "# Calculate the average revenue for movies in each release period.\n",
    "df.groupby(\"Release Period\")[\"Revenue(INR)\"].mean()"
   ]
  },
  {
   "cell_type": "code",
   "execution_count": 11,
   "id": "8b70cb29",
   "metadata": {
    "execution": {
     "iopub.execute_input": "2024-04-10T09:04:38.148907Z",
     "iopub.status.busy": "2024-04-10T09:04:38.148439Z",
     "iopub.status.idle": "2024-04-10T09:04:38.168196Z",
     "shell.execute_reply": "2024-04-10T09:04:38.166874Z"
    },
    "papermill": {
     "duration": 0.049295,
     "end_time": "2024-04-10T09:04:38.170966",
     "exception": false,
     "start_time": "2024-04-10T09:04:38.121671",
     "status": "completed"
    },
    "tags": []
   },
   "outputs": [
    {
     "data": {
      "text/html": [
       "<div>\n",
       "<style scoped>\n",
       "    .dataframe tbody tr th:only-of-type {\n",
       "        vertical-align: middle;\n",
       "    }\n",
       "\n",
       "    .dataframe tbody tr th {\n",
       "        vertical-align: top;\n",
       "    }\n",
       "\n",
       "    .dataframe thead th {\n",
       "        text-align: right;\n",
       "    }\n",
       "</style>\n",
       "<table border=\"1\" class=\"dataframe\">\n",
       "  <thead>\n",
       "    <tr style=\"text-align: right;\">\n",
       "      <th></th>\n",
       "      <th>Movie Name</th>\n",
       "      <th>Release Period</th>\n",
       "      <th>Whether Remake</th>\n",
       "      <th>Whether Franchise</th>\n",
       "      <th>Genre</th>\n",
       "      <th>New Actor</th>\n",
       "      <th>New Director</th>\n",
       "      <th>New Music Director</th>\n",
       "      <th>Lead Star</th>\n",
       "      <th>Director</th>\n",
       "      <th>Music Director</th>\n",
       "      <th>Number of Screens</th>\n",
       "      <th>Revenue(INR)</th>\n",
       "      <th>Budget(INR)</th>\n",
       "    </tr>\n",
       "  </thead>\n",
       "  <tbody>\n",
       "    <tr>\n",
       "      <th>1240</th>\n",
       "      <td>Tiger Zinda Hai</td>\n",
       "      <td>Holiday</td>\n",
       "      <td>No</td>\n",
       "      <td>Yes</td>\n",
       "      <td>action</td>\n",
       "      <td>No</td>\n",
       "      <td>No</td>\n",
       "      <td>No</td>\n",
       "      <td>Salman Khan</td>\n",
       "      <td>Ali Abbas Zafar</td>\n",
       "      <td>Vishal - Shekhar</td>\n",
       "      <td>4600</td>\n",
       "      <td>2100000000</td>\n",
       "      <td>5651020000</td>\n",
       "    </tr>\n",
       "  </tbody>\n",
       "</table>\n",
       "</div>"
      ],
      "text/plain": [
       "           Movie Name Release Period Whether Remake Whether Franchise   Genre  \\\n",
       "1240  Tiger Zinda Hai        Holiday             No               Yes  action   \n",
       "\n",
       "     New Actor New Director New Music Director    Lead Star         Director  \\\n",
       "1240        No           No                 No  Salman Khan  Ali Abbas Zafar   \n",
       "\n",
       "        Music Director  Number of Screens  Revenue(INR)  Budget(INR)  \n",
       "1240  Vishal - Shekhar               4600    2100000000   5651020000  "
      ]
     },
     "execution_count": 11,
     "metadata": {},
     "output_type": "execute_result"
    }
   ],
   "source": [
    "\n",
    "# Identify the movie with the highest number of screens.\n",
    "df[df[\"Number of Screens\"] == df[\"Number of Screens\"].max()]"
   ]
  },
  {
   "cell_type": "code",
   "execution_count": 12,
   "id": "9acfe9f8",
   "metadata": {
    "execution": {
     "iopub.execute_input": "2024-04-10T09:04:38.225162Z",
     "iopub.status.busy": "2024-04-10T09:04:38.224027Z",
     "iopub.status.idle": "2024-04-10T09:04:38.244566Z",
     "shell.execute_reply": "2024-04-10T09:04:38.243639Z"
    },
    "papermill": {
     "duration": 0.049876,
     "end_time": "2024-04-10T09:04:38.246886",
     "exception": false,
     "start_time": "2024-04-10T09:04:38.197010",
     "status": "completed"
    },
    "tags": []
   },
   "outputs": [
    {
     "data": {
      "text/html": [
       "<div>\n",
       "<style scoped>\n",
       "    .dataframe tbody tr th:only-of-type {\n",
       "        vertical-align: middle;\n",
       "    }\n",
       "\n",
       "    .dataframe tbody tr th {\n",
       "        vertical-align: top;\n",
       "    }\n",
       "\n",
       "    .dataframe thead th {\n",
       "        text-align: right;\n",
       "    }\n",
       "</style>\n",
       "<table border=\"1\" class=\"dataframe\">\n",
       "  <thead>\n",
       "    <tr style=\"text-align: right;\">\n",
       "      <th></th>\n",
       "      <th>Director</th>\n",
       "      <th>Revenue(INR)</th>\n",
       "    </tr>\n",
       "  </thead>\n",
       "  <tbody>\n",
       "    <tr>\n",
       "      <th>740</th>\n",
       "      <td>S.S. Rajamouli</td>\n",
       "      <td>1.825000e+09</td>\n",
       "    </tr>\n",
       "    <tr>\n",
       "      <th>759</th>\n",
       "      <td>Sajid Nadiadwala</td>\n",
       "      <td>1.400000e+09</td>\n",
       "    </tr>\n",
       "    <tr>\n",
       "      <th>65</th>\n",
       "      <td>Ali Abbas Zafar</td>\n",
       "      <td>1.095000e+09</td>\n",
       "    </tr>\n",
       "    <tr>\n",
       "      <th>992</th>\n",
       "      <td>Vijay Krishna Acharya</td>\n",
       "      <td>1.030000e+09</td>\n",
       "    </tr>\n",
       "    <tr>\n",
       "      <th>896</th>\n",
       "      <td>Sooraj Barjatya</td>\n",
       "      <td>9.400000e+08</td>\n",
       "    </tr>\n",
       "  </tbody>\n",
       "</table>\n",
       "</div>"
      ],
      "text/plain": [
       "                  Director  Revenue(INR)\n",
       "740         S.S. Rajamouli  1.825000e+09\n",
       "759       Sajid Nadiadwala  1.400000e+09\n",
       "65         Ali Abbas Zafar  1.095000e+09\n",
       "992  Vijay Krishna Acharya  1.030000e+09\n",
       "896        Sooraj Barjatya  9.400000e+08"
      ]
     },
     "execution_count": 12,
     "metadata": {},
     "output_type": "execute_result"
    }
   ],
   "source": [
    "# Find the top 5 directors with the highest average revenue.\n",
    "\n",
    "df.groupby(\"Director\")[\"Revenue(INR)\"].mean()\n",
    "#df.sort_values(by='Column_Name')\n",
    "\n",
    "director_revenue = df.groupby(\"Director\")[\"Revenue(INR)\"].mean().reset_index()\n",
    "director_revenue_sorted = director_revenue.sort_values(by=\"Revenue(INR)\", ascending=False)\n",
    "director_revenue_sorted.head()\n"
   ]
  },
  {
   "cell_type": "code",
   "execution_count": 13,
   "id": "16ecf2f5",
   "metadata": {
    "execution": {
     "iopub.execute_input": "2024-04-10T09:04:38.299390Z",
     "iopub.status.busy": "2024-04-10T09:04:38.298698Z",
     "iopub.status.idle": "2024-04-10T09:04:38.309611Z",
     "shell.execute_reply": "2024-04-10T09:04:38.308472Z"
    },
    "papermill": {
     "duration": 0.039988,
     "end_time": "2024-04-10T09:04:38.312006",
     "exception": false,
     "start_time": "2024-04-10T09:04:38.272018",
     "status": "completed"
    },
    "tags": []
   },
   "outputs": [
    {
     "data": {
      "text/plain": [
       "290000000.0"
      ]
     },
     "execution_count": 13,
     "metadata": {},
     "output_type": "execute_result"
    }
   ],
   "source": [
    "# What is the median revenue for movies that belong to a franchise?\n",
    "df[df[\"Whether Franchise\"] == \"Yes\"][\"Revenue(INR)\"].median()"
   ]
  },
  {
   "cell_type": "code",
   "execution_count": 14,
   "id": "5510264f",
   "metadata": {
    "execution": {
     "iopub.execute_input": "2024-04-10T09:04:38.364830Z",
     "iopub.status.busy": "2024-04-10T09:04:38.364421Z",
     "iopub.status.idle": "2024-04-10T09:04:38.377966Z",
     "shell.execute_reply": "2024-04-10T09:04:38.377019Z"
    },
    "papermill": {
     "duration": 0.042807,
     "end_time": "2024-04-10T09:04:38.380212",
     "exception": false,
     "start_time": "2024-04-10T09:04:38.337405",
     "status": "completed"
    },
    "tags": []
   },
   "outputs": [
    {
     "name": "stdout",
     "output_type": "stream",
     "text": [
      "Total Movies : 1698\n",
      "Total movies in Each period\n",
      "--------------------------------------------------\n"
     ]
    },
    {
     "data": {
      "text/html": [
       "<div>\n",
       "<style scoped>\n",
       "    .dataframe tbody tr th:only-of-type {\n",
       "        vertical-align: middle;\n",
       "    }\n",
       "\n",
       "    .dataframe tbody tr th {\n",
       "        vertical-align: top;\n",
       "    }\n",
       "\n",
       "    .dataframe thead th {\n",
       "        text-align: right;\n",
       "    }\n",
       "</style>\n",
       "<table border=\"1\" class=\"dataframe\">\n",
       "  <thead>\n",
       "    <tr style=\"text-align: right;\">\n",
       "      <th></th>\n",
       "      <th>Release Period</th>\n",
       "      <th>count</th>\n",
       "    </tr>\n",
       "  </thead>\n",
       "  <tbody>\n",
       "    <tr>\n",
       "      <th>0</th>\n",
       "      <td>Normal</td>\n",
       "      <td>1064</td>\n",
       "    </tr>\n",
       "    <tr>\n",
       "      <th>1</th>\n",
       "      <td>Holiday</td>\n",
       "      <td>634</td>\n",
       "    </tr>\n",
       "  </tbody>\n",
       "</table>\n",
       "</div>"
      ],
      "text/plain": [
       "  Release Period  count\n",
       "0         Normal   1064\n",
       "1        Holiday    634"
      ]
     },
     "execution_count": 14,
     "metadata": {},
     "output_type": "execute_result"
    }
   ],
   "source": [
    "# How many movies were released in each period?\n",
    "print(\"Total Movies :\", len(df))\n",
    "print(\"Total movies in Each period\")\n",
    "print(\"-\"*50)\n",
    "df[\"Release Period\"].value_counts().reset_index()"
   ]
  },
  {
   "cell_type": "code",
   "execution_count": 15,
   "id": "17bc1965",
   "metadata": {
    "execution": {
     "iopub.execute_input": "2024-04-10T09:04:38.434182Z",
     "iopub.status.busy": "2024-04-10T09:04:38.433764Z",
     "iopub.status.idle": "2024-04-10T09:04:38.444650Z",
     "shell.execute_reply": "2024-04-10T09:04:38.443296Z"
    },
    "papermill": {
     "duration": 0.041809,
     "end_time": "2024-04-10T09:04:38.447595",
     "exception": false,
     "start_time": "2024-04-10T09:04:38.405786",
     "status": "completed"
    },
    "tags": []
   },
   "outputs": [
    {
     "name": "stdout",
     "output_type": "stream",
     "text": [
      "With new actor: 49675604.395604394\n",
      "Without new actor: 186952393.40305713\n"
     ]
    }
   ],
   "source": [
    "# Calculate the average revenue for movies with a new actor versus those without a new actor.\n",
    "\n",
    "print(\"With new actor:\", df[df[\"New Actor\"] == \"Yes\"][\"Revenue(INR)\"].mean())\n",
    "print(\"Without new actor:\", df[df[\"New Actor\"] == \"No\"][\"Revenue(INR)\"].mean())"
   ]
  },
  {
   "cell_type": "code",
   "execution_count": 16,
   "id": "3ae1f918",
   "metadata": {
    "execution": {
     "iopub.execute_input": "2024-04-10T09:04:38.502584Z",
     "iopub.status.busy": "2024-04-10T09:04:38.501131Z",
     "iopub.status.idle": "2024-04-10T09:04:38.514884Z",
     "shell.execute_reply": "2024-04-10T09:04:38.514010Z"
    },
    "papermill": {
     "duration": 0.044334,
     "end_time": "2024-04-10T09:04:38.517080",
     "exception": false,
     "start_time": "2024-04-10T09:04:38.472746",
     "status": "completed"
    },
    "tags": []
   },
   "outputs": [
    {
     "data": {
      "text/html": [
       "<div>\n",
       "<style scoped>\n",
       "    .dataframe tbody tr th:only-of-type {\n",
       "        vertical-align: middle;\n",
       "    }\n",
       "\n",
       "    .dataframe tbody tr th {\n",
       "        vertical-align: top;\n",
       "    }\n",
       "\n",
       "    .dataframe thead th {\n",
       "        text-align: right;\n",
       "    }\n",
       "</style>\n",
       "<table border=\"1\" class=\"dataframe\">\n",
       "  <thead>\n",
       "    <tr style=\"text-align: right;\">\n",
       "      <th></th>\n",
       "      <th>Music Director</th>\n",
       "      <th>count</th>\n",
       "    </tr>\n",
       "  </thead>\n",
       "  <tbody>\n",
       "    <tr>\n",
       "      <th>0</th>\n",
       "      <td>Pritam</td>\n",
       "      <td>92</td>\n",
       "    </tr>\n",
       "  </tbody>\n",
       "</table>\n",
       "</div>"
      ],
      "text/plain": [
       "  Music Director  count\n",
       "0         Pritam     92"
      ]
     },
     "execution_count": 16,
     "metadata": {},
     "output_type": "execute_result"
    }
   ],
   "source": [
    "# Determine the most frequent music director in the dataset.\n",
    "df[\"Music Director\"].value_counts().sort_values(ascending=False).head().reset_index()[0:1]"
   ]
  },
  {
   "cell_type": "code",
   "execution_count": 17,
   "id": "8f9dd589",
   "metadata": {
    "execution": {
     "iopub.execute_input": "2024-04-10T09:04:38.570521Z",
     "iopub.status.busy": "2024-04-10T09:04:38.569709Z",
     "iopub.status.idle": "2024-04-10T09:04:38.578776Z",
     "shell.execute_reply": "2024-04-10T09:04:38.577606Z"
    },
    "papermill": {
     "duration": 0.038815,
     "end_time": "2024-04-10T09:04:38.581228",
     "exception": false,
     "start_time": "2024-04-10T09:04:38.542413",
     "status": "completed"
    },
    "tags": []
   },
   "outputs": [
    {
     "data": {
      "text/plain": [
       "75523314.9509804"
      ]
     },
     "execution_count": 17,
     "metadata": {},
     "output_type": "execute_result"
    }
   ],
   "source": [
    "# What is the average revenue for movies with a new director?\n",
    "df[df[\"New Director\"] == \"Yes\"][\"Revenue(INR)\"].mean()"
   ]
  },
  {
   "cell_type": "code",
   "execution_count": 18,
   "id": "8c623424",
   "metadata": {
    "execution": {
     "iopub.execute_input": "2024-04-10T09:04:38.635424Z",
     "iopub.status.busy": "2024-04-10T09:04:38.634921Z",
     "iopub.status.idle": "2024-04-10T09:04:38.658598Z",
     "shell.execute_reply": "2024-04-10T09:04:38.657408Z"
    },
    "papermill": {
     "duration": 0.053871,
     "end_time": "2024-04-10T09:04:38.661042",
     "exception": false,
     "start_time": "2024-04-10T09:04:38.607171",
     "status": "completed"
    },
    "tags": []
   },
   "outputs": [
    {
     "data": {
      "text/html": [
       "<div>\n",
       "<style scoped>\n",
       "    .dataframe tbody tr th:only-of-type {\n",
       "        vertical-align: middle;\n",
       "    }\n",
       "\n",
       "    .dataframe tbody tr th {\n",
       "        vertical-align: top;\n",
       "    }\n",
       "\n",
       "    .dataframe thead th {\n",
       "        text-align: right;\n",
       "    }\n",
       "</style>\n",
       "<table border=\"1\" class=\"dataframe\">\n",
       "  <thead>\n",
       "    <tr style=\"text-align: right;\">\n",
       "      <th></th>\n",
       "      <th>Movie Name</th>\n",
       "      <th>Release Period</th>\n",
       "      <th>Whether Remake</th>\n",
       "      <th>Whether Franchise</th>\n",
       "      <th>Genre</th>\n",
       "      <th>New Actor</th>\n",
       "      <th>New Director</th>\n",
       "      <th>New Music Director</th>\n",
       "      <th>Lead Star</th>\n",
       "      <th>Director</th>\n",
       "      <th>Music Director</th>\n",
       "      <th>Number of Screens</th>\n",
       "      <th>Revenue(INR)</th>\n",
       "      <th>Budget(INR)</th>\n",
       "    </tr>\n",
       "  </thead>\n",
       "  <tbody>\n",
       "    <tr>\n",
       "      <th>4</th>\n",
       "      <td>Chaatwali</td>\n",
       "      <td>Holiday</td>\n",
       "      <td>No</td>\n",
       "      <td>No</td>\n",
       "      <td>adult</td>\n",
       "      <td>Yes</td>\n",
       "      <td>Yes</td>\n",
       "      <td>Yes</td>\n",
       "      <td>Aadil Khan</td>\n",
       "      <td>Aadil Khan</td>\n",
       "      <td>Babloo Ustad</td>\n",
       "      <td>1</td>\n",
       "      <td>1000000</td>\n",
       "      <td>1075000</td>\n",
       "    </tr>\n",
       "    <tr>\n",
       "      <th>5</th>\n",
       "      <td>Shuttlecock Boys</td>\n",
       "      <td>Normal</td>\n",
       "      <td>No</td>\n",
       "      <td>No</td>\n",
       "      <td>comedy</td>\n",
       "      <td>Yes</td>\n",
       "      <td>Yes</td>\n",
       "      <td>Yes</td>\n",
       "      <td>Aakar Kaushik</td>\n",
       "      <td>Hemant Gaba</td>\n",
       "      <td>Avinash Baghel</td>\n",
       "      <td>10</td>\n",
       "      <td>5000000</td>\n",
       "      <td>170000</td>\n",
       "    </tr>\n",
       "    <tr>\n",
       "      <th>18</th>\n",
       "      <td>Pyaar Mein Aisa Hota Hai</td>\n",
       "      <td>Holiday</td>\n",
       "      <td>No</td>\n",
       "      <td>No</td>\n",
       "      <td>thriller</td>\n",
       "      <td>Yes</td>\n",
       "      <td>Yes</td>\n",
       "      <td>Yes</td>\n",
       "      <td>Aanamika Bawa</td>\n",
       "      <td>Rajesh Kumar</td>\n",
       "      <td>Shabab Azmi</td>\n",
       "      <td>5</td>\n",
       "      <td>5500000</td>\n",
       "      <td>350000</td>\n",
       "    </tr>\n",
       "    <tr>\n",
       "      <th>19</th>\n",
       "      <td>Gurjar Aandolan - A Fight For Right</td>\n",
       "      <td>Normal</td>\n",
       "      <td>No</td>\n",
       "      <td>No</td>\n",
       "      <td>drama</td>\n",
       "      <td>Yes</td>\n",
       "      <td>Yes</td>\n",
       "      <td>Yes</td>\n",
       "      <td>Aarun Nagar</td>\n",
       "      <td>Aarun Nagar</td>\n",
       "      <td>Ashish Donald</td>\n",
       "      <td>5</td>\n",
       "      <td>6500000</td>\n",
       "      <td>575000</td>\n",
       "    </tr>\n",
       "    <tr>\n",
       "      <th>22</th>\n",
       "      <td>Dreams - Sapnay Sach Honge...</td>\n",
       "      <td>Holiday</td>\n",
       "      <td>No</td>\n",
       "      <td>No</td>\n",
       "      <td>love_story</td>\n",
       "      <td>Yes</td>\n",
       "      <td>Yes</td>\n",
       "      <td>No</td>\n",
       "      <td>Aashish Chanana</td>\n",
       "      <td>Aashish Chanana</td>\n",
       "      <td>Sajid - Wajid</td>\n",
       "      <td>25</td>\n",
       "      <td>12500000</td>\n",
       "      <td>1375000</td>\n",
       "    </tr>\n",
       "  </tbody>\n",
       "</table>\n",
       "</div>"
      ],
      "text/plain": [
       "                             Movie Name Release Period Whether Remake  \\\n",
       "4                             Chaatwali        Holiday             No   \n",
       "5                      Shuttlecock Boys         Normal             No   \n",
       "18             Pyaar Mein Aisa Hota Hai        Holiday             No   \n",
       "19  Gurjar Aandolan - A Fight For Right         Normal             No   \n",
       "22        Dreams - Sapnay Sach Honge...        Holiday             No   \n",
       "\n",
       "   Whether Franchise       Genre New Actor New Director New Music Director  \\\n",
       "4                 No       adult       Yes          Yes                Yes   \n",
       "5                 No      comedy       Yes          Yes                Yes   \n",
       "18                No    thriller       Yes          Yes                Yes   \n",
       "19                No       drama       Yes          Yes                Yes   \n",
       "22                No  love_story       Yes          Yes                 No   \n",
       "\n",
       "          Lead Star         Director  Music Director  Number of Screens  \\\n",
       "4        Aadil Khan       Aadil Khan    Babloo Ustad                  1   \n",
       "5     Aakar Kaushik      Hemant Gaba  Avinash Baghel                 10   \n",
       "18    Aanamika Bawa     Rajesh Kumar     Shabab Azmi                  5   \n",
       "19      Aarun Nagar      Aarun Nagar   Ashish Donald                  5   \n",
       "22  Aashish Chanana  Aashish Chanana   Sajid - Wajid                 25   \n",
       "\n",
       "    Revenue(INR)  Budget(INR)  \n",
       "4        1000000      1075000  \n",
       "5        5000000       170000  \n",
       "18       5500000       350000  \n",
       "19       6500000       575000  \n",
       "22      12500000      1375000  "
      ]
     },
     "execution_count": 18,
     "metadata": {},
     "output_type": "execute_result"
    }
   ],
   "source": [
    "# How many movies have a new music director and a new actor simultaneously?\n",
    "df[(df[\"New Director\"] == \"Yes\") & (df[\"New Actor\"] == \"Yes\")].head()\n"
   ]
  },
  {
   "cell_type": "code",
   "execution_count": 19,
   "id": "46e6fbea",
   "metadata": {
    "execution": {
     "iopub.execute_input": "2024-04-10T09:04:38.715300Z",
     "iopub.status.busy": "2024-04-10T09:04:38.714813Z",
     "iopub.status.idle": "2024-04-10T09:04:38.730837Z",
     "shell.execute_reply": "2024-04-10T09:04:38.729484Z"
    },
    "papermill": {
     "duration": 0.045842,
     "end_time": "2024-04-10T09:04:38.733114",
     "exception": false,
     "start_time": "2024-04-10T09:04:38.687272",
     "status": "completed"
    },
    "tags": []
   },
   "outputs": [
    {
     "data": {
      "text/html": [
       "<div>\n",
       "<style scoped>\n",
       "    .dataframe tbody tr th:only-of-type {\n",
       "        vertical-align: middle;\n",
       "    }\n",
       "\n",
       "    .dataframe tbody tr th {\n",
       "        vertical-align: top;\n",
       "    }\n",
       "\n",
       "    .dataframe thead th {\n",
       "        text-align: right;\n",
       "    }\n",
       "</style>\n",
       "<table border=\"1\" class=\"dataframe\">\n",
       "  <thead>\n",
       "    <tr style=\"text-align: right;\">\n",
       "      <th></th>\n",
       "      <th>Lead Star</th>\n",
       "      <th>Revenue(INR)</th>\n",
       "    </tr>\n",
       "  </thead>\n",
       "  <tbody>\n",
       "    <tr>\n",
       "      <th>0</th>\n",
       "      <td>Akshay Kumar</td>\n",
       "      <td>24420000000</td>\n",
       "    </tr>\n",
       "    <tr>\n",
       "      <th>1</th>\n",
       "      <td>Salman Khan</td>\n",
       "      <td>18520000000</td>\n",
       "    </tr>\n",
       "    <tr>\n",
       "      <th>2</th>\n",
       "      <td>Ajay Devgn</td>\n",
       "      <td>15155000000</td>\n",
       "    </tr>\n",
       "    <tr>\n",
       "      <th>3</th>\n",
       "      <td>Shahrukh Khan</td>\n",
       "      <td>13660000000</td>\n",
       "    </tr>\n",
       "    <tr>\n",
       "      <th>4</th>\n",
       "      <td>Ranbir Kapoor</td>\n",
       "      <td>10107500000</td>\n",
       "    </tr>\n",
       "  </tbody>\n",
       "</table>\n",
       "</div>"
      ],
      "text/plain": [
       "       Lead Star  Revenue(INR)\n",
       "0   Akshay Kumar   24420000000\n",
       "1    Salman Khan   18520000000\n",
       "2     Ajay Devgn   15155000000\n",
       "3  Shahrukh Khan   13660000000\n",
       "4  Ranbir Kapoor   10107500000"
      ]
     },
     "execution_count": 19,
     "metadata": {},
     "output_type": "execute_result"
    }
   ],
   "source": [
    "# Calculate the total revenue for each lead star.\n",
    "df.groupby(\"Lead Star\")[\"Revenue(INR)\"].sum().sort_values(ascending = False).reset_index().head()"
   ]
  },
  {
   "cell_type": "code",
   "execution_count": 20,
   "id": "f7d7b31f",
   "metadata": {
    "execution": {
     "iopub.execute_input": "2024-04-10T09:04:38.788411Z",
     "iopub.status.busy": "2024-04-10T09:04:38.787120Z",
     "iopub.status.idle": "2024-04-10T09:04:38.811014Z",
     "shell.execute_reply": "2024-04-10T09:04:38.809700Z"
    },
    "papermill": {
     "duration": 0.054504,
     "end_time": "2024-04-10T09:04:38.813463",
     "exception": false,
     "start_time": "2024-04-10T09:04:38.758959",
     "status": "completed"
    },
    "tags": []
   },
   "outputs": [
    {
     "data": {
      "text/html": [
       "<div>\n",
       "<style scoped>\n",
       "    .dataframe tbody tr th:only-of-type {\n",
       "        vertical-align: middle;\n",
       "    }\n",
       "\n",
       "    .dataframe tbody tr th {\n",
       "        vertical-align: top;\n",
       "    }\n",
       "\n",
       "    .dataframe thead th {\n",
       "        text-align: right;\n",
       "    }\n",
       "</style>\n",
       "<table border=\"1\" class=\"dataframe\">\n",
       "  <thead>\n",
       "    <tr style=\"text-align: right;\">\n",
       "      <th></th>\n",
       "      <th>Movie Name</th>\n",
       "      <th>Release Period</th>\n",
       "      <th>Whether Remake</th>\n",
       "      <th>Whether Franchise</th>\n",
       "      <th>Genre</th>\n",
       "      <th>New Actor</th>\n",
       "      <th>New Director</th>\n",
       "      <th>New Music Director</th>\n",
       "      <th>Lead Star</th>\n",
       "      <th>Director</th>\n",
       "      <th>Music Director</th>\n",
       "      <th>Number of Screens</th>\n",
       "      <th>Revenue(INR)</th>\n",
       "      <th>Budget(INR)</th>\n",
       "      <th>Profit</th>\n",
       "    </tr>\n",
       "  </thead>\n",
       "  <tbody>\n",
       "    <tr>\n",
       "      <th>1240</th>\n",
       "      <td>Tiger Zinda Hai</td>\n",
       "      <td>Holiday</td>\n",
       "      <td>No</td>\n",
       "      <td>Yes</td>\n",
       "      <td>action</td>\n",
       "      <td>No</td>\n",
       "      <td>No</td>\n",
       "      <td>No</td>\n",
       "      <td>Salman Khan</td>\n",
       "      <td>Ali Abbas Zafar</td>\n",
       "      <td>Vishal - Shekhar</td>\n",
       "      <td>4600</td>\n",
       "      <td>2100000000</td>\n",
       "      <td>5651020000</td>\n",
       "      <td>-3551020000</td>\n",
       "    </tr>\n",
       "    <tr>\n",
       "      <th>947</th>\n",
       "      <td>Bahubali 2 - The Conclusion</td>\n",
       "      <td>Holiday</td>\n",
       "      <td>No</td>\n",
       "      <td>Yes</td>\n",
       "      <td>masala</td>\n",
       "      <td>No</td>\n",
       "      <td>No</td>\n",
       "      <td>No</td>\n",
       "      <td>Prabhas</td>\n",
       "      <td>S.S. Rajamouli</td>\n",
       "      <td>M.M. Kreem</td>\n",
       "      <td>3950</td>\n",
       "      <td>1950000000</td>\n",
       "      <td>8016120000</td>\n",
       "      <td>-6066120000</td>\n",
       "    </tr>\n",
       "    <tr>\n",
       "      <th>17</th>\n",
       "      <td>Dhoom 3</td>\n",
       "      <td>Normal</td>\n",
       "      <td>No</td>\n",
       "      <td>Yes</td>\n",
       "      <td>action</td>\n",
       "      <td>No</td>\n",
       "      <td>No</td>\n",
       "      <td>No</td>\n",
       "      <td>Aamir Khan</td>\n",
       "      <td>Vijay Krishna Acharya</td>\n",
       "      <td>Pritam</td>\n",
       "      <td>3650</td>\n",
       "      <td>1750000000</td>\n",
       "      <td>5243760000</td>\n",
       "      <td>-3493760000</td>\n",
       "    </tr>\n",
       "    <tr>\n",
       "      <th>121</th>\n",
       "      <td>Golmaal Again</td>\n",
       "      <td>Holiday</td>\n",
       "      <td>No</td>\n",
       "      <td>Yes</td>\n",
       "      <td>comedy</td>\n",
       "      <td>No</td>\n",
       "      <td>No</td>\n",
       "      <td>Yes</td>\n",
       "      <td>Ajay Devgn</td>\n",
       "      <td>Rohit Shetty</td>\n",
       "      <td>DJ Chetas</td>\n",
       "      <td>3300</td>\n",
       "      <td>1420000000</td>\n",
       "      <td>3110450000</td>\n",
       "      <td>-1690450000</td>\n",
       "    </tr>\n",
       "    <tr>\n",
       "      <th>646</th>\n",
       "      <td>Welcome Back</td>\n",
       "      <td>Holiday</td>\n",
       "      <td>No</td>\n",
       "      <td>Yes</td>\n",
       "      <td>comedy</td>\n",
       "      <td>No</td>\n",
       "      <td>No</td>\n",
       "      <td>No</td>\n",
       "      <td>John Abraham</td>\n",
       "      <td>Anees Bazmee</td>\n",
       "      <td>Meet Bros</td>\n",
       "      <td>3200</td>\n",
       "      <td>1080000000</td>\n",
       "      <td>1687670000</td>\n",
       "      <td>-607670000</td>\n",
       "    </tr>\n",
       "  </tbody>\n",
       "</table>\n",
       "</div>"
      ],
      "text/plain": [
       "                       Movie Name Release Period Whether Remake  \\\n",
       "1240              Tiger Zinda Hai        Holiday             No   \n",
       "947   Bahubali 2 - The Conclusion        Holiday             No   \n",
       "17                        Dhoom 3         Normal             No   \n",
       "121                 Golmaal Again        Holiday             No   \n",
       "646                  Welcome Back        Holiday             No   \n",
       "\n",
       "     Whether Franchise   Genre New Actor New Director New Music Director  \\\n",
       "1240               Yes  action        No           No                 No   \n",
       "947                Yes  masala        No           No                 No   \n",
       "17                 Yes  action        No           No                 No   \n",
       "121                Yes  comedy        No           No                Yes   \n",
       "646                Yes  comedy        No           No                 No   \n",
       "\n",
       "         Lead Star               Director    Music Director  \\\n",
       "1240   Salman Khan        Ali Abbas Zafar  Vishal - Shekhar   \n",
       "947        Prabhas         S.S. Rajamouli        M.M. Kreem   \n",
       "17      Aamir Khan  Vijay Krishna Acharya            Pritam   \n",
       "121     Ajay Devgn           Rohit Shetty         DJ Chetas   \n",
       "646   John Abraham           Anees Bazmee         Meet Bros   \n",
       "\n",
       "      Number of Screens  Revenue(INR)  Budget(INR)      Profit  \n",
       "1240               4600    2100000000   5651020000 -3551020000  \n",
       "947                3950    1950000000   8016120000 -6066120000  \n",
       "17                 3650    1750000000   5243760000 -3493760000  \n",
       "121                3300    1420000000   3110450000 -1690450000  \n",
       "646                3200    1080000000   1687670000  -607670000  "
      ]
     },
     "execution_count": 20,
     "metadata": {},
     "output_type": "execute_result"
    }
   ],
   "source": [
    "# Determine the most profitable franchise in terms of revenue.\n",
    "df[\"Profit\"] = df[\"Revenue(INR)\"] - df[\"Budget(INR)\"]\n",
    "df[df[\"Whether Franchise\"] == \"Yes\"].sort_values(by=\"Revenue(INR)\", ascending=False).head()\n",
    "\n",
    "#sort_values(by=\"Revenue(INR)\", ascending=False)"
   ]
  },
  {
   "cell_type": "code",
   "execution_count": 21,
   "id": "f88965fd",
   "metadata": {
    "execution": {
     "iopub.execute_input": "2024-04-10T09:04:38.868516Z",
     "iopub.status.busy": "2024-04-10T09:04:38.868089Z",
     "iopub.status.idle": "2024-04-10T09:04:38.892193Z",
     "shell.execute_reply": "2024-04-10T09:04:38.890968Z"
    },
    "papermill": {
     "duration": 0.054709,
     "end_time": "2024-04-10T09:04:38.894826",
     "exception": false,
     "start_time": "2024-04-10T09:04:38.840117",
     "status": "completed"
    },
    "tags": []
   },
   "outputs": [
    {
     "data": {
      "text/html": [
       "<div>\n",
       "<style scoped>\n",
       "    .dataframe tbody tr th:only-of-type {\n",
       "        vertical-align: middle;\n",
       "    }\n",
       "\n",
       "    .dataframe tbody tr th {\n",
       "        vertical-align: top;\n",
       "    }\n",
       "\n",
       "    .dataframe thead th {\n",
       "        text-align: right;\n",
       "    }\n",
       "</style>\n",
       "<table border=\"1\" class=\"dataframe\">\n",
       "  <thead>\n",
       "    <tr style=\"text-align: right;\">\n",
       "      <th></th>\n",
       "      <th>Genre</th>\n",
       "      <th>Release Period</th>\n",
       "      <th>Revenue(INR)</th>\n",
       "    </tr>\n",
       "  </thead>\n",
       "  <tbody>\n",
       "    <tr>\n",
       "      <th>0</th>\n",
       "      <td>action</td>\n",
       "      <td>Holiday</td>\n",
       "      <td>4.698770e+08</td>\n",
       "    </tr>\n",
       "    <tr>\n",
       "      <th>1</th>\n",
       "      <td>action</td>\n",
       "      <td>Normal</td>\n",
       "      <td>2.239766e+08</td>\n",
       "    </tr>\n",
       "    <tr>\n",
       "      <th>2</th>\n",
       "      <td>adult</td>\n",
       "      <td>Holiday</td>\n",
       "      <td>3.854167e+06</td>\n",
       "    </tr>\n",
       "    <tr>\n",
       "      <th>3</th>\n",
       "      <td>adult</td>\n",
       "      <td>Normal</td>\n",
       "      <td>4.046429e+06</td>\n",
       "    </tr>\n",
       "    <tr>\n",
       "      <th>4</th>\n",
       "      <td>animation</td>\n",
       "      <td>Holiday</td>\n",
       "      <td>1.300000e+08</td>\n",
       "    </tr>\n",
       "    <tr>\n",
       "      <th>5</th>\n",
       "      <td>animation</td>\n",
       "      <td>Normal</td>\n",
       "      <td>3.250000e+07</td>\n",
       "    </tr>\n",
       "    <tr>\n",
       "      <th>6</th>\n",
       "      <td>comedy</td>\n",
       "      <td>Holiday</td>\n",
       "      <td>2.000842e+08</td>\n",
       "    </tr>\n",
       "    <tr>\n",
       "      <th>7</th>\n",
       "      <td>comedy</td>\n",
       "      <td>Normal</td>\n",
       "      <td>1.289021e+08</td>\n",
       "    </tr>\n",
       "    <tr>\n",
       "      <th>8</th>\n",
       "      <td>documentary</td>\n",
       "      <td>Normal</td>\n",
       "      <td>3.900000e+08</td>\n",
       "    </tr>\n",
       "    <tr>\n",
       "      <th>9</th>\n",
       "      <td>drama</td>\n",
       "      <td>Holiday</td>\n",
       "      <td>1.318810e+08</td>\n",
       "    </tr>\n",
       "    <tr>\n",
       "      <th>10</th>\n",
       "      <td>drama</td>\n",
       "      <td>Normal</td>\n",
       "      <td>9.807004e+07</td>\n",
       "    </tr>\n",
       "    <tr>\n",
       "      <th>11</th>\n",
       "      <td>fantasy</td>\n",
       "      <td>Holiday</td>\n",
       "      <td>2.925000e+08</td>\n",
       "    </tr>\n",
       "    <tr>\n",
       "      <th>12</th>\n",
       "      <td>fantasy</td>\n",
       "      <td>Normal</td>\n",
       "      <td>1.583333e+08</td>\n",
       "    </tr>\n",
       "    <tr>\n",
       "      <th>13</th>\n",
       "      <td>horror</td>\n",
       "      <td>Holiday</td>\n",
       "      <td>7.481579e+07</td>\n",
       "    </tr>\n",
       "    <tr>\n",
       "      <th>14</th>\n",
       "      <td>horror</td>\n",
       "      <td>Normal</td>\n",
       "      <td>6.902941e+07</td>\n",
       "    </tr>\n",
       "    <tr>\n",
       "      <th>15</th>\n",
       "      <td>love_story</td>\n",
       "      <td>Holiday</td>\n",
       "      <td>1.842708e+08</td>\n",
       "    </tr>\n",
       "    <tr>\n",
       "      <th>16</th>\n",
       "      <td>love_story</td>\n",
       "      <td>Normal</td>\n",
       "      <td>1.375824e+08</td>\n",
       "    </tr>\n",
       "    <tr>\n",
       "      <th>17</th>\n",
       "      <td>masala</td>\n",
       "      <td>Holiday</td>\n",
       "      <td>9.708333e+08</td>\n",
       "    </tr>\n",
       "    <tr>\n",
       "      <th>18</th>\n",
       "      <td>masala</td>\n",
       "      <td>Normal</td>\n",
       "      <td>1.097500e+09</td>\n",
       "    </tr>\n",
       "    <tr>\n",
       "      <th>19</th>\n",
       "      <td>mythological</td>\n",
       "      <td>Holiday</td>\n",
       "      <td>2.150000e+07</td>\n",
       "    </tr>\n",
       "    <tr>\n",
       "      <th>20</th>\n",
       "      <td>mythological</td>\n",
       "      <td>Normal</td>\n",
       "      <td>4.300000e+06</td>\n",
       "    </tr>\n",
       "    <tr>\n",
       "      <th>21</th>\n",
       "      <td>rom__com</td>\n",
       "      <td>Holiday</td>\n",
       "      <td>2.473387e+08</td>\n",
       "    </tr>\n",
       "    <tr>\n",
       "      <th>22</th>\n",
       "      <td>rom__com</td>\n",
       "      <td>Normal</td>\n",
       "      <td>1.760656e+08</td>\n",
       "    </tr>\n",
       "    <tr>\n",
       "      <th>23</th>\n",
       "      <td>suspense</td>\n",
       "      <td>Holiday</td>\n",
       "      <td>4.850000e+07</td>\n",
       "    </tr>\n",
       "    <tr>\n",
       "      <th>24</th>\n",
       "      <td>suspense</td>\n",
       "      <td>Normal</td>\n",
       "      <td>3.520455e+07</td>\n",
       "    </tr>\n",
       "    <tr>\n",
       "      <th>25</th>\n",
       "      <td>thriller</td>\n",
       "      <td>Holiday</td>\n",
       "      <td>1.850309e+08</td>\n",
       "    </tr>\n",
       "    <tr>\n",
       "      <th>26</th>\n",
       "      <td>thriller</td>\n",
       "      <td>Normal</td>\n",
       "      <td>1.377939e+08</td>\n",
       "    </tr>\n",
       "  </tbody>\n",
       "</table>\n",
       "</div>"
      ],
      "text/plain": [
       "           Genre Release Period  Revenue(INR)\n",
       "0         action        Holiday  4.698770e+08\n",
       "1         action         Normal  2.239766e+08\n",
       "2          adult        Holiday  3.854167e+06\n",
       "3          adult         Normal  4.046429e+06\n",
       "4      animation        Holiday  1.300000e+08\n",
       "5      animation         Normal  3.250000e+07\n",
       "6         comedy        Holiday  2.000842e+08\n",
       "7         comedy         Normal  1.289021e+08\n",
       "8    documentary         Normal  3.900000e+08\n",
       "9          drama        Holiday  1.318810e+08\n",
       "10         drama         Normal  9.807004e+07\n",
       "11       fantasy        Holiday  2.925000e+08\n",
       "12       fantasy         Normal  1.583333e+08\n",
       "13        horror        Holiday  7.481579e+07\n",
       "14        horror         Normal  6.902941e+07\n",
       "15    love_story        Holiday  1.842708e+08\n",
       "16    love_story         Normal  1.375824e+08\n",
       "17        masala        Holiday  9.708333e+08\n",
       "18        masala         Normal  1.097500e+09\n",
       "19  mythological        Holiday  2.150000e+07\n",
       "20  mythological         Normal  4.300000e+06\n",
       "21      rom__com        Holiday  2.473387e+08\n",
       "22      rom__com         Normal  1.760656e+08\n",
       "23      suspense        Holiday  4.850000e+07\n",
       "24      suspense         Normal  3.520455e+07\n",
       "25      thriller        Holiday  1.850309e+08\n",
       "26      thriller         Normal  1.377939e+08"
      ]
     },
     "execution_count": 21,
     "metadata": {},
     "output_type": "execute_result"
    }
   ],
   "source": [
    "# What is the average revenue for movies in each genre and release period combination?\n",
    "df.groupby([\"Genre\", \"Release Period\"])[\"Revenue(INR)\"].mean().reset_index()\n"
   ]
  },
  {
   "cell_type": "code",
   "execution_count": 22,
   "id": "cc3eba7c",
   "metadata": {
    "execution": {
     "iopub.execute_input": "2024-04-10T09:04:38.951956Z",
     "iopub.status.busy": "2024-04-10T09:04:38.951521Z",
     "iopub.status.idle": "2024-04-10T09:04:38.977114Z",
     "shell.execute_reply": "2024-04-10T09:04:38.976141Z"
    },
    "papermill": {
     "duration": 0.057922,
     "end_time": "2024-04-10T09:04:38.979760",
     "exception": false,
     "start_time": "2024-04-10T09:04:38.921838",
     "status": "completed"
    },
    "tags": []
   },
   "outputs": [
    {
     "data": {
      "text/html": [
       "<div>\n",
       "<style scoped>\n",
       "    .dataframe tbody tr th:only-of-type {\n",
       "        vertical-align: middle;\n",
       "    }\n",
       "\n",
       "    .dataframe tbody tr th {\n",
       "        vertical-align: top;\n",
       "    }\n",
       "\n",
       "    .dataframe thead th {\n",
       "        text-align: right;\n",
       "    }\n",
       "</style>\n",
       "<table border=\"1\" class=\"dataframe\">\n",
       "  <thead>\n",
       "    <tr style=\"text-align: right;\">\n",
       "      <th></th>\n",
       "      <th>Genre</th>\n",
       "      <th>Release Period</th>\n",
       "      <th>Mean Revenue</th>\n",
       "    </tr>\n",
       "  </thead>\n",
       "  <tbody>\n",
       "    <tr>\n",
       "      <th>0</th>\n",
       "      <td>action</td>\n",
       "      <td>Holiday</td>\n",
       "      <td>4.698770e+08</td>\n",
       "    </tr>\n",
       "    <tr>\n",
       "      <th>1</th>\n",
       "      <td>action</td>\n",
       "      <td>Normal</td>\n",
       "      <td>2.239766e+08</td>\n",
       "    </tr>\n",
       "    <tr>\n",
       "      <th>2</th>\n",
       "      <td>adult</td>\n",
       "      <td>Holiday</td>\n",
       "      <td>3.854167e+06</td>\n",
       "    </tr>\n",
       "    <tr>\n",
       "      <th>3</th>\n",
       "      <td>adult</td>\n",
       "      <td>Normal</td>\n",
       "      <td>4.046429e+06</td>\n",
       "    </tr>\n",
       "    <tr>\n",
       "      <th>4</th>\n",
       "      <td>animation</td>\n",
       "      <td>Holiday</td>\n",
       "      <td>1.300000e+08</td>\n",
       "    </tr>\n",
       "    <tr>\n",
       "      <th>5</th>\n",
       "      <td>animation</td>\n",
       "      <td>Normal</td>\n",
       "      <td>3.250000e+07</td>\n",
       "    </tr>\n",
       "    <tr>\n",
       "      <th>6</th>\n",
       "      <td>comedy</td>\n",
       "      <td>Holiday</td>\n",
       "      <td>2.000842e+08</td>\n",
       "    </tr>\n",
       "    <tr>\n",
       "      <th>7</th>\n",
       "      <td>comedy</td>\n",
       "      <td>Normal</td>\n",
       "      <td>1.289021e+08</td>\n",
       "    </tr>\n",
       "    <tr>\n",
       "      <th>8</th>\n",
       "      <td>documentary</td>\n",
       "      <td>Normal</td>\n",
       "      <td>3.900000e+08</td>\n",
       "    </tr>\n",
       "    <tr>\n",
       "      <th>9</th>\n",
       "      <td>drama</td>\n",
       "      <td>Holiday</td>\n",
       "      <td>1.318810e+08</td>\n",
       "    </tr>\n",
       "    <tr>\n",
       "      <th>10</th>\n",
       "      <td>drama</td>\n",
       "      <td>Normal</td>\n",
       "      <td>9.807004e+07</td>\n",
       "    </tr>\n",
       "    <tr>\n",
       "      <th>11</th>\n",
       "      <td>fantasy</td>\n",
       "      <td>Holiday</td>\n",
       "      <td>2.925000e+08</td>\n",
       "    </tr>\n",
       "    <tr>\n",
       "      <th>12</th>\n",
       "      <td>fantasy</td>\n",
       "      <td>Normal</td>\n",
       "      <td>1.583333e+08</td>\n",
       "    </tr>\n",
       "    <tr>\n",
       "      <th>13</th>\n",
       "      <td>horror</td>\n",
       "      <td>Holiday</td>\n",
       "      <td>7.481579e+07</td>\n",
       "    </tr>\n",
       "    <tr>\n",
       "      <th>14</th>\n",
       "      <td>horror</td>\n",
       "      <td>Normal</td>\n",
       "      <td>6.902941e+07</td>\n",
       "    </tr>\n",
       "    <tr>\n",
       "      <th>15</th>\n",
       "      <td>love_story</td>\n",
       "      <td>Holiday</td>\n",
       "      <td>1.842708e+08</td>\n",
       "    </tr>\n",
       "    <tr>\n",
       "      <th>16</th>\n",
       "      <td>love_story</td>\n",
       "      <td>Normal</td>\n",
       "      <td>1.375824e+08</td>\n",
       "    </tr>\n",
       "    <tr>\n",
       "      <th>17</th>\n",
       "      <td>masala</td>\n",
       "      <td>Holiday</td>\n",
       "      <td>9.708333e+08</td>\n",
       "    </tr>\n",
       "    <tr>\n",
       "      <th>18</th>\n",
       "      <td>masala</td>\n",
       "      <td>Normal</td>\n",
       "      <td>1.097500e+09</td>\n",
       "    </tr>\n",
       "    <tr>\n",
       "      <th>19</th>\n",
       "      <td>mythological</td>\n",
       "      <td>Holiday</td>\n",
       "      <td>2.150000e+07</td>\n",
       "    </tr>\n",
       "    <tr>\n",
       "      <th>20</th>\n",
       "      <td>mythological</td>\n",
       "      <td>Normal</td>\n",
       "      <td>4.300000e+06</td>\n",
       "    </tr>\n",
       "    <tr>\n",
       "      <th>21</th>\n",
       "      <td>rom__com</td>\n",
       "      <td>Holiday</td>\n",
       "      <td>2.473387e+08</td>\n",
       "    </tr>\n",
       "    <tr>\n",
       "      <th>22</th>\n",
       "      <td>rom__com</td>\n",
       "      <td>Normal</td>\n",
       "      <td>1.760656e+08</td>\n",
       "    </tr>\n",
       "    <tr>\n",
       "      <th>23</th>\n",
       "      <td>suspense</td>\n",
       "      <td>Holiday</td>\n",
       "      <td>4.850000e+07</td>\n",
       "    </tr>\n",
       "    <tr>\n",
       "      <th>24</th>\n",
       "      <td>suspense</td>\n",
       "      <td>Normal</td>\n",
       "      <td>3.520455e+07</td>\n",
       "    </tr>\n",
       "    <tr>\n",
       "      <th>25</th>\n",
       "      <td>thriller</td>\n",
       "      <td>Holiday</td>\n",
       "      <td>1.850309e+08</td>\n",
       "    </tr>\n",
       "    <tr>\n",
       "      <th>26</th>\n",
       "      <td>thriller</td>\n",
       "      <td>Normal</td>\n",
       "      <td>1.377939e+08</td>\n",
       "    </tr>\n",
       "  </tbody>\n",
       "</table>\n",
       "</div>"
      ],
      "text/plain": [
       "           Genre Release Period  Mean Revenue\n",
       "0         action        Holiday  4.698770e+08\n",
       "1         action         Normal  2.239766e+08\n",
       "2          adult        Holiday  3.854167e+06\n",
       "3          adult         Normal  4.046429e+06\n",
       "4      animation        Holiday  1.300000e+08\n",
       "5      animation         Normal  3.250000e+07\n",
       "6         comedy        Holiday  2.000842e+08\n",
       "7         comedy         Normal  1.289021e+08\n",
       "8    documentary         Normal  3.900000e+08\n",
       "9          drama        Holiday  1.318810e+08\n",
       "10         drama         Normal  9.807004e+07\n",
       "11       fantasy        Holiday  2.925000e+08\n",
       "12       fantasy         Normal  1.583333e+08\n",
       "13        horror        Holiday  7.481579e+07\n",
       "14        horror         Normal  6.902941e+07\n",
       "15    love_story        Holiday  1.842708e+08\n",
       "16    love_story         Normal  1.375824e+08\n",
       "17        masala        Holiday  9.708333e+08\n",
       "18        masala         Normal  1.097500e+09\n",
       "19  mythological        Holiday  2.150000e+07\n",
       "20  mythological         Normal  4.300000e+06\n",
       "21      rom__com        Holiday  2.473387e+08\n",
       "22      rom__com         Normal  1.760656e+08\n",
       "23      suspense        Holiday  4.850000e+07\n",
       "24      suspense         Normal  3.520455e+07\n",
       "25      thriller        Holiday  1.850309e+08\n",
       "26      thriller         Normal  1.377939e+08"
      ]
     },
     "execution_count": 22,
     "metadata": {},
     "output_type": "execute_result"
    }
   ],
   "source": [
    "result = df.groupby([\"Genre\", \"Release Period\"]).agg({'Revenue(INR)': 'mean'}).reset_index()\n",
    "result.columns = ['Genre', 'Release Period', 'Mean Revenue']\n",
    "result"
   ]
  },
  {
   "cell_type": "code",
   "execution_count": 23,
   "id": "cae27efe",
   "metadata": {
    "execution": {
     "iopub.execute_input": "2024-04-10T09:04:39.041987Z",
     "iopub.status.busy": "2024-04-10T09:04:39.041293Z",
     "iopub.status.idle": "2024-04-10T09:04:39.055197Z",
     "shell.execute_reply": "2024-04-10T09:04:39.053752Z"
    },
    "papermill": {
     "duration": 0.047727,
     "end_time": "2024-04-10T09:04:39.057987",
     "exception": false,
     "start_time": "2024-04-10T09:04:39.010260",
     "status": "completed"
    },
    "tags": []
   },
   "outputs": [
    {
     "data": {
      "text/html": [
       "<div>\n",
       "<style scoped>\n",
       "    .dataframe tbody tr th:only-of-type {\n",
       "        vertical-align: middle;\n",
       "    }\n",
       "\n",
       "    .dataframe tbody tr th {\n",
       "        vertical-align: top;\n",
       "    }\n",
       "\n",
       "    .dataframe thead th {\n",
       "        text-align: right;\n",
       "    }\n",
       "</style>\n",
       "<table border=\"1\" class=\"dataframe\">\n",
       "  <thead>\n",
       "    <tr style=\"text-align: right;\">\n",
       "      <th></th>\n",
       "      <th>Director</th>\n",
       "      <th>count</th>\n",
       "    </tr>\n",
       "  </thead>\n",
       "  <tbody>\n",
       "    <tr>\n",
       "      <th>0</th>\n",
       "      <td>Ram Gopal Verma</td>\n",
       "      <td>18</td>\n",
       "    </tr>\n",
       "    <tr>\n",
       "      <th>1</th>\n",
       "      <td>Priyadarshan</td>\n",
       "      <td>16</td>\n",
       "    </tr>\n",
       "    <tr>\n",
       "      <th>2</th>\n",
       "      <td>Vikram Bhatt</td>\n",
       "      <td>16</td>\n",
       "    </tr>\n",
       "    <tr>\n",
       "      <th>3</th>\n",
       "      <td>Suresh Jain</td>\n",
       "      <td>15</td>\n",
       "    </tr>\n",
       "    <tr>\n",
       "      <th>4</th>\n",
       "      <td>Rohit Shetty</td>\n",
       "      <td>11</td>\n",
       "    </tr>\n",
       "    <tr>\n",
       "      <th>5</th>\n",
       "      <td>Mohit Suri</td>\n",
       "      <td>11</td>\n",
       "    </tr>\n",
       "    <tr>\n",
       "      <th>6</th>\n",
       "      <td>Anurag Kashyap</td>\n",
       "      <td>10</td>\n",
       "    </tr>\n",
       "    <tr>\n",
       "      <th>7</th>\n",
       "      <td>Madhur Bhandarkar</td>\n",
       "      <td>9</td>\n",
       "    </tr>\n",
       "    <tr>\n",
       "      <th>8</th>\n",
       "      <td>Anees Bazmee</td>\n",
       "      <td>9</td>\n",
       "    </tr>\n",
       "    <tr>\n",
       "      <th>9</th>\n",
       "      <td>David Dhawan</td>\n",
       "      <td>8</td>\n",
       "    </tr>\n",
       "  </tbody>\n",
       "</table>\n",
       "</div>"
      ],
      "text/plain": [
       "            Director  count\n",
       "0    Ram Gopal Verma     18\n",
       "1       Priyadarshan     16\n",
       "2       Vikram Bhatt     16\n",
       "3        Suresh Jain     15\n",
       "4       Rohit Shetty     11\n",
       "5         Mohit Suri     11\n",
       "6     Anurag Kashyap     10\n",
       "7  Madhur Bhandarkar      9\n",
       "8       Anees Bazmee      9\n",
       "9       David Dhawan      8"
      ]
     },
     "execution_count": 23,
     "metadata": {},
     "output_type": "execute_result"
    }
   ],
   "source": [
    "# Find the director who has worked on the most movies.\n",
    "\n",
    "df[\"Director\"].value_counts().sort_values(ascending = False).head(10).reset_index()"
   ]
  },
  {
   "cell_type": "code",
   "execution_count": 24,
   "id": "b01fe391",
   "metadata": {
    "execution": {
     "iopub.execute_input": "2024-04-10T09:04:39.117999Z",
     "iopub.status.busy": "2024-04-10T09:04:39.117627Z",
     "iopub.status.idle": "2024-04-10T09:04:39.128646Z",
     "shell.execute_reply": "2024-04-10T09:04:39.127260Z"
    },
    "papermill": {
     "duration": 0.043701,
     "end_time": "2024-04-10T09:04:39.131021",
     "exception": false,
     "start_time": "2024-04-10T09:04:39.087320",
     "status": "completed"
    },
    "tags": []
   },
   "outputs": [
    {
     "data": {
      "text/plain": [
       "Release Period\n",
       "Holiday     7822750000\n",
       "Normal     14779650000\n",
       "Name: Revenue(INR), dtype: int64"
      ]
     },
     "execution_count": 24,
     "metadata": {},
     "output_type": "execute_result"
    }
   ],
   "source": [
    "# Calculate the total revenue for movies in each release period with a new actor.\n",
    "df[df[\"New Actor\"] == \"Yes\"].groupby(\"Release Period\")[\"Revenue(INR)\"].sum()"
   ]
  },
  {
   "cell_type": "code",
   "execution_count": 25,
   "id": "80a68ad3",
   "metadata": {
    "execution": {
     "iopub.execute_input": "2024-04-10T09:04:39.191657Z",
     "iopub.status.busy": "2024-04-10T09:04:39.190555Z",
     "iopub.status.idle": "2024-04-10T09:04:39.212728Z",
     "shell.execute_reply": "2024-04-10T09:04:39.211538Z"
    },
    "papermill": {
     "duration": 0.055327,
     "end_time": "2024-04-10T09:04:39.215789",
     "exception": false,
     "start_time": "2024-04-10T09:04:39.160462",
     "status": "completed"
    },
    "tags": []
   },
   "outputs": [
    {
     "data": {
      "text/html": [
       "<div>\n",
       "<style scoped>\n",
       "    .dataframe tbody tr th:only-of-type {\n",
       "        vertical-align: middle;\n",
       "    }\n",
       "\n",
       "    .dataframe tbody tr th {\n",
       "        vertical-align: top;\n",
       "    }\n",
       "\n",
       "    .dataframe thead th {\n",
       "        text-align: right;\n",
       "    }\n",
       "</style>\n",
       "<table border=\"1\" class=\"dataframe\">\n",
       "  <thead>\n",
       "    <tr style=\"text-align: right;\">\n",
       "      <th></th>\n",
       "      <th>Movie Name</th>\n",
       "      <th>Director</th>\n",
       "    </tr>\n",
       "  </thead>\n",
       "  <tbody>\n",
       "    <tr>\n",
       "      <th>4</th>\n",
       "      <td>Chaatwali</td>\n",
       "      <td>Aadil Khan</td>\n",
       "    </tr>\n",
       "    <tr>\n",
       "      <th>9</th>\n",
       "      <td>Taare Zameen Par</td>\n",
       "      <td>Aamir Khan</td>\n",
       "    </tr>\n",
       "    <tr>\n",
       "      <th>19</th>\n",
       "      <td>Gurjar Aandolan - A Fight For Right</td>\n",
       "      <td>Aarun Nagar</td>\n",
       "    </tr>\n",
       "    <tr>\n",
       "      <th>22</th>\n",
       "      <td>Dreams - Sapnay Sach Honge...</td>\n",
       "      <td>Aashish Chanana</td>\n",
       "    </tr>\n",
       "    <tr>\n",
       "      <th>68</th>\n",
       "      <td>Bandook</td>\n",
       "      <td>Aditya Om</td>\n",
       "    </tr>\n",
       "    <tr>\n",
       "      <th>90</th>\n",
       "      <td>U Me Aur Hum</td>\n",
       "      <td>Ajay Devgn</td>\n",
       "    </tr>\n",
       "    <tr>\n",
       "      <th>91</th>\n",
       "      <td>Shivaay</td>\n",
       "      <td>Ajay Devgn</td>\n",
       "    </tr>\n",
       "    <tr>\n",
       "      <th>246</th>\n",
       "      <td>Staying Alive</td>\n",
       "      <td>Anant Mahadevan</td>\n",
       "    </tr>\n",
       "    <tr>\n",
       "      <th>249</th>\n",
       "      <td>Happy Husbands</td>\n",
       "      <td>Anay</td>\n",
       "    </tr>\n",
       "    <tr>\n",
       "      <th>260</th>\n",
       "      <td>Mr Ya Miss</td>\n",
       "      <td>Antara Mali</td>\n",
       "    </tr>\n",
       "    <tr>\n",
       "      <th>402</th>\n",
       "      <td>Yeh Dooriyaan</td>\n",
       "      <td>Deepshika</td>\n",
       "    </tr>\n",
       "    <tr>\n",
       "      <th>406</th>\n",
       "      <td>Mr. Prime Minister</td>\n",
       "      <td>Dev Anand</td>\n",
       "    </tr>\n",
       "    <tr>\n",
       "      <th>407</th>\n",
       "      <td>Chargesheet</td>\n",
       "      <td>Dev Anand</td>\n",
       "    </tr>\n",
       "    <tr>\n",
       "      <th>526</th>\n",
       "      <td>MSG - The Warrior Lion Heart</td>\n",
       "      <td>Gurmeet Ram Rahim Singh</td>\n",
       "    </tr>\n",
       "    <tr>\n",
       "      <th>527</th>\n",
       "      <td>Hind Ka Napak Ko Jawab - MSG Lion Heart-2</td>\n",
       "      <td>Gurmeet Ram Rahim Singh</td>\n",
       "    </tr>\n",
       "    <tr>\n",
       "      <th>528</th>\n",
       "      <td>Jattu Engineer</td>\n",
       "      <td>Gurmeet Ram Rahim Singh</td>\n",
       "    </tr>\n",
       "    <tr>\n",
       "      <th>735</th>\n",
       "      <td>Shringaar</td>\n",
       "      <td>Kumaar Aadarsh</td>\n",
       "    </tr>\n",
       "    <tr>\n",
       "      <th>754</th>\n",
       "      <td>Rise Of The Zombie</td>\n",
       "      <td>Luke Kenny</td>\n",
       "    </tr>\n",
       "    <tr>\n",
       "      <th>785</th>\n",
       "      <td>Life Is Beautiful!</td>\n",
       "      <td>Manoj Amarnani</td>\n",
       "    </tr>\n",
       "    <tr>\n",
       "      <th>799</th>\n",
       "      <td>Hum Sey Hai Jahaan</td>\n",
       "      <td>Mashhoor Amrohi</td>\n",
       "    </tr>\n",
       "    <tr>\n",
       "      <th>840</th>\n",
       "      <td>Young - The Powerful Blood</td>\n",
       "      <td>Mukesh R.K. Chouksey</td>\n",
       "    </tr>\n",
       "    <tr>\n",
       "      <th>841</th>\n",
       "      <td>Tantiya Bheel</td>\n",
       "      <td>Mukesh R.K. Chouksey</td>\n",
       "    </tr>\n",
       "    <tr>\n",
       "      <th>930</th>\n",
       "      <td>Kabhi Yun Bhi Toh Ho...</td>\n",
       "      <td>Paritosh Goswami</td>\n",
       "    </tr>\n",
       "    <tr>\n",
       "      <th>950</th>\n",
       "      <td>Last Benchers</td>\n",
       "      <td>Prajakt Rebeloma</td>\n",
       "    </tr>\n",
       "    <tr>\n",
       "      <th>987</th>\n",
       "      <td>Huff! It's Too Much</td>\n",
       "      <td>Pushkar Jog</td>\n",
       "    </tr>\n",
       "    <tr>\n",
       "      <th>1079</th>\n",
       "      <td>Ata Pata Laapata</td>\n",
       "      <td>Rajpal Yadav</td>\n",
       "    </tr>\n",
       "    <tr>\n",
       "      <th>1144</th>\n",
       "      <td>World Cupp 2011</td>\n",
       "      <td>Ravi Kapoor</td>\n",
       "    </tr>\n",
       "    <tr>\n",
       "      <th>1169</th>\n",
       "      <td>Naari Teri Shakti Anokhi</td>\n",
       "      <td>Rita S. Roy</td>\n",
       "    </tr>\n",
       "    <tr>\n",
       "      <th>1201</th>\n",
       "      <td>Jaana Pehchana</td>\n",
       "      <td>Sachin</td>\n",
       "    </tr>\n",
       "    <tr>\n",
       "      <th>1213</th>\n",
       "      <td>M.A.D - Mad About Dance</td>\n",
       "      <td>Sahil Prem</td>\n",
       "    </tr>\n",
       "    <tr>\n",
       "      <th>1309</th>\n",
       "      <td>Jai Singh Are Baap Re</td>\n",
       "      <td>Sankalp Shrivastava</td>\n",
       "    </tr>\n",
       "    <tr>\n",
       "      <th>1329</th>\n",
       "      <td>Soch Lo</td>\n",
       "      <td>Sartaj Singh Pannu</td>\n",
       "    </tr>\n",
       "    <tr>\n",
       "      <th>1382</th>\n",
       "      <td>Us Disha Mein</td>\n",
       "      <td>Shahzad Pathan</td>\n",
       "    </tr>\n",
       "    <tr>\n",
       "      <th>1427</th>\n",
       "      <td>Shakal Pe Mat Ja</td>\n",
       "      <td>Shubh</td>\n",
       "    </tr>\n",
       "    <tr>\n",
       "      <th>1430</th>\n",
       "      <td>Raat Abhi Baaki Hai</td>\n",
       "      <td>Siddhant Kumar</td>\n",
       "    </tr>\n",
       "    <tr>\n",
       "      <th>1488</th>\n",
       "      <td>Money Back Guarantee</td>\n",
       "      <td>Sunil Pal</td>\n",
       "    </tr>\n",
       "    <tr>\n",
       "      <th>1503</th>\n",
       "      <td>Ghayal Once Again</td>\n",
       "      <td>Sunny Deol</td>\n",
       "    </tr>\n",
       "    <tr>\n",
       "      <th>1512</th>\n",
       "      <td>Yahi To Pyar Hai</td>\n",
       "      <td>Suraj Dev Sahu</td>\n",
       "    </tr>\n",
       "    <tr>\n",
       "      <th>1532</th>\n",
       "      <td>Yeh Dil Ramta Jogi</td>\n",
       "      <td>Swaroop Kanchi</td>\n",
       "    </tr>\n",
       "    <tr>\n",
       "      <th>1597</th>\n",
       "      <td>Tere Pyaarr Mein Paapad</td>\n",
       "      <td>Uunnat Duutt</td>\n",
       "    </tr>\n",
       "    <tr>\n",
       "      <th>1629</th>\n",
       "      <td>Kya Dilli Kya Lahore</td>\n",
       "      <td>Vijay Raaz</td>\n",
       "    </tr>\n",
       "    <tr>\n",
       "      <th>1630</th>\n",
       "      <td>Don Ke Baad Kaun?</td>\n",
       "      <td>Vijay Saxena</td>\n",
       "    </tr>\n",
       "    <tr>\n",
       "      <th>1639</th>\n",
       "      <td>Challo Driver</td>\n",
       "      <td>Vikrant Mahajan</td>\n",
       "    </tr>\n",
       "    <tr>\n",
       "      <th>1641</th>\n",
       "      <td>Pehla Aashiq Pehla Qatil</td>\n",
       "      <td>Vinay Arora</td>\n",
       "    </tr>\n",
       "    <tr>\n",
       "      <th>1658</th>\n",
       "      <td>Gopa - The Freedom Fighter</td>\n",
       "      <td>Vinod Painter</td>\n",
       "    </tr>\n",
       "  </tbody>\n",
       "</table>\n",
       "</div>"
      ],
      "text/plain": [
       "                                     Movie Name                 Director\n",
       "4                                     Chaatwali               Aadil Khan\n",
       "9                              Taare Zameen Par               Aamir Khan\n",
       "19          Gurjar Aandolan - A Fight For Right              Aarun Nagar\n",
       "22                Dreams - Sapnay Sach Honge...          Aashish Chanana\n",
       "68                                      Bandook                Aditya Om\n",
       "90                                 U Me Aur Hum               Ajay Devgn\n",
       "91                                      Shivaay               Ajay Devgn\n",
       "246                               Staying Alive          Anant Mahadevan\n",
       "249                              Happy Husbands                     Anay\n",
       "260                                  Mr Ya Miss              Antara Mali\n",
       "402                               Yeh Dooriyaan                Deepshika\n",
       "406                          Mr. Prime Minister                Dev Anand\n",
       "407                                 Chargesheet                Dev Anand\n",
       "526                MSG - The Warrior Lion Heart  Gurmeet Ram Rahim Singh\n",
       "527   Hind Ka Napak Ko Jawab - MSG Lion Heart-2  Gurmeet Ram Rahim Singh\n",
       "528                              Jattu Engineer  Gurmeet Ram Rahim Singh\n",
       "735                                   Shringaar           Kumaar Aadarsh\n",
       "754                          Rise Of The Zombie               Luke Kenny\n",
       "785                          Life Is Beautiful!           Manoj Amarnani\n",
       "799                          Hum Sey Hai Jahaan          Mashhoor Amrohi\n",
       "840                  Young - The Powerful Blood     Mukesh R.K. Chouksey\n",
       "841                               Tantiya Bheel     Mukesh R.K. Chouksey\n",
       "930                     Kabhi Yun Bhi Toh Ho...         Paritosh Goswami\n",
       "950                               Last Benchers         Prajakt Rebeloma\n",
       "987                         Huff! It's Too Much              Pushkar Jog\n",
       "1079                           Ata Pata Laapata             Rajpal Yadav\n",
       "1144                            World Cupp 2011              Ravi Kapoor\n",
       "1169                   Naari Teri Shakti Anokhi              Rita S. Roy\n",
       "1201                             Jaana Pehchana                   Sachin\n",
       "1213                    M.A.D - Mad About Dance               Sahil Prem\n",
       "1309                      Jai Singh Are Baap Re      Sankalp Shrivastava\n",
       "1329                                    Soch Lo       Sartaj Singh Pannu\n",
       "1382                              Us Disha Mein           Shahzad Pathan\n",
       "1427                           Shakal Pe Mat Ja                    Shubh\n",
       "1430                        Raat Abhi Baaki Hai           Siddhant Kumar\n",
       "1488                       Money Back Guarantee                Sunil Pal\n",
       "1503                          Ghayal Once Again               Sunny Deol\n",
       "1512                           Yahi To Pyar Hai           Suraj Dev Sahu\n",
       "1532                         Yeh Dil Ramta Jogi           Swaroop Kanchi\n",
       "1597                    Tere Pyaarr Mein Paapad             Uunnat Duutt\n",
       "1629                       Kya Dilli Kya Lahore               Vijay Raaz\n",
       "1630                          Don Ke Baad Kaun?             Vijay Saxena\n",
       "1639                              Challo Driver          Vikrant Mahajan\n",
       "1641                   Pehla Aashiq Pehla Qatil              Vinay Arora\n",
       "1658                 Gopa - The Freedom Fighter            Vinod Painter"
      ]
     },
     "execution_count": 25,
     "metadata": {},
     "output_type": "execute_result"
    }
   ],
   "source": [
    "# Identify movies where the lead star is also the director.\n",
    "df[df[\"Lead Star\"] == df[\"Director\"]][[\"Movie Name\",\"Director\"]]"
   ]
  },
  {
   "cell_type": "code",
   "execution_count": 26,
   "id": "5c1b21b6",
   "metadata": {
    "execution": {
     "iopub.execute_input": "2024-04-10T09:04:39.277601Z",
     "iopub.status.busy": "2024-04-10T09:04:39.276981Z",
     "iopub.status.idle": "2024-04-10T09:04:39.289760Z",
     "shell.execute_reply": "2024-04-10T09:04:39.288396Z"
    },
    "papermill": {
     "duration": 0.047397,
     "end_time": "2024-04-10T09:04:39.292523",
     "exception": false,
     "start_time": "2024-04-10T09:04:39.245126",
     "status": "completed"
    },
    "tags": []
   },
   "outputs": [
    {
     "data": {
      "text/plain": [
       "0.8977651709284016"
      ]
     },
     "execution_count": 26,
     "metadata": {},
     "output_type": "execute_result"
    }
   ],
   "source": [
    "\n",
    "# Determine the correlation between the number of screens and revenue.\n",
    "df[\"Number of Screens\"].corr(df[\"Revenue(INR)\"])"
   ]
  },
  {
   "cell_type": "code",
   "execution_count": 27,
   "id": "5521f791",
   "metadata": {
    "execution": {
     "iopub.execute_input": "2024-04-10T09:04:39.353922Z",
     "iopub.status.busy": "2024-04-10T09:04:39.353469Z",
     "iopub.status.idle": "2024-04-10T09:04:39.363752Z",
     "shell.execute_reply": "2024-04-10T09:04:39.362426Z"
    },
    "papermill": {
     "duration": 0.043861,
     "end_time": "2024-04-10T09:04:39.366298",
     "exception": false,
     "start_time": "2024-04-10T09:04:39.322437",
     "status": "completed"
    },
    "tags": []
   },
   "outputs": [
    {
     "data": {
      "text/plain": [
       "75523314.9509804"
      ]
     },
     "execution_count": 27,
     "metadata": {},
     "output_type": "execute_result"
    }
   ],
   "source": [
    "# What is the average revenue for movies directed by new directors?\n",
    "df[df[\"New Director\"] == \"Yes\"][\"Revenue(INR)\"].mean()"
   ]
  },
  {
   "cell_type": "code",
   "execution_count": 28,
   "id": "a7a9484f",
   "metadata": {
    "execution": {
     "iopub.execute_input": "2024-04-10T09:04:39.427819Z",
     "iopub.status.busy": "2024-04-10T09:04:39.427424Z",
     "iopub.status.idle": "2024-04-10T09:04:39.446419Z",
     "shell.execute_reply": "2024-04-10T09:04:39.445055Z"
    },
    "papermill": {
     "duration": 0.052485,
     "end_time": "2024-04-10T09:04:39.448868",
     "exception": false,
     "start_time": "2024-04-10T09:04:39.396383",
     "status": "completed"
    },
    "tags": []
   },
   "outputs": [
    {
     "data": {
      "text/html": [
       "<div>\n",
       "<style scoped>\n",
       "    .dataframe tbody tr th:only-of-type {\n",
       "        vertical-align: middle;\n",
       "    }\n",
       "\n",
       "    .dataframe tbody tr th {\n",
       "        vertical-align: top;\n",
       "    }\n",
       "\n",
       "    .dataframe thead th {\n",
       "        text-align: right;\n",
       "    }\n",
       "</style>\n",
       "<table border=\"1\" class=\"dataframe\">\n",
       "  <thead>\n",
       "    <tr style=\"text-align: right;\">\n",
       "      <th></th>\n",
       "      <th>Movie Name</th>\n",
       "      <th>Release Period</th>\n",
       "      <th>Whether Remake</th>\n",
       "      <th>Whether Franchise</th>\n",
       "      <th>Genre</th>\n",
       "      <th>New Actor</th>\n",
       "      <th>New Director</th>\n",
       "      <th>New Music Director</th>\n",
       "      <th>Lead Star</th>\n",
       "      <th>Director</th>\n",
       "      <th>Music Director</th>\n",
       "      <th>Number of Screens</th>\n",
       "      <th>Revenue(INR)</th>\n",
       "      <th>Budget(INR)</th>\n",
       "      <th>Profit</th>\n",
       "    </tr>\n",
       "  </thead>\n",
       "  <tbody>\n",
       "    <tr>\n",
       "      <th>718</th>\n",
       "      <td>It Can Be Dangerous - City Of Dreams</td>\n",
       "      <td>Normal</td>\n",
       "      <td>No</td>\n",
       "      <td>No</td>\n",
       "      <td>drama</td>\n",
       "      <td>No</td>\n",
       "      <td>Yes</td>\n",
       "      <td>Yes</td>\n",
       "      <td>Kiran Janjani</td>\n",
       "      <td>Mahesh D. Singh</td>\n",
       "      <td>Niranjan - Saket</td>\n",
       "      <td>40</td>\n",
       "      <td>325000</td>\n",
       "      <td>450000</td>\n",
       "      <td>-125000</td>\n",
       "    </tr>\n",
       "  </tbody>\n",
       "</table>\n",
       "</div>"
      ],
      "text/plain": [
       "                               Movie Name Release Period Whether Remake  \\\n",
       "718  It Can Be Dangerous - City Of Dreams         Normal             No   \n",
       "\n",
       "    Whether Franchise  Genre New Actor New Director New Music Director  \\\n",
       "718                No  drama        No          Yes                Yes   \n",
       "\n",
       "         Lead Star         Director    Music Director  Number of Screens  \\\n",
       "718  Kiran Janjani  Mahesh D. Singh  Niranjan - Saket                 40   \n",
       "\n",
       "     Revenue(INR)  Budget(INR)  Profit  \n",
       "718        325000       450000 -125000  "
      ]
     },
     "execution_count": 28,
     "metadata": {},
     "output_type": "execute_result"
    }
   ],
   "source": [
    "# Find the movie with the lowest revenue.\n",
    "df[df[\"Revenue(INR)\"] == df[\"Revenue(INR)\"].min()]"
   ]
  },
  {
   "cell_type": "code",
   "execution_count": 29,
   "id": "c00188a4",
   "metadata": {
    "execution": {
     "iopub.execute_input": "2024-04-10T09:04:39.514984Z",
     "iopub.status.busy": "2024-04-10T09:04:39.514599Z",
     "iopub.status.idle": "2024-04-10T09:04:39.526272Z",
     "shell.execute_reply": "2024-04-10T09:04:39.524805Z"
    },
    "papermill": {
     "duration": 0.04911,
     "end_time": "2024-04-10T09:04:39.528915",
     "exception": false,
     "start_time": "2024-04-10T09:04:39.479805",
     "status": "completed"
    },
    "tags": []
   },
   "outputs": [
    {
     "data": {
      "text/plain": [
       "46155408.1632653"
      ]
     },
     "execution_count": 29,
     "metadata": {},
     "output_type": "execute_result"
    }
   ],
   "source": [
    "# Calculate the average revenue for movies in the 'Drama' genre with a new music director.\n",
    "df[(df[\"Genre\"] == \"drama\") & (df[\"New Music Director\"] == \"Yes\")][\"Revenue(INR)\"].mean()"
   ]
  },
  {
   "cell_type": "markdown",
   "id": "3915aa4a",
   "metadata": {
    "papermill": {
     "duration": 0.029926,
     "end_time": "2024-04-10T09:04:39.589012",
     "exception": false,
     "start_time": "2024-04-10T09:04:39.559086",
     "status": "completed"
    },
    "tags": []
   },
   "source": [
    "### (A) General Overview:"
   ]
  },
  {
   "cell_type": "markdown",
   "id": "0d35346f",
   "metadata": {
    "papermill": {
     "duration": 0.03092,
     "end_time": "2024-04-10T09:04:39.650566",
     "exception": false,
     "start_time": "2024-04-10T09:04:39.619646",
     "status": "completed"
    },
    "tags": []
   },
   "source": [
    "What is the distribution of movies across different release periods?"
   ]
  },
  {
   "cell_type": "code",
   "execution_count": 30,
   "id": "8e6c2866",
   "metadata": {
    "execution": {
     "iopub.execute_input": "2024-04-10T09:04:39.713239Z",
     "iopub.status.busy": "2024-04-10T09:04:39.712781Z",
     "iopub.status.idle": "2024-04-10T09:04:39.944281Z",
     "shell.execute_reply": "2024-04-10T09:04:39.942238Z"
    },
    "papermill": {
     "duration": 0.268839,
     "end_time": "2024-04-10T09:04:39.949215",
     "exception": false,
     "start_time": "2024-04-10T09:04:39.680376",
     "status": "completed"
    },
    "tags": []
   },
   "outputs": [
    {
     "data": {
      "image/png": "[encoded data removed]",
      "text/plain": [
       "<Figure size 800x600 with 1 Axes>"
      ]
     },
     "metadata": {},
     "output_type": "display_data"
    }
   ],
   "source": [
    "\n",
    "import matplotlib.pyplot as plt\n",
    "\n",
    "# Assuming df is your DataFrame containing the movies dataset\n",
    "\n",
    "# Calculate the value counts for the \"Release Period\" column\n",
    "release_period_counts = df[\"Release Period\"].value_counts()\n",
    "\n",
    "# Plotting the pie chart\n",
    "plt.figure(figsize=(8, 6))\n",
    "plt.pie(release_period_counts, labels=release_period_counts.index, autopct='%1.1f%%', startangle=140)\n",
    "plt.title('Distribution of Movies Across Release Periods')\n",
    "plt.axis('equal')  # Equal aspect ratio ensures that pie is drawn as a circle.\n",
    "plt.show()\n"
   ]
  },
  {
   "cell_type": "markdown",
   "id": "05eb1980",
   "metadata": {
    "papermill": {
     "duration": 0.030682,
     "end_time": "2024-04-10T09:04:40.012532",
     "exception": false,
     "start_time": "2024-04-10T09:04:39.981850",
     "status": "completed"
    },
    "tags": []
   },
   "source": [
    "How many movies are remakes and how many are original?"
   ]
  },
  {
   "cell_type": "code",
   "execution_count": 31,
   "id": "640fb6ff",
   "metadata": {
    "execution": {
     "iopub.execute_input": "2024-04-10T09:04:40.076560Z",
     "iopub.status.busy": "2024-04-10T09:04:40.076124Z",
     "iopub.status.idle": "2024-04-10T09:04:40.390476Z",
     "shell.execute_reply": "2024-04-10T09:04:40.389260Z"
    },
    "papermill": {
     "duration": 0.349613,
     "end_time": "2024-04-10T09:04:40.393159",
     "exception": false,
     "start_time": "2024-04-10T09:04:40.043546",
     "status": "completed"
    },
    "tags": []
   },
   "outputs": [
    {
     "data": {
      "image/png": "[encoded data removed]",
      "text/plain": [
       "<Figure size 800x600 with 1 Axes>"
      ]
     },
     "metadata": {},
     "output_type": "display_data"
    }
   ],
   "source": [
    "whether_remakes_counts = df[\"Whether Remake\"].value_counts()\n",
    "\n",
    "# Plotting the bar diagram\n",
    "plt.figure(figsize=(8, 6))\n",
    "whether_remakes_counts.plot(kind='bar', color=['blue', 'orange'])\n",
    "plt.title('Distribution of Movies Whether They are Remakes or Not')\n",
    "plt.xlabel('Whether Remake')\n",
    "plt.ylabel('Count')\n",
    "plt.xticks(rotation=0)  # Rotate x-axis labels if needed\n",
    "plt.show()"
   ]
  },
  {
   "cell_type": "markdown",
   "id": "8b7a3515",
   "metadata": {
    "papermill": {
     "duration": 0.030942,
     "end_time": "2024-04-10T09:04:40.455077",
     "exception": false,
     "start_time": "2024-04-10T09:04:40.424135",
     "status": "completed"
    },
    "tags": []
   },
   "source": [
    "What percentage of movies belong to a franchise?"
   ]
  },
  {
   "cell_type": "code",
   "execution_count": 32,
   "id": "56a943f6",
   "metadata": {
    "execution": {
     "iopub.execute_input": "2024-04-10T09:04:40.522173Z",
     "iopub.status.busy": "2024-04-10T09:04:40.521766Z",
     "iopub.status.idle": "2024-04-10T09:04:40.530253Z",
     "shell.execute_reply": "2024-04-10T09:04:40.529067Z"
    },
    "papermill": {
     "duration": 0.046131,
     "end_time": "2024-04-10T09:04:40.532987",
     "exception": false,
     "start_time": "2024-04-10T09:04:40.486856",
     "status": "completed"
    },
    "tags": []
   },
   "outputs": [
    {
     "name": "stdout",
     "output_type": "stream",
     "text": [
      "Percentage of movies belonging to a franchise: 4.829210836277975\n"
     ]
    }
   ],
   "source": [
    "total_movies = len(df)\n",
    "\n",
    "franchise_movies_count = len(df[df[\"Whether Franchise\"] == \"Yes\"])\n",
    "\n",
    "# Calculate the percentage of movies belonging to a franchise\n",
    "percentage_franchise_movies = (franchise_movies_count / total_movies) * 100\n",
    "\n",
    "print(\"Percentage of movies belonging to a franchise:\", percentage_franchise_movies)"
   ]
  },
  {
   "cell_type": "markdown",
   "id": "da7fe677",
   "metadata": {
    "papermill": {
     "duration": 0.030665,
     "end_time": "2024-04-10T09:04:40.594732",
     "exception": false,
     "start_time": "2024-04-10T09:04:40.564067",
     "status": "completed"
    },
    "tags": []
   },
   "source": [
    "What are the most common genres in the dataset?"
   ]
  },
  {
   "cell_type": "code",
   "execution_count": 33,
   "id": "cd7220a5",
   "metadata": {
    "execution": {
     "iopub.execute_input": "2024-04-10T09:04:40.660016Z",
     "iopub.status.busy": "2024-04-10T09:04:40.659589Z",
     "iopub.status.idle": "2024-04-10T09:04:40.668668Z",
     "shell.execute_reply": "2024-04-10T09:04:40.667369Z"
    },
    "papermill": {
     "duration": 0.045635,
     "end_time": "2024-04-10T09:04:40.671841",
     "exception": false,
     "start_time": "2024-04-10T09:04:40.626206",
     "status": "completed"
    },
    "tags": []
   },
   "outputs": [
    {
     "name": "stdout",
     "output_type": "stream",
     "text": [
      "Total Genres : 14\n",
      "--------------------------------------------------------------------------------\n",
      "Genres : ['suspense', 'drama', 'thriller', 'adult', 'comedy', 'action', 'love_story', 'rom__com', 'horror', 'fantasy', 'masala', 'mythological', 'animation', 'documentary']\n"
     ]
    }
   ],
   "source": [
    "print(\"Total Genres :\",len(list(df['Genre'].unique())))\n",
    "print(\"-\"*80)\n",
    "print(\"Genres :\",list(df['Genre'].unique()))"
   ]
  },
  {
   "cell_type": "markdown",
   "id": "b95654ec",
   "metadata": {
    "papermill": {
     "duration": 0.031807,
     "end_time": "2024-04-10T09:04:40.734947",
     "exception": false,
     "start_time": "2024-04-10T09:04:40.703140",
     "status": "completed"
    },
    "tags": []
   },
   "source": [
    "How many movies feature new actors, directors, or music directors?"
   ]
  },
  {
   "cell_type": "code",
   "execution_count": 34,
   "id": "22f6ceb2",
   "metadata": {
    "execution": {
     "iopub.execute_input": "2024-04-10T09:04:40.801650Z",
     "iopub.status.busy": "2024-04-10T09:04:40.800149Z",
     "iopub.status.idle": "2024-04-10T09:04:40.811053Z",
     "shell.execute_reply": "2024-04-10T09:04:40.809256Z"
    },
    "papermill": {
     "duration": 0.047184,
     "end_time": "2024-04-10T09:04:40.813712",
     "exception": false,
     "start_time": "2024-04-10T09:04:40.766528",
     "status": "completed"
    },
    "tags": []
   },
   "outputs": [
    {
     "name": "stdout",
     "output_type": "stream",
     "text": [
      "Movies with new actor, new director and new music director : 186\n"
     ]
    }
   ],
   "source": [
    "print(\"Movies with new actor, new director and new music director :\",len(df[(df[\"New Actor\"] == \"Yes\") & (df[\"New Director\"] == \"Yes\") & (df[\"New Music Director\"] == \"Yes\")]))"
   ]
  },
  {
   "cell_type": "markdown",
   "id": "a6472696",
   "metadata": {
    "papermill": {
     "duration": 0.030879,
     "end_time": "2024-04-10T09:04:40.875774",
     "exception": false,
     "start_time": "2024-04-10T09:04:40.844895",
     "status": "completed"
    },
    "tags": []
   },
   "source": [
    "### (B) Financial Analysis:"
   ]
  },
  {
   "cell_type": "markdown",
   "id": "0936c0f3",
   "metadata": {
    "papermill": {
     "duration": 0.031195,
     "end_time": "2024-04-10T09:04:40.938207",
     "exception": false,
     "start_time": "2024-04-10T09:04:40.907012",
     "status": "completed"
    },
    "tags": []
   },
   "source": [
    "What is the distribution of revenue, budget, and profit? "
   ]
  },
  {
   "cell_type": "code",
   "execution_count": 35,
   "id": "694212c3",
   "metadata": {
    "execution": {
     "iopub.execute_input": "2024-04-10T09:04:41.002873Z",
     "iopub.status.busy": "2024-04-10T09:04:41.002491Z",
     "iopub.status.idle": "2024-04-10T09:04:42.070922Z",
     "shell.execute_reply": "2024-04-10T09:04:42.069701Z"
    },
    "papermill": {
     "duration": 1.103955,
     "end_time": "2024-04-10T09:04:42.073518",
     "exception": false,
     "start_time": "2024-04-10T09:04:40.969563",
     "status": "completed"
    },
    "tags": []
   },
   "outputs": [
    {
     "data": {
      "image/png": "[encoded data removed]",
      "text/plain": [
       "<Figure size 1000x1000 with 3 Axes>"
      ]
     },
     "metadata": {},
     "output_type": "display_data"
    }
   ],
   "source": [
    "import matplotlib.pyplot as plt\n",
    "\n",
    "# Assuming df is your DataFrame containing the movies dataset\n",
    "\n",
    "# Create subplots for revenue, budget, and profit histograms\n",
    "fig, axes = plt.subplots(3, 1, figsize=(10, 10))\n",
    "\n",
    "# Plot revenue histogram\n",
    "axes[0].hist(df['Revenue(INR)'], bins=20, color='skyblue')\n",
    "axes[0].set_title('Distribution of Revenue')\n",
    "axes[0].set_xlabel('Revenue (INR)')\n",
    "axes[0].set_ylabel('Frequency')\n",
    "\n",
    "# Plot budget histogram\n",
    "axes[1].hist(df['Budget(INR)'], bins=20, color='salmon')\n",
    "axes[1].set_title('Distribution of Budget')\n",
    "axes[1].set_xlabel('Budget (INR)')\n",
    "axes[1].set_ylabel('Frequency')\n",
    "\n",
    "# Plot profit histogram\n",
    "axes[2].hist(df['Profit'], bins=20, color='lightgreen')\n",
    "axes[2].set_title('Distribution of Profit')\n",
    "axes[2].set_xlabel('Profit (INR)')\n",
    "axes[2].set_ylabel('Frequency')\n",
    "\n",
    "# Adjust layout\n",
    "plt.tight_layout()\n",
    "\n",
    "# Show the plots\n",
    "plt.show()\n"
   ]
  },
  {
   "cell_type": "markdown",
   "id": "7c988d7d",
   "metadata": {
    "papermill": {
     "duration": 0.035108,
     "end_time": "2024-04-10T09:04:42.140253",
     "exception": false,
     "start_time": "2024-04-10T09:04:42.105145",
     "status": "completed"
    },
    "tags": []
   },
   "source": [
    "Is there any correlation between budget and revenue?"
   ]
  },
  {
   "cell_type": "code",
   "execution_count": 36,
   "id": "7d20b54b",
   "metadata": {
    "execution": {
     "iopub.execute_input": "2024-04-10T09:04:42.207051Z",
     "iopub.status.busy": "2024-04-10T09:04:42.205568Z",
     "iopub.status.idle": "2024-04-10T09:04:42.546603Z",
     "shell.execute_reply": "2024-04-10T09:04:42.545629Z"
    },
    "papermill": {
     "duration": 0.378009,
     "end_time": "2024-04-10T09:04:42.549406",
     "exception": false,
     "start_time": "2024-04-10T09:04:42.171397",
     "status": "completed"
    },
    "tags": []
   },
   "outputs": [
    {
     "data": {
      "image/png": "[encoded data removed]",
      "text/plain": [
       "<Figure size 800x600 with 1 Axes>"
      ]
     },
     "metadata": {},
     "output_type": "display_data"
    }
   ],
   "source": [
    "import matplotlib.pyplot as plt\n",
    "\n",
    "# Assuming df is your DataFrame containing the movies dataset\n",
    "\n",
    "# Plotting the scatter plot\n",
    "plt.figure(figsize=(8, 6))\n",
    "plt.scatter(df[\"Budget(INR)\"], df[\"Revenue(INR)\"], alpha=0.5)\n",
    "plt.title('Correlation between Budget and Revenue')\n",
    "plt.xlabel('Budget (INR)')\n",
    "plt.ylabel('Revenue (INR)')\n",
    "plt.grid(True)\n",
    "plt.show()\n"
   ]
  },
  {
   "cell_type": "code",
   "execution_count": 37,
   "id": "69c96572",
   "metadata": {
    "execution": {
     "iopub.execute_input": "2024-04-10T09:04:42.620574Z",
     "iopub.status.busy": "2024-04-10T09:04:42.619285Z",
     "iopub.status.idle": "2024-04-10T09:04:42.629023Z",
     "shell.execute_reply": "2024-04-10T09:04:42.626886Z"
    },
    "papermill": {
     "duration": 0.04868,
     "end_time": "2024-04-10T09:04:42.632475",
     "exception": false,
     "start_time": "2024-04-10T09:04:42.583795",
     "status": "completed"
    },
    "tags": []
   },
   "outputs": [
    {
     "name": "stdout",
     "output_type": "stream",
     "text": [
      "Correlation between budget and revenue: 0.8434464800307456\n"
     ]
    }
   ],
   "source": [
    "\n",
    "\n",
    "# Assuming df is your DataFrame containing the movies dataset\n",
    "\n",
    "# Calculate the correlation between budget and revenue\n",
    "correlation = df['Budget(INR)'].corr(df['Revenue(INR)'])\n",
    "\n",
    "print(\"Correlation between budget and revenue:\", correlation)"
   ]
  },
  {
   "cell_type": "markdown",
   "id": "13a34195",
   "metadata": {
    "papermill": {
     "duration": 0.033277,
     "end_time": "2024-04-10T09:04:42.700514",
     "exception": false,
     "start_time": "2024-04-10T09:04:42.667237",
     "status": "completed"
    },
    "tags": []
   },
   "source": [
    "You can see here that there is a positive correlation between Budget and Revenue."
   ]
  },
  {
   "cell_type": "markdown",
   "id": "b5293d76",
   "metadata": {
    "papermill": {
     "duration": 0.032462,
     "end_time": "2024-04-10T09:04:42.767273",
     "exception": false,
     "start_time": "2024-04-10T09:04:42.734811",
     "status": "completed"
    },
    "tags": []
   },
   "source": [
    "How do profits vary across different genres?"
   ]
  },
  {
   "cell_type": "code",
   "execution_count": 38,
   "id": "c42bbf51",
   "metadata": {
    "execution": {
     "iopub.execute_input": "2024-04-10T09:04:42.835953Z",
     "iopub.status.busy": "2024-04-10T09:04:42.835084Z",
     "iopub.status.idle": "2024-04-10T09:04:43.241420Z",
     "shell.execute_reply": "2024-04-10T09:04:43.239726Z"
    },
    "papermill": {
     "duration": 0.443482,
     "end_time": "2024-04-10T09:04:43.244172",
     "exception": false,
     "start_time": "2024-04-10T09:04:42.800690",
     "status": "completed"
    },
    "tags": []
   },
   "outputs": [
    {
     "data": {
      "image/png": "[encoded data removed]",
      "text/plain": [
       "<Figure size 1000x600 with 1 Axes>"
      ]
     },
     "metadata": {},
     "output_type": "display_data"
    }
   ],
   "source": [
    "genre_profit_means = df.groupby('Genre')['Profit'].mean().sort_values()\n",
    "\n",
    "# Plotting the bar diagram\n",
    "plt.figure(figsize=(10, 6))\n",
    "genre_profit_means.plot(kind='barh', color='skyblue')\n",
    "plt.title('Average Profit by Genre')\n",
    "plt.xlabel('Average Profit (INR)')\n",
    "plt.ylabel('Genre')\n",
    "plt.show()"
   ]
  },
  {
   "cell_type": "markdown",
   "id": "78919cd5",
   "metadata": {
    "papermill": {
     "duration": 0.032512,
     "end_time": "2024-04-10T09:04:43.309455",
     "exception": false,
     "start_time": "2024-04-10T09:04:43.276943",
     "status": "completed"
    },
    "tags": []
   },
   "source": [
    "Are franchise movies more profitable compared to non-franchise ones?"
   ]
  },
  {
   "cell_type": "code",
   "execution_count": 39,
   "id": "77c412b2",
   "metadata": {
    "execution": {
     "iopub.execute_input": "2024-04-10T09:04:43.377219Z",
     "iopub.status.busy": "2024-04-10T09:04:43.376723Z",
     "iopub.status.idle": "2024-04-10T09:04:43.389701Z",
     "shell.execute_reply": "2024-04-10T09:04:43.388415Z"
    },
    "papermill": {
     "duration": 0.050984,
     "end_time": "2024-04-10T09:04:43.392950",
     "exception": false,
     "start_time": "2024-04-10T09:04:43.341966",
     "status": "completed"
    },
    "tags": []
   },
   "outputs": [
    {
     "name": "stdout",
     "output_type": "stream",
     "text": [
      "Average Profit for Franchise Movies: -545397609.7560976\n",
      "Average Profit for Non-Franchise Movies: -64329547.672029704\n",
      "Non-franchise movies are more profitable compared to franchise ones.\n"
     ]
    }
   ],
   "source": [
    "franchise_profit_avg = df[df['Whether Franchise'] == \"Yes\"]['Profit'].mean()\n",
    "\n",
    "# Calculate average profit for non-franchise movies\n",
    "non_franchise_profit_avg = df[df['Whether Franchise'] == \"No\"]['Profit'].mean()\n",
    "\n",
    "# Print the results\n",
    "print(\"Average Profit for Franchise Movies:\", franchise_profit_avg)\n",
    "print(\"Average Profit for Non-Franchise Movies:\", non_franchise_profit_avg)\n",
    "\n",
    "# Perform comparison\n",
    "if franchise_profit_avg > non_franchise_profit_avg:\n",
    "    print(\"Franchise movies are more profitable compared to non-franchise ones.\")\n",
    "elif franchise_profit_avg < non_franchise_profit_avg:\n",
    "    print(\"Non-franchise movies are more profitable compared to franchise ones.\")\n",
    "else:\n",
    "    print(\"Franchise and non-franchise movies have equal average profitability.\")\n"
   ]
  },
  {
   "cell_type": "markdown",
   "id": "177be7cc",
   "metadata": {
    "papermill": {
     "duration": 0.03474,
     "end_time": "2024-04-10T09:04:43.462798",
     "exception": false,
     "start_time": "2024-04-10T09:04:43.428058",
     "status": "completed"
    },
    "tags": []
   },
   "source": [
    "Is there any trend in the revenue and budget over different release periods?"
   ]
  },
  {
   "cell_type": "code",
   "execution_count": 40,
   "id": "52a374bc",
   "metadata": {
    "execution": {
     "iopub.execute_input": "2024-04-10T09:04:43.534655Z",
     "iopub.status.busy": "2024-04-10T09:04:43.533591Z",
     "iopub.status.idle": "2024-04-10T09:04:43.547022Z",
     "shell.execute_reply": "2024-04-10T09:04:43.545698Z"
    },
    "papermill": {
     "duration": 0.052538,
     "end_time": "2024-04-10T09:04:43.549811",
     "exception": false,
     "start_time": "2024-04-10T09:04:43.497273",
     "status": "completed"
    },
    "tags": []
   },
   "outputs": [
    {
     "name": "stdout",
     "output_type": "stream",
     "text": [
      "Trend in Revenue and Budget over Different Release Periods:\n",
      "                Revenue(INR)   Budget(INR)\n",
      "Release Period                            \n",
      "Holiday         1.982476e+08  3.439859e+08\n",
      "Normal          1.215181e+08  1.744138e+08\n"
     ]
    }
   ],
   "source": [
    "revenue_budget_trend = df.groupby('Release Period').agg({'Revenue(INR)': 'mean', 'Budget(INR)': 'mean'})\n",
    "\n",
    "# Print the trend\n",
    "print(\"Trend in Revenue and Budget over Different Release Periods:\")\n",
    "print(revenue_budget_trend)"
   ]
  },
  {
   "cell_type": "code",
   "execution_count": null,
   "id": "49af157f",
   "metadata": {
    "papermill": {
     "duration": 0.034017,
     "end_time": "2024-04-10T09:04:43.618181",
     "exception": false,
     "start_time": "2024-04-10T09:04:43.584164",
     "status": "completed"
    },
    "tags": []
   },
   "outputs": [],
   "source": []
  },
  {
   "cell_type": "markdown",
   "id": "876fb413",
   "metadata": {
    "papermill": {
     "duration": 0.034159,
     "end_time": "2024-04-10T09:04:43.688012",
     "exception": false,
     "start_time": "2024-04-10T09:04:43.653853",
     "status": "completed"
    },
    "tags": []
   },
   "source": [
    "\n",
    "### [C] Cast and Crew Analysis:"
   ]
  },
  {
   "cell_type": "markdown",
   "id": "733e3f3f",
   "metadata": {
    "papermill": {
     "duration": 0.034008,
     "end_time": "2024-04-10T09:04:43.756510",
     "exception": false,
     "start_time": "2024-04-10T09:04:43.722502",
     "status": "completed"
    },
    "tags": []
   },
   "source": [
    "Who are the most frequently appearing lead stars, directors, and music directors?"
   ]
  },
  {
   "cell_type": "code",
   "execution_count": 41,
   "id": "78f3dea9",
   "metadata": {
    "execution": {
     "iopub.execute_input": "2024-04-10T09:04:43.825539Z",
     "iopub.status.busy": "2024-04-10T09:04:43.825044Z",
     "iopub.status.idle": "2024-04-10T09:04:43.842123Z",
     "shell.execute_reply": "2024-04-10T09:04:43.840367Z"
    },
    "papermill": {
     "duration": 0.054698,
     "end_time": "2024-04-10T09:04:43.844752",
     "exception": false,
     "start_time": "2024-04-10T09:04:43.790054",
     "status": "completed"
    },
    "tags": []
   },
   "outputs": [
    {
     "name": "stdout",
     "output_type": "stream",
     "text": [
      "Most frequently appearing lead stars:\n",
      "Lead Star\n",
      "Akshay Kumar        48\n",
      "Ajay Devgn          35\n",
      "Emraan Hashmi       27\n",
      "Salman Khan         27\n",
      "Amitabh Bachchan    21\n",
      "Name: count, dtype: int64\n",
      "----------------------------------------------------------------------------------------------------\n",
      "\n",
      "Most frequently appearing directors:\n",
      "Director\n",
      "Ram Gopal Verma    18\n",
      "Vikram Bhatt       16\n",
      "Priyadarshan       16\n",
      "Suresh Jain        15\n",
      "Rohit Shetty       11\n",
      "Name: count, dtype: int64\n",
      "----------------------------------------------------------------------------------------------------\n",
      "\n",
      "Most frequently appearing music directors:\n",
      "Music Director\n",
      "Pritam                    92\n",
      "Himesh Reshammiya         51\n",
      "Sajid - Wajid             48\n",
      "Anu Malik                 42\n",
      "Shankar - Ehsaan - Loy    41\n",
      "Name: count, dtype: int64\n"
     ]
    }
   ],
   "source": [
    "lead_star_counts = df['Lead Star'].value_counts()\n",
    "most_frequent_lead_stars = lead_star_counts.head(5)  # Get the top 5 most frequent lead stars\n",
    "print(\"Most frequently appearing lead stars:\")\n",
    "print(most_frequent_lead_stars)\n",
    "print(\"-\"*100)\n",
    "# Most frequently appearing directors\n",
    "director_counts = df['Director'].value_counts()\n",
    "most_frequent_directors = director_counts.head(5)  # Get the top 5 most frequent directors\n",
    "print(\"\\nMost frequently appearing directors:\")\n",
    "print(most_frequent_directors)\n",
    "print(\"-\"*100)\n",
    "# Most frequently appearing music directors\n",
    "music_director_counts = df['Music Director'].value_counts()\n",
    "most_frequent_music_directors = music_director_counts.head(5)  # Get the top 5 most frequent music directors\n",
    "print(\"\\nMost frequently appearing music directors:\")\n",
    "print(most_frequent_music_directors)"
   ]
  },
  {
   "cell_type": "markdown",
   "id": "a78fcf78",
   "metadata": {
    "papermill": {
     "duration": 0.03298,
     "end_time": "2024-04-10T09:04:43.911083",
     "exception": false,
     "start_time": "2024-04-10T09:04:43.878103",
     "status": "completed"
    },
    "tags": []
   },
   "source": [
    "Is there any correlation between the lead star/director/music director and the movie's revenue?"
   ]
  },
  {
   "cell_type": "code",
   "execution_count": 42,
   "id": "e392a76b",
   "metadata": {
    "execution": {
     "iopub.execute_input": "2024-04-10T09:04:43.980251Z",
     "iopub.status.busy": "2024-04-10T09:04:43.979783Z",
     "iopub.status.idle": "2024-04-10T09:04:44.007373Z",
     "shell.execute_reply": "2024-04-10T09:04:44.005449Z"
    },
    "papermill": {
     "duration": 0.065709,
     "end_time": "2024-04-10T09:04:44.009958",
     "exception": false,
     "start_time": "2024-04-10T09:04:43.944249",
     "status": "completed"
    },
    "tags": []
   },
   "outputs": [
    {
     "name": "stdout",
     "output_type": "stream",
     "text": [
      "Correlation between lead star and revenue: 0.43875692206695527\n",
      "Correlation between director and revenue: 0.30787550559444576\n",
      "Correlation between music director and revenue: 0.23829741423549813\n"
     ]
    }
   ],
   "source": [
    "lead_star_revenue_corr = df['Lead Star'].value_counts().corr(df.groupby('Lead Star')['Revenue(INR)'].mean())\n",
    "\n",
    "# Calculate correlation between director and revenue\n",
    "director_revenue_corr = df['Director'].value_counts().corr(df.groupby('Director')['Revenue(INR)'].mean())\n",
    "\n",
    "# Calculate correlation between music director and revenue\n",
    "music_director_revenue_corr = df['Music Director'].value_counts().corr(df.groupby('Music Director')['Revenue(INR)'].mean())\n",
    "\n",
    "print(\"Correlation between lead star and revenue:\", lead_star_revenue_corr)\n",
    "print(\"Correlation between director and revenue:\", director_revenue_corr)\n",
    "print(\"Correlation between music director and revenue:\", music_director_revenue_corr)"
   ]
  },
  {
   "cell_type": "markdown",
   "id": "5e20866c",
   "metadata": {
    "papermill": {
     "duration": 0.033143,
     "end_time": "2024-04-10T09:04:44.076647",
     "exception": false,
     "start_time": "2024-04-10T09:04:44.043504",
     "status": "completed"
    },
    "tags": []
   },
   "source": [
    "Do movies with new actors/directors/music directors perform differently in terms of revenue/profit?"
   ]
  },
  {
   "cell_type": "code",
   "execution_count": 43,
   "id": "12e71cf9",
   "metadata": {
    "execution": {
     "iopub.execute_input": "2024-04-10T09:04:44.145890Z",
     "iopub.status.busy": "2024-04-10T09:04:44.145385Z",
     "iopub.status.idle": "2024-04-10T09:04:44.173054Z",
     "shell.execute_reply": "2024-04-10T09:04:44.171600Z"
    },
    "papermill": {
     "duration": 0.065959,
     "end_time": "2024-04-10T09:04:44.175823",
     "exception": false,
     "start_time": "2024-04-10T09:04:44.109864",
     "status": "completed"
    },
    "tags": []
   },
   "outputs": [
    {
     "name": "stdout",
     "output_type": "stream",
     "text": [
      "Mean Revenue for Movies with New Actors: 49675604.395604394\n",
      "Mean Profit for Movies with New Actors: 6997342.443956044\n",
      "\n",
      "Mean Revenue for Movies with Established Actors: 186952393.40305713\n",
      "Mean Profit for Movies with Established Actors: -122174532.461786\n",
      "\n",
      "Mean Revenue for Movies with New Directors: 75523314.9509804\n",
      "Mean Profit for Movies with New Directors: -13589185.340686275\n",
      "\n",
      "Mean Revenue for Movies with Established Directors: 219225850.34013605\n",
      "Mean Profit for Movies with Established Directors: -155998160.77097505\n",
      "\n",
      "Mean Revenue for Movies with New Music Directors: 68236146.20938627\n",
      "Mean Profit for Movies with New Music Directors: -25528291.92238267\n",
      "\n",
      "Mean Revenue for Movies with Established Music Directors: 189843881.1188811\n",
      "Mean Profit for Movies with Established Music Directors: -117601817.5812937\n"
     ]
    }
   ],
   "source": [
    "new_actor_movies = df[df['New Actor'] == \"Yes\"]\n",
    "established_actor_movies = df[df['New Actor'] == \"No\"]\n",
    "\n",
    "new_director_movies = df[df['New Director'] == \"Yes\"]\n",
    "established_director_movies = df[df['New Director'] == \"No\"]\n",
    "\n",
    "new_music_director_movies = df[df['New Music Director'] == \"Yes\"]\n",
    "established_music_director_movies = df[df['New Music Director'] == \"No\"]\n",
    "\n",
    "# Calculate mean revenue and profit for movies with new and established actors, directors, and music directors\n",
    "mean_revenue_new_actor = new_actor_movies['Revenue(INR)'].mean()\n",
    "mean_profit_new_actor = new_actor_movies['Profit'].mean()\n",
    "\n",
    "mean_revenue_established_actor = established_actor_movies['Revenue(INR)'].mean()\n",
    "mean_profit_established_actor = established_actor_movies['Profit'].mean()\n",
    "\n",
    "mean_revenue_new_director = new_director_movies['Revenue(INR)'].mean()\n",
    "mean_profit_new_director = new_director_movies['Profit'].mean()\n",
    "\n",
    "mean_revenue_established_director = established_director_movies['Revenue(INR)'].mean()\n",
    "mean_profit_established_director = established_director_movies['Profit'].mean()\n",
    "\n",
    "mean_revenue_new_music_director = new_music_director_movies['Revenue(INR)'].mean()\n",
    "mean_profit_new_music_director = new_music_director_movies['Profit'].mean()\n",
    "\n",
    "mean_revenue_established_music_director = established_music_director_movies['Revenue(INR)'].mean()\n",
    "mean_profit_established_music_director = established_music_director_movies['Profit'].mean()\n",
    "\n",
    "# Print the results\n",
    "print(\"Mean Revenue for Movies with New Actors:\", mean_revenue_new_actor)\n",
    "print(\"Mean Profit for Movies with New Actors:\", mean_profit_new_actor)\n",
    "print()\n",
    "print(\"Mean Revenue for Movies with Established Actors:\", mean_revenue_established_actor)\n",
    "print(\"Mean Profit for Movies with Established Actors:\", mean_profit_established_actor)\n",
    "print()\n",
    "print(\"Mean Revenue for Movies with New Directors:\", mean_revenue_new_director)\n",
    "print(\"Mean Profit for Movies with New Directors:\", mean_profit_new_director)\n",
    "print()\n",
    "print(\"Mean Revenue for Movies with Established Directors:\", mean_revenue_established_director)\n",
    "print(\"Mean Profit for Movies with Established Directors:\", mean_profit_established_director)\n",
    "print()\n",
    "print(\"Mean Revenue for Movies with New Music Directors:\", mean_revenue_new_music_director)\n",
    "print(\"Mean Profit for Movies with New Music Directors:\", mean_profit_new_music_director)\n",
    "print()\n",
    "print(\"Mean Revenue for Movies with Established Music Directors:\", mean_revenue_established_music_director)\n",
    "print(\"Mean Profit for Movies with Established Music Directors:\", mean_profit_established_music_director)"
   ]
  },
  {
   "cell_type": "markdown",
   "id": "53b9f202",
   "metadata": {
    "papermill": {
     "duration": 0.034723,
     "end_time": "2024-04-10T09:04:44.246684",
     "exception": false,
     "start_time": "2024-04-10T09:04:44.211961",
     "status": "completed"
    },
    "tags": []
   },
   "source": [
    "### [D] Screen Presence:"
   ]
  },
  {
   "cell_type": "markdown",
   "id": "71142483",
   "metadata": {
    "papermill": {
     "duration": 0.032907,
     "end_time": "2024-04-10T09:04:44.314109",
     "exception": false,
     "start_time": "2024-04-10T09:04:44.281202",
     "status": "completed"
    },
    "tags": []
   },
   "source": [
    "How does the number of screens affect revenue and profit?"
   ]
  },
  {
   "cell_type": "code",
   "execution_count": 44,
   "id": "3c52955d",
   "metadata": {
    "execution": {
     "iopub.execute_input": "2024-04-10T09:04:44.384232Z",
     "iopub.status.busy": "2024-04-10T09:04:44.383733Z",
     "iopub.status.idle": "2024-04-10T09:04:44.723069Z",
     "shell.execute_reply": "2024-04-10T09:04:44.721587Z"
    },
    "papermill": {
     "duration": 0.37798,
     "end_time": "2024-04-10T09:04:44.726059",
     "exception": false,
     "start_time": "2024-04-10T09:04:44.348079",
     "status": "completed"
    },
    "tags": []
   },
   "outputs": [
    {
     "name": "stdout",
     "output_type": "stream",
     "text": [
      "Correlation between Number of Screens and Revenue: 0.8977651709284016\n",
      "Correlation between Number of Screens and Profit: -0.5994728826159754\n"
     ]
    },
    {
     "data": {
      "image/png": "[encoded data removed]",
      "text/plain": [
       "<Figure size 1000x600 with 1 Axes>"
      ]
     },
     "metadata": {},
     "output_type": "display_data"
    }
   ],
   "source": [
    "screens_revenue_corr = df['Number of Screens'].corr(df['Revenue(INR)'])\n",
    "\n",
    "# Calculate correlation between number of screens and profit\n",
    "screens_profit_corr = df['Number of Screens'].corr(df['Profit'])\n",
    "\n",
    "print(\"Correlation between Number of Screens and Revenue:\", screens_revenue_corr)\n",
    "print(\"Correlation between Number of Screens and Profit:\", screens_profit_corr)\n",
    "\n",
    "# Visualize the relationship between number of screens and revenue\n",
    "plt.figure(figsize=(10, 6))\n",
    "plt.scatter(df['Number of Screens'], df['Revenue(INR)'], alpha=0.5)\n",
    "plt.title('Number of Screens vs. Revenue')\n",
    "plt.xlabel('Number of Screens')\n",
    "plt.ylabel('Revenue (INR)')\n",
    "plt.grid(True)\n",
    "plt.show()"
   ]
  },
  {
   "cell_type": "markdown",
   "id": "ba8d54d0",
   "metadata": {
    "papermill": {
     "duration": 0.035859,
     "end_time": "2024-04-10T09:04:44.798221",
     "exception": false,
     "start_time": "2024-04-10T09:04:44.762362",
     "status": "completed"
    },
    "tags": []
   },
   "source": [
    "Are movies released on more screens generally more profitable?\n"
   ]
  },
  {
   "cell_type": "code",
   "execution_count": 45,
   "id": "fb80fece",
   "metadata": {
    "execution": {
     "iopub.execute_input": "2024-04-10T09:04:44.870047Z",
     "iopub.status.busy": "2024-04-10T09:04:44.869606Z",
     "iopub.status.idle": "2024-04-10T09:04:44.879797Z",
     "shell.execute_reply": "2024-04-10T09:04:44.878187Z"
    },
    "papermill": {
     "duration": 0.049306,
     "end_time": "2024-04-10T09:04:44.882374",
     "exception": false,
     "start_time": "2024-04-10T09:04:44.833068",
     "status": "completed"
    },
    "tags": []
   },
   "outputs": [
    {
     "name": "stdout",
     "output_type": "stream",
     "text": [
      "Correlation between Number of Screens and Profit: -0.5994728826159754\n",
      "There is a negative correlation between the number of screens and profit.\n",
      "Movies released on fewer screens tend to be more profitable.\n"
     ]
    }
   ],
   "source": [
    "screens_profit_corr = df['Number of Screens'].corr(df['Profit'])\n",
    "\n",
    "print(\"Correlation between Number of Screens and Profit:\", screens_profit_corr)\n",
    "\n",
    "# Determine if movies released on more screens are generally more profitable\n",
    "if screens_profit_corr > 0:\n",
    "    print(\"There is a positive correlation between the number of screens and profit.\")\n",
    "    print(\"Movies released on more screens tend to be more profitable.\")\n",
    "elif screens_profit_corr < 0:\n",
    "    print(\"There is a negative correlation between the number of screens and profit.\")\n",
    "    print(\"Movies released on fewer screens tend to be more profitable.\")\n",
    "else:\n",
    "    print(\"There is no significant correlation between the number of screens and profit.\")"
   ]
  },
  {
   "cell_type": "markdown",
   "id": "772cfe48",
   "metadata": {
    "papermill": {
     "duration": 0.034561,
     "end_time": "2024-04-10T09:04:44.952266",
     "exception": false,
     "start_time": "2024-04-10T09:04:44.917705",
     "status": "completed"
    },
    "tags": []
   },
   "source": [
    "### [E] Visualization and Trends:"
   ]
  },
  {
   "cell_type": "markdown",
   "id": "f49df43e",
   "metadata": {
    "papermill": {
     "duration": 0.035968,
     "end_time": "2024-04-10T09:04:45.023178",
     "exception": false,
     "start_time": "2024-04-10T09:04:44.987210",
     "status": "completed"
    },
    "tags": []
   },
   "source": [
    "Can you visualize the distribution of revenue, budget, and profit using histograms or box plots?"
   ]
  },
  {
   "cell_type": "code",
   "execution_count": 46,
   "id": "8ab68636",
   "metadata": {
    "execution": {
     "iopub.execute_input": "2024-04-10T09:04:45.095434Z",
     "iopub.status.busy": "2024-04-10T09:04:45.094943Z",
     "iopub.status.idle": "2024-04-10T09:04:46.959704Z",
     "shell.execute_reply": "2024-04-10T09:04:46.958713Z"
    },
    "papermill": {
     "duration": 1.904626,
     "end_time": "2024-04-10T09:04:46.962621",
     "exception": false,
     "start_time": "2024-04-10T09:04:45.057995",
     "status": "completed"
    },
    "tags": []
   },
   "outputs": [
    {
     "data": {
      "image/png": "[encoded data removed]",
      "text/plain": [
       "<Figure size 1500x1500 with 6 Axes>"
      ]
     },
     "metadata": {},
     "output_type": "display_data"
    }
   ],
   "source": [
    "fig, axes = plt.subplots(nrows=3, ncols=2, figsize=(15, 15))\n",
    "\n",
    "# Histograms\n",
    "df['Revenue(INR)'].plot(kind='hist', ax=axes[0, 0], bins=20, color='blue', alpha=0.7)\n",
    "axes[0, 0].set_title('Distribution of Revenue')\n",
    "axes[0, 0].set_xlabel('Revenue (INR)')\n",
    "axes[0, 0].set_ylabel('Frequency')\n",
    "\n",
    "df['Budget(INR)'].plot(kind='hist', ax=axes[1, 0], bins=20, color='green', alpha=0.7)\n",
    "axes[1, 0].set_title('Distribution of Budget')\n",
    "axes[1, 0].set_xlabel('Budget (INR)')\n",
    "axes[1, 0].set_ylabel('Frequency')\n",
    "\n",
    "df['Profit'].plot(kind='hist', ax=axes[2, 0], bins=20, color='orange', alpha=0.7)\n",
    "axes[2, 0].set_title('Distribution of Profit')\n",
    "axes[2, 0].set_xlabel('Profit')\n",
    "axes[2, 0].set_ylabel('Frequency')\n",
    "\n",
    "# Box plots\n",
    "df.boxplot(column='Revenue(INR)', ax=axes[0, 1])\n",
    "axes[0, 1].set_title('Box Plot of Revenue')\n",
    "\n",
    "df.boxplot(column='Budget(INR)', ax=axes[1, 1])\n",
    "axes[1, 1].set_title('Box Plot of Budget')\n",
    "\n",
    "df.boxplot(column='Profit', ax=axes[2, 1])\n",
    "axes[2, 1].set_title('Box Plot of Profit')\n",
    "\n",
    "# Adjust layout\n",
    "plt.tight_layout()\n",
    "\n",
    "# Show plots\n",
    "plt.show()"
   ]
  },
  {
   "cell_type": "markdown",
   "id": "ea0ad22d",
   "metadata": {
    "papermill": {
     "duration": 0.039251,
     "end_time": "2024-04-10T09:04:47.039878",
     "exception": false,
     "start_time": "2024-04-10T09:04:47.000627",
     "status": "completed"
    },
    "tags": []
   },
   "source": [
    "Are there any noticeable trends or patterns over the years in terms of revenue, budget, or profit?"
   ]
  },
  {
   "cell_type": "code",
   "execution_count": 47,
   "id": "09a15f22",
   "metadata": {
    "execution": {
     "iopub.execute_input": "2024-04-10T09:04:47.120264Z",
     "iopub.status.busy": "2024-04-10T09:04:47.119398Z",
     "iopub.status.idle": "2024-04-10T09:04:47.564104Z",
     "shell.execute_reply": "2024-04-10T09:04:47.562877Z"
    },
    "papermill": {
     "duration": 0.488338,
     "end_time": "2024-04-10T09:04:47.567135",
     "exception": false,
     "start_time": "2024-04-10T09:04:47.078797",
     "status": "completed"
    },
    "tags": []
   },
   "outputs": [
    {
     "data": {
      "image/png": "[encoded data removed]",
      "text/plain": [
       "<Figure size 1000x600 with 1 Axes>"
      ]
     },
     "metadata": {},
     "output_type": "display_data"
    }
   ],
   "source": [
    "df['Release Period'] = df['Release Period'].astype('category')\n",
    "\n",
    "# Aggregate data by release period and calculate mean revenue, budget, and profit\n",
    "period_data = df.groupby('Release Period').agg({'Revenue(INR)': 'mean', 'Budget(INR)': 'mean', 'Profit': 'mean'})\n",
    "\n",
    "# Visualize the trends for 'Normal' and 'Holiday' release periods using bar plots\n",
    "period_data.plot(kind='bar', figsize=(10, 6))\n",
    "plt.title('Trends Based on Release Period')\n",
    "plt.xlabel('Release Period')\n",
    "plt.ylabel('Mean Amount (INR)')\n",
    "plt.xticks(rotation=0)\n",
    "plt.legend(['Mean Revenue', 'Mean Budget', 'Mean Profit'])\n",
    "plt.grid(axis='y')\n",
    "plt.tight_layout()\n",
    "plt.show()"
   ]
  },
  {
   "cell_type": "markdown",
   "id": "9ccd94e3",
   "metadata": {
    "papermill": {
     "duration": 0.036564,
     "end_time": "2024-04-10T09:04:47.640719",
     "exception": false,
     "start_time": "2024-04-10T09:04:47.604155",
     "status": "completed"
    },
    "tags": []
   },
   "source": [
    "Can you visualize the relationship between budget and revenue using a scatter plot?"
   ]
  },
  {
   "cell_type": "code",
   "execution_count": 48,
   "id": "c14a7d42",
   "metadata": {
    "execution": {
     "iopub.execute_input": "2024-04-10T09:04:47.732698Z",
     "iopub.status.busy": "2024-04-10T09:04:47.731883Z",
     "iopub.status.idle": "2024-04-10T09:04:49.767146Z",
     "shell.execute_reply": "2024-04-10T09:04:49.765993Z"
    },
    "papermill": {
     "duration": 2.087871,
     "end_time": "2024-04-10T09:04:49.769850",
     "exception": false,
     "start_time": "2024-04-10T09:04:47.681979",
     "status": "completed"
    },
    "tags": []
   },
   "outputs": [
    {
     "data": {
      "image/png": "[encoded data removed]",
      "text/plain": [
       "<Figure size 1000x600 with 1 Axes>"
      ]
     },
     "metadata": {},
     "output_type": "display_data"
    }
   ],
   "source": [
    "import seaborn as sns\n",
    "import matplotlib.pyplot as plt\n",
    "\n",
    "plt.figure(figsize=(10, 6))\n",
    "sns.scatterplot(x='Budget(INR)', y='Revenue(INR)', data=df)\n",
    "plt.title('Relationship Between Budget and Revenue')\n",
    "plt.xlabel('Budget (INR)')\n",
    "plt.ylabel('Revenue (INR)')\n",
    "plt.grid(True)\n",
    "plt.show()"
   ]
  },
  {
   "cell_type": "markdown",
   "id": "732ff815",
   "metadata": {
    "papermill": {
     "duration": 0.039209,
     "end_time": "2024-04-10T09:04:49.851837",
     "exception": false,
     "start_time": "2024-04-10T09:04:49.812628",
     "status": "completed"
    },
    "tags": []
   },
   "source": [
    "\n",
    "\n",
    "\n",
    "\n",
    "### Franchise Analysis:\n",
    "\n",
    "How does the performance (revenue, profit) of movies in a franchise compare to standalone movies?\n",
    "Is there any trend in the revenue or profit of a franchise over its sequels?\n",
    "\n",
    "\n",
    "### Genre Analysis:\n",
    "\n",
    "Which genres tend to have higher revenue and profit?\n",
    "Are certain genres more likely to be remade or belong to a franchise?\n",
    "How has the popularity of different genres changed over time?\n",
    "\n",
    "\n",
    "### Correlation Analysis:\n",
    "\n",
    "Can you identify any correlations between different variables such as budget, revenue, profit, and number of screens?\n",
    "Are there any interesting relationships between variables that stand out?\n",
    "\n",
    "\n",
    "### Outlier Detection:\n",
    "\n",
    "Are there any outliers in terms of revenue, budget, or profit? If so, can you identify any patterns or reasons for these outliers?\n",
    "\n",
    "\n",
    "### Predictive Analysis:\n",
    "\n",
    "Can you build a predictive model to forecast a movie's revenue or profit based on its features such as genre, lead star, director, budget, etc.?\n",
    "How accurate is your predictive model, and which features contribute the most to predicting revenue/profit?"
   ]
  },
  {
   "cell_type": "code",
   "execution_count": null,
   "id": "b4f9a2f9",
   "metadata": {
    "papermill": {
     "duration": 0.038887,
     "end_time": "2024-04-10T09:04:49.930262",
     "exception": false,
     "start_time": "2024-04-10T09:04:49.891375",
     "status": "completed"
    },
    "tags": []
   },
   "outputs": [],
   "source": []
  }
 ],
 "metadata": {
  "kaggle": {
   "accelerator": "none",
   "dataSources": [
    {
     "datasetId": 2476918,
     "sourceId": 4200898,
     "sourceType": "datasetVersion"
    }
   ],
   "dockerImageVersionId": 30558,
   "isGpuEnabled": false,
   "isInternetEnabled": true,
   "language": "python",
   "sourceType": "notebook"
  },
  "kernelspec": {
   "display_name": "Python 3",
   "language": "python",
   "name": "python3"
  },
  "language_info": {
   "codemirror_mode": {
    "name": "ipython",
    "version": 3
   },
   "file_extension": ".py",
   "mimetype": "text/x-python",
   "name": "python",
   "nbconvert_exporter": "python",
   "pygments_lexer": "ipython3",
   "version": "3.10.12"
  },
  "papermill": {
   "default_parameters": {},
   "duration": 19.134766,
   "end_time": "2024-04-10T09:04:50.691761",
   "environment_variables": {},
   "exception": null,
   "input_path": "__notebook__.ipynb",
   "output_path": "__notebook__.ipynb",
   "parameters": {},
   "start_time": "2024-04-10T09:04:31.556995",
   "version": "2.4.0"
  }
 },
 "nbformat": 4,
 "nbformat_minor": 5
}
