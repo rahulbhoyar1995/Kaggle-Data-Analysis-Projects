{
 "cells": [
  {
   "cell_type": "code",
   "execution_count": 1,
   "id": "0b5512d0",
   "metadata": {
    "_cell_guid": "b1076dfc-b9ad-4769-8c92-a6c4dae69d19",
    "_uuid": "8f2839f25d086af736a60e9eeb907d3b93b6e0e5",
    "execution": {
     "iopub.execute_input": "2024-03-22T17:10:16.576950Z",
     "iopub.status.busy": "2024-03-22T17:10:16.576463Z",
     "iopub.status.idle": "2024-03-22T17:10:17.642556Z",
     "shell.execute_reply": "2024-03-22T17:10:17.641191Z"
    },
    "papermill": {
     "duration": 1.073244,
     "end_time": "2024-03-22T17:10:17.645400",
     "exception": false,
     "start_time": "2024-03-22T17:10:16.572156",
     "status": "completed"
    },
    "tags": []
   },
   "outputs": [
    {
     "name": "stdout",
     "output_type": "stream",
     "text": [
      "/kaggle/input/philosophy-authors-writings-german/xenophon.txt\n",
      "/kaggle/input/philosophy-authors-writings-german/schiller.txt\n",
      "/kaggle/input/philosophy-authors-writings-german/platon.txt\n",
      "/kaggle/input/philosophy-authors-writings-german/freud.txt\n",
      "/kaggle/input/philosophy-authors-writings-german/schopenh.txt\n",
      "/kaggle/input/philosophy-authors-writings-german/mauthner.txt\n",
      "/kaggle/input/philosophy-authors-writings-german/machiave.txt\n",
      "/kaggle/input/philosophy-authors-writings-german/laotse.txt\n",
      "/kaggle/input/philosophy-authors-writings-german/vorlaend.txt\n",
      "/kaggle/input/philosophy-authors-writings-german/bacon.txt\n",
      "/kaggle/input/philosophy-authors-writings-german/aristote.txt\n",
      "/kaggle/input/philosophy-authors-writings-german/kant.txt\n",
      "/kaggle/input/philosophy-authors-writings-german/simmel.txt\n",
      "/kaggle/input/philosophy-authors-writings-german/herder.txt\n",
      "/kaggle/input/philosophy-authors-writings-german/kierkega.txt\n",
      "/kaggle/input/philosophy-authors-writings-german/spinoza.txt\n",
      "/kaggle/input/philosophy-authors-writings-german/spengler.txt\n",
      "/kaggle/input/philosophy-authors-writings-german/goethe.txt\n",
      "/kaggle/input/philosophy-authors-writings-german/konfuziu.txt\n",
      "/kaggle/input/philosophy-authors-writings-german/erasmus.txt\n",
      "/kaggle/input/philosophy-authors-writings-german/nietzsch.txt\n",
      "/kaggle/input/philosophy-authors-writings-german/feuerbach.txt\n",
      "/kaggle/input/philosophy-authors-writings-german/montesqu.txt\n",
      "/kaggle/input/philosophy-authors-writings-german/descarte.txt\n",
      "/kaggle/input/philosophy-authors-writings-german/fichte.txt\n",
      "/kaggle/input/philosophy-authors-writings-german/marx.txt\n",
      "/kaggle/input/philosophy-authors-writings-german/leibniz.txt\n",
      "/kaggle/input/philosophy-authors-writings-german/hume.txt\n",
      "/kaggle/input/philosophy-authors-writings-german/schelling.txt\n",
      "/kaggle/input/philosophy-authors-writings-german/rousseau.txt\n",
      "/kaggle/input/philosophy-authors-writings-german/morus.txt\n",
      "/kaggle/input/philosophy-authors-writings-german/hegel.txt\n",
      "/kaggle/input/philosophy-authors-writings-german/benjamin.txt\n",
      "/kaggle/input/philosophy-authors-writings-german/montaign.txt\n"
     ]
    }
   ],
   "source": [
    "# This Python 3 environment comes with many helpful analytics libraries installed\n",
    "# It is defined by the kaggle/python Docker image: https://github.com/kaggle/docker-python\n",
    "# For example, here's several helpful packages to load\n",
    "\n",
    "import numpy as np # linear algebra\n",
    "import pandas as pd # data processing, CSV file I/O (e.g. pd.read_csv)\n",
    "\n",
    "# Input data files are available in the read-only \"../input/\" directory\n",
    "# For example, running this (by clicking run or pressing Shift+Enter) will list all files under the input directory\n",
    "\n",
    "import os\n",
    "for dirname, _, filenames in os.walk('/kaggle/input'):\n",
    "    for filename in filenames:\n",
    "        print(os.path.join(dirname, filename))\n",
    "\n",
    "# You can write up to 20GB to the current directory (/kaggle/working/) that gets preserved as output when you create a version using \"Save & Run All\" \n",
    "# You can also write temporary files to /kaggle/temp/, but they won't be saved outside of the current session"
   ]
  },
  {
   "cell_type": "code",
   "execution_count": null,
   "id": "c3ca9ede",
   "metadata": {
    "papermill": {
     "duration": 0.001918,
     "end_time": "2024-03-22T17:10:17.649547",
     "exception": false,
     "start_time": "2024-03-22T17:10:17.647629",
     "status": "completed"
    },
    "tags": []
   },
   "outputs": [],
   "source": []
  }
 ],
 "metadata": {
  "kaggle": {
   "accelerator": "none",
   "dataSources": [
    {
     "datasetId": 948342,
     "sourceId": 1606628,
     "sourceType": "datasetVersion"
    }
   ],
   "dockerImageVersionId": 30646,
   "isGpuEnabled": false,
   "isInternetEnabled": true,
   "language": "python",
   "sourceType": "notebook"
  },
  "kernelspec": {
   "display_name": "Python 3",
   "language": "python",
   "name": "python3"
  },
  "language_info": {
   "codemirror_mode": {
    "name": "ipython",
    "version": 3
   },
   "file_extension": ".py",
   "mimetype": "text/x-python",
   "name": "python",
   "nbconvert_exporter": "python",
   "pygments_lexer": "ipython3",
   "version": "3.10.13"
  },
  "papermill": {
   "default_parameters": {},
   "duration": 4.693814,
   "end_time": "2024-03-22T17:10:18.176150",
   "environment_variables": {},
   "exception": null,
   "input_path": "__notebook__.ipynb",
   "output_path": "__notebook__.ipynb",
   "parameters": {},
   "start_time": "2024-03-22T17:10:13.482336",
   "version": "2.5.0"
  }
 },
 "nbformat": 4,
 "nbformat_minor": 5
}
