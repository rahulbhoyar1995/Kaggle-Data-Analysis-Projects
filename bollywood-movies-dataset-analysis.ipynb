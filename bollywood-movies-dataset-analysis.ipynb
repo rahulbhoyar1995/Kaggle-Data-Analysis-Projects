{
 "cells": [
  {
   "cell_type": "code",
   "execution_count": 1,
   "id": "9d5a43e0",
   "metadata": {
    "_cell_guid": "b1076dfc-b9ad-4769-8c92-a6c4dae69d19",
    "_uuid": "8f2839f25d086af736a60e9eeb907d3b93b6e0e5",
    "execution": {
     "iopub.execute_input": "2024-04-08T15:19:08.379932Z",
     "iopub.status.busy": "2024-04-08T15:19:08.379533Z",
     "iopub.status.idle": "2024-04-08T15:19:09.337762Z",
     "shell.execute_reply": "2024-04-08T15:19:09.336335Z"
    },
    "papermill": {
     "duration": 0.980801,
     "end_time": "2024-04-08T15:19:09.340737",
     "exception": false,
     "start_time": "2024-04-08T15:19:08.359936",
     "status": "completed"
    },
    "tags": []
   },
   "outputs": [
    {
     "name": "stdout",
     "output_type": "stream",
     "text": [
      "/kaggle/input/bollywood-movies-dataset/Data for repository.csv\n"
     ]
    }
   ],
   "source": [
    "# This Python 3 environment comes with many helpful analytics libraries installed\n",
    "# It is defined by the kaggle/python Docker image: https://github.com/kaggle/docker-python\n",
    "# For example, here's several helpful packages to load\n",
    "\n",
    "import numpy as np # linear algebra\n",
    "import pandas as pd # data processing, CSV file I/O (e.g. pd.read_csv)\n",
    "\n",
    "# Input data files are available in the read-only \"../input/\" directory\n",
    "# For example, running this (by clicking run or pressing Shift+Enter) will list all files under the input directory\n",
    "\n",
    "import os\n",
    "for dirname, _, filenames in os.walk('/kaggle/input'):\n",
    "    for filename in filenames:\n",
    "        print(os.path.join(dirname, filename))\n",
    "\n",
    "# You can write up to 20GB to the current directory (/kaggle/working/) that gets preserved as output when you create a version using \"Save & Run All\" \n",
    "# You can also write temporary files to /kaggle/temp/, but they won't be saved outside of the current session"
   ]
  },
  {
   "cell_type": "code",
   "execution_count": 2,
   "id": "2e07d903",
   "metadata": {
    "execution": {
     "iopub.execute_input": "2024-04-08T15:19:09.377509Z",
     "iopub.status.busy": "2024-04-08T15:19:09.376622Z",
     "iopub.status.idle": "2024-04-08T15:19:09.437235Z",
     "shell.execute_reply": "2024-04-08T15:19:09.436354Z"
    },
    "papermill": {
     "duration": 0.081471,
     "end_time": "2024-04-08T15:19:09.439584",
     "exception": false,
     "start_time": "2024-04-08T15:19:09.358113",
     "status": "completed"
    },
    "tags": []
   },
   "outputs": [
    {
     "data": {
      "text/html": [
       "<div>\n",
       "<style scoped>\n",
       "    .dataframe tbody tr th:only-of-type {\n",
       "        vertical-align: middle;\n",
       "    }\n",
       "\n",
       "    .dataframe tbody tr th {\n",
       "        vertical-align: top;\n",
       "    }\n",
       "\n",
       "    .dataframe thead th {\n",
       "        text-align: right;\n",
       "    }\n",
       "</style>\n",
       "<table border=\"1\" class=\"dataframe\">\n",
       "  <thead>\n",
       "    <tr style=\"text-align: right;\">\n",
       "      <th></th>\n",
       "      <th>Movie Name</th>\n",
       "      <th>Release Period</th>\n",
       "      <th>Whether Remake</th>\n",
       "      <th>Whether Franchise</th>\n",
       "      <th>Genre</th>\n",
       "      <th>New Actor</th>\n",
       "      <th>New Director</th>\n",
       "      <th>New Music Director</th>\n",
       "      <th>Lead Star</th>\n",
       "      <th>Director</th>\n",
       "      <th>Music Director</th>\n",
       "      <th>Number of Screens</th>\n",
       "      <th>Revenue(INR)</th>\n",
       "      <th>Budget(INR)</th>\n",
       "    </tr>\n",
       "  </thead>\n",
       "  <tbody>\n",
       "    <tr>\n",
       "      <th>0</th>\n",
       "      <td>Golden Boys</td>\n",
       "      <td>Normal</td>\n",
       "      <td>No</td>\n",
       "      <td>No</td>\n",
       "      <td>suspense</td>\n",
       "      <td>Yes</td>\n",
       "      <td>No</td>\n",
       "      <td>No</td>\n",
       "      <td>Jeet Goswami</td>\n",
       "      <td>Ravi Varma</td>\n",
       "      <td>Baba Jagirdar</td>\n",
       "      <td>5</td>\n",
       "      <td>5000000</td>\n",
       "      <td>85000</td>\n",
       "    </tr>\n",
       "    <tr>\n",
       "      <th>1</th>\n",
       "      <td>Kaccha Limboo</td>\n",
       "      <td>Holiday</td>\n",
       "      <td>No</td>\n",
       "      <td>No</td>\n",
       "      <td>drama</td>\n",
       "      <td>Yes</td>\n",
       "      <td>No</td>\n",
       "      <td>Yes</td>\n",
       "      <td>Karan Bhanushali</td>\n",
       "      <td>Sagar Ballary</td>\n",
       "      <td>Amardeep Nijjer</td>\n",
       "      <td>75</td>\n",
       "      <td>15000000</td>\n",
       "      <td>825000</td>\n",
       "    </tr>\n",
       "    <tr>\n",
       "      <th>2</th>\n",
       "      <td>Not A Love Story</td>\n",
       "      <td>Holiday</td>\n",
       "      <td>No</td>\n",
       "      <td>No</td>\n",
       "      <td>thriller</td>\n",
       "      <td>No</td>\n",
       "      <td>No</td>\n",
       "      <td>No</td>\n",
       "      <td>Mahie Gill</td>\n",
       "      <td>Ram Gopal Verma</td>\n",
       "      <td>Sandeep Chowta</td>\n",
       "      <td>525</td>\n",
       "      <td>75000000</td>\n",
       "      <td>56700000</td>\n",
       "    </tr>\n",
       "    <tr>\n",
       "      <th>3</th>\n",
       "      <td>Qaidi Band</td>\n",
       "      <td>Holiday</td>\n",
       "      <td>No</td>\n",
       "      <td>No</td>\n",
       "      <td>drama</td>\n",
       "      <td>Yes</td>\n",
       "      <td>No</td>\n",
       "      <td>No</td>\n",
       "      <td>Aadar Jain</td>\n",
       "      <td>Habib Faisal</td>\n",
       "      <td>Amit Trivedi</td>\n",
       "      <td>800</td>\n",
       "      <td>210000000</td>\n",
       "      <td>4500000</td>\n",
       "    </tr>\n",
       "    <tr>\n",
       "      <th>4</th>\n",
       "      <td>Chaatwali</td>\n",
       "      <td>Holiday</td>\n",
       "      <td>No</td>\n",
       "      <td>No</td>\n",
       "      <td>adult</td>\n",
       "      <td>Yes</td>\n",
       "      <td>Yes</td>\n",
       "      <td>Yes</td>\n",
       "      <td>Aadil Khan</td>\n",
       "      <td>Aadil Khan</td>\n",
       "      <td>Babloo Ustad</td>\n",
       "      <td>1</td>\n",
       "      <td>1000000</td>\n",
       "      <td>1075000</td>\n",
       "    </tr>\n",
       "  </tbody>\n",
       "</table>\n",
       "</div>"
      ],
      "text/plain": [
       "         Movie Name Release Period Whether Remake Whether Franchise     Genre  \\\n",
       "0       Golden Boys         Normal             No                No  suspense   \n",
       "1     Kaccha Limboo        Holiday             No                No     drama   \n",
       "2  Not A Love Story        Holiday             No                No  thriller   \n",
       "3        Qaidi Band        Holiday             No                No     drama   \n",
       "4         Chaatwali        Holiday             No                No     adult   \n",
       "\n",
       "  New Actor New Director New Music Director         Lead Star  \\\n",
       "0       Yes           No                 No      Jeet Goswami   \n",
       "1       Yes           No                Yes  Karan Bhanushali   \n",
       "2        No           No                 No        Mahie Gill   \n",
       "3       Yes           No                 No        Aadar Jain   \n",
       "4       Yes          Yes                Yes        Aadil Khan   \n",
       "\n",
       "          Director   Music Director  Number of Screens  Revenue(INR)  \\\n",
       "0       Ravi Varma    Baba Jagirdar                  5       5000000   \n",
       "1    Sagar Ballary  Amardeep Nijjer                 75      15000000   \n",
       "2  Ram Gopal Verma   Sandeep Chowta                525      75000000   \n",
       "3     Habib Faisal     Amit Trivedi                800     210000000   \n",
       "4       Aadil Khan     Babloo Ustad                  1       1000000   \n",
       "\n",
       "   Budget(INR)  \n",
       "0        85000  \n",
       "1       825000  \n",
       "2     56700000  \n",
       "3      4500000  \n",
       "4      1075000  "
      ]
     },
     "execution_count": 2,
     "metadata": {},
     "output_type": "execute_result"
    }
   ],
   "source": [
    "df = pd.read_csv(\"/kaggle/input/bollywood-movies-dataset/Data for repository.csv\")\n",
    "df.head()"
   ]
  },
  {
   "cell_type": "markdown",
   "id": "15008155",
   "metadata": {
    "papermill": {
     "duration": 0.017718,
     "end_time": "2024-04-08T15:19:09.474811",
     "exception": false,
     "start_time": "2024-04-08T15:19:09.457093",
     "status": "completed"
    },
    "tags": []
   },
   "source": [
    "All columns in the datasets."
   ]
  },
  {
   "cell_type": "code",
   "execution_count": 3,
   "id": "4de3ae90",
   "metadata": {
    "execution": {
     "iopub.execute_input": "2024-04-08T15:19:09.511666Z",
     "iopub.status.busy": "2024-04-08T15:19:09.511042Z",
     "iopub.status.idle": "2024-04-08T15:19:09.516428Z",
     "shell.execute_reply": "2024-04-08T15:19:09.515357Z"
    },
    "papermill": {
     "duration": 0.026179,
     "end_time": "2024-04-08T15:19:09.518517",
     "exception": false,
     "start_time": "2024-04-08T15:19:09.492338",
     "status": "completed"
    },
    "tags": []
   },
   "outputs": [
    {
     "name": "stdout",
     "output_type": "stream",
     "text": [
      "All columns in the datset are : ['Movie Name', 'Release Period', 'Whether Remake', 'Whether Franchise', 'Genre', 'New Actor', 'New Director', 'New Music Director', 'Lead Star', 'Director', 'Music Director', 'Number of Screens', 'Revenue(INR)', 'Budget(INR)']\n"
     ]
    }
   ],
   "source": [
    "print(\"All columns in the datset are :\",list(df.columns))"
   ]
  },
  {
   "cell_type": "markdown",
   "id": "d852c17d",
   "metadata": {
    "papermill": {
     "duration": 0.017717,
     "end_time": "2024-04-08T15:19:09.553850",
     "exception": false,
     "start_time": "2024-04-08T15:19:09.536133",
     "status": "completed"
    },
    "tags": []
   },
   "source": [
    "What is the average revenue for all movies in the dataset?"
   ]
  },
  {
   "cell_type": "code",
   "execution_count": 4,
   "id": "f0aba0c8",
   "metadata": {
    "execution": {
     "iopub.execute_input": "2024-04-08T15:19:09.591483Z",
     "iopub.status.busy": "2024-04-08T15:19:09.590424Z",
     "iopub.status.idle": "2024-04-08T15:19:09.598904Z",
     "shell.execute_reply": "2024-04-08T15:19:09.597592Z"
    },
    "papermill": {
     "duration": 0.030042,
     "end_time": "2024-04-08T15:19:09.601658",
     "exception": false,
     "start_time": "2024-04-08T15:19:09.571616",
     "status": "completed"
    },
    "tags": []
   },
   "outputs": [
    {
     "name": "stdout",
     "output_type": "stream",
     "text": [
      "Average of all the movies in dataset : Rs. 150167388.10365134\n"
     ]
    }
   ],
   "source": [
    "print(f\"Average of all the movies in dataset : Rs. {df['Revenue(INR)'].mean()}\")"
   ]
  },
  {
   "cell_type": "markdown",
   "id": "edd47e3d",
   "metadata": {
    "papermill": {
     "duration": 0.017457,
     "end_time": "2024-04-08T15:19:09.637047",
     "exception": false,
     "start_time": "2024-04-08T15:19:09.619590",
     "status": "completed"
    },
    "tags": []
   },
   "source": [
    "Calculate the total revenue for each genre"
   ]
  },
  {
   "cell_type": "code",
   "execution_count": 5,
   "id": "f078f035",
   "metadata": {
    "execution": {
     "iopub.execute_input": "2024-04-08T15:19:09.673710Z",
     "iopub.status.busy": "2024-04-08T15:19:09.673010Z",
     "iopub.status.idle": "2024-04-08T15:19:09.700291Z",
     "shell.execute_reply": "2024-04-08T15:19:09.699148Z"
    },
    "papermill": {
     "duration": 0.048379,
     "end_time": "2024-04-08T15:19:09.702757",
     "exception": false,
     "start_time": "2024-04-08T15:19:09.654378",
     "status": "completed"
    },
    "tags": []
   },
   "outputs": [
    {
     "data": {
      "text/html": [
       "<div>\n",
       "<style scoped>\n",
       "    .dataframe tbody tr th:only-of-type {\n",
       "        vertical-align: middle;\n",
       "    }\n",
       "\n",
       "    .dataframe tbody tr th {\n",
       "        vertical-align: top;\n",
       "    }\n",
       "\n",
       "    .dataframe thead th {\n",
       "        text-align: right;\n",
       "    }\n",
       "</style>\n",
       "<table border=\"1\" class=\"dataframe\">\n",
       "  <thead>\n",
       "    <tr style=\"text-align: right;\">\n",
       "      <th></th>\n",
       "      <th>Genre</th>\n",
       "      <th>Revenue(INR)</th>\n",
       "    </tr>\n",
       "  </thead>\n",
       "  <tbody>\n",
       "    <tr>\n",
       "      <th>0</th>\n",
       "      <td>action</td>\n",
       "      <td>43936750000</td>\n",
       "    </tr>\n",
       "    <tr>\n",
       "      <th>1</th>\n",
       "      <td>adult</td>\n",
       "      <td>308700000</td>\n",
       "    </tr>\n",
       "    <tr>\n",
       "      <th>2</th>\n",
       "      <td>animation</td>\n",
       "      <td>292500000</td>\n",
       "    </tr>\n",
       "    <tr>\n",
       "      <th>3</th>\n",
       "      <td>comedy</td>\n",
       "      <td>43370500000</td>\n",
       "    </tr>\n",
       "    <tr>\n",
       "      <th>4</th>\n",
       "      <td>documentary</td>\n",
       "      <td>390000000</td>\n",
       "    </tr>\n",
       "    <tr>\n",
       "      <th>5</th>\n",
       "      <td>drama</td>\n",
       "      <td>70477075000</td>\n",
       "    </tr>\n",
       "    <tr>\n",
       "      <th>6</th>\n",
       "      <td>fantasy</td>\n",
       "      <td>2595000000</td>\n",
       "    </tr>\n",
       "    <tr>\n",
       "      <th>7</th>\n",
       "      <td>horror</td>\n",
       "      <td>3768500000</td>\n",
       "    </tr>\n",
       "    <tr>\n",
       "      <th>8</th>\n",
       "      <td>love_story</td>\n",
       "      <td>20539500000</td>\n",
       "    </tr>\n",
       "    <tr>\n",
       "      <th>9</th>\n",
       "      <td>masala</td>\n",
       "      <td>16040000000</td>\n",
       "    </tr>\n",
       "    <tr>\n",
       "      <th>10</th>\n",
       "      <td>mythological</td>\n",
       "      <td>129000000</td>\n",
       "    </tr>\n",
       "    <tr>\n",
       "      <th>11</th>\n",
       "      <td>rom__com</td>\n",
       "      <td>18935700000</td>\n",
       "    </tr>\n",
       "    <tr>\n",
       "      <th>12</th>\n",
       "      <td>suspense</td>\n",
       "      <td>1162500000</td>\n",
       "    </tr>\n",
       "    <tr>\n",
       "      <th>13</th>\n",
       "      <td>thriller</td>\n",
       "      <td>33038500000</td>\n",
       "    </tr>\n",
       "  </tbody>\n",
       "</table>\n",
       "</div>"
      ],
      "text/plain": [
       "           Genre  Revenue(INR)\n",
       "0         action   43936750000\n",
       "1          adult     308700000\n",
       "2      animation     292500000\n",
       "3         comedy   43370500000\n",
       "4    documentary     390000000\n",
       "5          drama   70477075000\n",
       "6        fantasy    2595000000\n",
       "7         horror    3768500000\n",
       "8     love_story   20539500000\n",
       "9         masala   16040000000\n",
       "10  mythological     129000000\n",
       "11      rom__com   18935700000\n",
       "12      suspense    1162500000\n",
       "13      thriller   33038500000"
      ]
     },
     "execution_count": 5,
     "metadata": {},
     "output_type": "execute_result"
    }
   ],
   "source": [
    "# Calculate the total revenue for each genre\n",
    "df.groupby('Genre')['Revenue(INR)'].sum().reset_index()"
   ]
  },
  {
   "cell_type": "markdown",
   "id": "3ccb1167",
   "metadata": {
    "papermill": {
     "duration": 0.017343,
     "end_time": "2024-04-08T15:19:09.738084",
     "exception": false,
     "start_time": "2024-04-08T15:19:09.720741",
     "status": "completed"
    },
    "tags": []
   },
   "source": [
    "Find the movie with the highest revenue"
   ]
  },
  {
   "cell_type": "code",
   "execution_count": 6,
   "id": "daf261e8",
   "metadata": {
    "execution": {
     "iopub.execute_input": "2024-04-08T15:19:09.775667Z",
     "iopub.status.busy": "2024-04-08T15:19:09.775010Z",
     "iopub.status.idle": "2024-04-08T15:19:09.795323Z",
     "shell.execute_reply": "2024-04-08T15:19:09.794052Z"
    },
    "papermill": {
     "duration": 0.042031,
     "end_time": "2024-04-08T15:19:09.797747",
     "exception": false,
     "start_time": "2024-04-08T15:19:09.755716",
     "status": "completed"
    },
    "tags": []
   },
   "outputs": [
    {
     "data": {
      "text/html": [
       "<div>\n",
       "<style scoped>\n",
       "    .dataframe tbody tr th:only-of-type {\n",
       "        vertical-align: middle;\n",
       "    }\n",
       "\n",
       "    .dataframe tbody tr th {\n",
       "        vertical-align: top;\n",
       "    }\n",
       "\n",
       "    .dataframe thead th {\n",
       "        text-align: right;\n",
       "    }\n",
       "</style>\n",
       "<table border=\"1\" class=\"dataframe\">\n",
       "  <thead>\n",
       "    <tr style=\"text-align: right;\">\n",
       "      <th></th>\n",
       "      <th>Movie Name</th>\n",
       "      <th>Release Period</th>\n",
       "      <th>Whether Remake</th>\n",
       "      <th>Whether Franchise</th>\n",
       "      <th>Genre</th>\n",
       "      <th>New Actor</th>\n",
       "      <th>New Director</th>\n",
       "      <th>New Music Director</th>\n",
       "      <th>Lead Star</th>\n",
       "      <th>Director</th>\n",
       "      <th>Music Director</th>\n",
       "      <th>Number of Screens</th>\n",
       "      <th>Revenue(INR)</th>\n",
       "      <th>Budget(INR)</th>\n",
       "    </tr>\n",
       "  </thead>\n",
       "  <tbody>\n",
       "    <tr>\n",
       "      <th>1240</th>\n",
       "      <td>Tiger Zinda Hai</td>\n",
       "      <td>Holiday</td>\n",
       "      <td>No</td>\n",
       "      <td>Yes</td>\n",
       "      <td>action</td>\n",
       "      <td>No</td>\n",
       "      <td>No</td>\n",
       "      <td>No</td>\n",
       "      <td>Salman Khan</td>\n",
       "      <td>Ali Abbas Zafar</td>\n",
       "      <td>Vishal - Shekhar</td>\n",
       "      <td>4600</td>\n",
       "      <td>2100000000</td>\n",
       "      <td>5651020000</td>\n",
       "    </tr>\n",
       "  </tbody>\n",
       "</table>\n",
       "</div>"
      ],
      "text/plain": [
       "           Movie Name Release Period Whether Remake Whether Franchise   Genre  \\\n",
       "1240  Tiger Zinda Hai        Holiday             No               Yes  action   \n",
       "\n",
       "     New Actor New Director New Music Director    Lead Star         Director  \\\n",
       "1240        No           No                 No  Salman Khan  Ali Abbas Zafar   \n",
       "\n",
       "        Music Director  Number of Screens  Revenue(INR)  Budget(INR)  \n",
       "1240  Vishal - Shekhar               4600    2100000000   5651020000  "
      ]
     },
     "execution_count": 6,
     "metadata": {},
     "output_type": "execute_result"
    }
   ],
   "source": [
    "# Find the movie with the highest revenue.\n",
    "df[df['Revenue(INR)'] == df['Revenue(INR)'].max()]\n",
    "#sorted(df['Revenue(INR)'])[-1] #2100000000"
   ]
  },
  {
   "cell_type": "code",
   "execution_count": null,
   "id": "08a784af",
   "metadata": {
    "papermill": {
     "duration": 0.017621,
     "end_time": "2024-04-08T15:19:09.833391",
     "exception": false,
     "start_time": "2024-04-08T15:19:09.815770",
     "status": "completed"
    },
    "tags": []
   },
   "outputs": [],
   "source": []
  },
  {
   "cell_type": "markdown",
   "id": "92ab9f6b",
   "metadata": {
    "papermill": {
     "duration": 0.078847,
     "end_time": "2024-04-08T15:19:09.930369",
     "exception": false,
     "start_time": "2024-04-08T15:19:09.851522",
     "status": "completed"
    },
    "tags": []
   },
   "source": [
    "Identify the most common lead star in the dataset."
   ]
  },
  {
   "cell_type": "code",
   "execution_count": 7,
   "id": "5669f4b4",
   "metadata": {
    "execution": {
     "iopub.execute_input": "2024-04-08T15:19:09.969131Z",
     "iopub.status.busy": "2024-04-08T15:19:09.968748Z",
     "iopub.status.idle": "2024-04-08T15:19:09.986372Z",
     "shell.execute_reply": "2024-04-08T15:19:09.985133Z"
    },
    "papermill": {
     "duration": 0.039175,
     "end_time": "2024-04-08T15:19:09.988685",
     "exception": false,
     "start_time": "2024-04-08T15:19:09.949510",
     "status": "completed"
    },
    "tags": []
   },
   "outputs": [
    {
     "data": {
      "text/html": [
       "<div>\n",
       "<style scoped>\n",
       "    .dataframe tbody tr th:only-of-type {\n",
       "        vertical-align: middle;\n",
       "    }\n",
       "\n",
       "    .dataframe tbody tr th {\n",
       "        vertical-align: top;\n",
       "    }\n",
       "\n",
       "    .dataframe thead th {\n",
       "        text-align: right;\n",
       "    }\n",
       "</style>\n",
       "<table border=\"1\" class=\"dataframe\">\n",
       "  <thead>\n",
       "    <tr style=\"text-align: right;\">\n",
       "      <th></th>\n",
       "      <th>Lead Star</th>\n",
       "      <th>count</th>\n",
       "    </tr>\n",
       "  </thead>\n",
       "  <tbody>\n",
       "    <tr>\n",
       "      <th>0</th>\n",
       "      <td>Akshay Kumar</td>\n",
       "      <td>48</td>\n",
       "    </tr>\n",
       "    <tr>\n",
       "      <th>1</th>\n",
       "      <td>Ajay Devgn</td>\n",
       "      <td>35</td>\n",
       "    </tr>\n",
       "    <tr>\n",
       "      <th>2</th>\n",
       "      <td>Emraan Hashmi</td>\n",
       "      <td>27</td>\n",
       "    </tr>\n",
       "    <tr>\n",
       "      <th>3</th>\n",
       "      <td>Salman Khan</td>\n",
       "      <td>27</td>\n",
       "    </tr>\n",
       "    <tr>\n",
       "      <th>4</th>\n",
       "      <td>Amitabh Bachchan</td>\n",
       "      <td>21</td>\n",
       "    </tr>\n",
       "  </tbody>\n",
       "</table>\n",
       "</div>"
      ],
      "text/plain": [
       "          Lead Star  count\n",
       "0      Akshay Kumar     48\n",
       "1        Ajay Devgn     35\n",
       "2     Emraan Hashmi     27\n",
       "3       Salman Khan     27\n",
       "4  Amitabh Bachchan     21"
      ]
     },
     "execution_count": 7,
     "metadata": {},
     "output_type": "execute_result"
    }
   ],
   "source": [
    "# Identify the most common lead star in the dataset.\n",
    "df['Lead Star'].value_counts().head().reset_index()"
   ]
  },
  {
   "cell_type": "markdown",
   "id": "8b153987",
   "metadata": {
    "papermill": {
     "duration": 0.018873,
     "end_time": "2024-04-08T15:19:10.026037",
     "exception": false,
     "start_time": "2024-04-08T15:19:10.007164",
     "status": "completed"
    },
    "tags": []
   },
   "source": [
    "What is the median revenue for movies in the 'Action' genre?"
   ]
  },
  {
   "cell_type": "code",
   "execution_count": 8,
   "id": "8ba18c82",
   "metadata": {
    "execution": {
     "iopub.execute_input": "2024-04-08T15:19:10.066218Z",
     "iopub.status.busy": "2024-04-08T15:19:10.065021Z",
     "iopub.status.idle": "2024-04-08T15:19:10.079326Z",
     "shell.execute_reply": "2024-04-08T15:19:10.078167Z"
    },
    "papermill": {
     "duration": 0.036719,
     "end_time": "2024-04-08T15:19:10.081757",
     "exception": false,
     "start_time": "2024-04-08T15:19:10.045038",
     "status": "completed"
    },
    "tags": []
   },
   "outputs": [
    {
     "data": {
      "text/plain": [
       "210000000.0"
      ]
     },
     "execution_count": 8,
     "metadata": {},
     "output_type": "execute_result"
    }
   ],
   "source": [
    "# What is the median revenue for movies in the 'Action' genre?\n",
    "df[df[\"Genre\"] == \"action\"][\"Revenue(INR)\"].median()"
   ]
  },
  {
   "cell_type": "code",
   "execution_count": 9,
   "id": "5dcf368a",
   "metadata": {
    "execution": {
     "iopub.execute_input": "2024-04-08T15:19:10.121272Z",
     "iopub.status.busy": "2024-04-08T15:19:10.120506Z",
     "iopub.status.idle": "2024-04-08T15:19:10.131438Z",
     "shell.execute_reply": "2024-04-08T15:19:10.129831Z"
    },
    "papermill": {
     "duration": 0.033843,
     "end_time": "2024-04-08T15:19:10.134119",
     "exception": false,
     "start_time": "2024-04-08T15:19:10.100276",
     "status": "completed"
    },
    "tags": []
   },
   "outputs": [
    {
     "name": "stdout",
     "output_type": "stream",
     "text": [
      "Total movies in dataset : 1698\n",
      "--------------------------------------------------\n",
      "Total remakes : 71\n",
      "Total non-remakes : 1627\n"
     ]
    }
   ],
   "source": [
    "# How many movies are remakes, and how many are not?\n",
    "print(\"Total movies in dataset :\", len(df))\n",
    "print(\"-\"*50)\n",
    "print(\"Total remakes :\",len(df[df[\"Whether Remake\"] == \"Yes\"]))\n",
    "print(\"Total non-remakes :\",len(df[df[\"Whether Remake\"] == \"No\"]))\n",
    "\n"
   ]
  },
  {
   "cell_type": "code",
   "execution_count": 10,
   "id": "3debe3b8",
   "metadata": {
    "execution": {
     "iopub.execute_input": "2024-04-08T15:19:10.174009Z",
     "iopub.status.busy": "2024-04-08T15:19:10.173333Z",
     "iopub.status.idle": "2024-04-08T15:19:10.187295Z",
     "shell.execute_reply": "2024-04-08T15:19:10.186441Z"
    },
    "papermill": {
     "duration": 0.037486,
     "end_time": "2024-04-08T15:19:10.190844",
     "exception": false,
     "start_time": "2024-04-08T15:19:10.153358",
     "status": "completed"
    },
    "tags": []
   },
   "outputs": [
    {
     "data": {
      "text/plain": [
       "Release Period\n",
       "Holiday    1.982476e+08\n",
       "Normal     1.215181e+08\n",
       "Name: Revenue(INR), dtype: float64"
      ]
     },
     "execution_count": 10,
     "metadata": {},
     "output_type": "execute_result"
    }
   ],
   "source": [
    "# Calculate the average revenue for movies in each release period.\n",
    "df.groupby(\"Release Period\")[\"Revenue(INR)\"].mean()"
   ]
  },
  {
   "cell_type": "code",
   "execution_count": 11,
   "id": "e996ee4d",
   "metadata": {
    "execution": {
     "iopub.execute_input": "2024-04-08T15:19:10.245608Z",
     "iopub.status.busy": "2024-04-08T15:19:10.244661Z",
     "iopub.status.idle": "2024-04-08T15:19:10.266357Z",
     "shell.execute_reply": "2024-04-08T15:19:10.265109Z"
    },
    "papermill": {
     "duration": 0.051057,
     "end_time": "2024-04-08T15:19:10.269019",
     "exception": false,
     "start_time": "2024-04-08T15:19:10.217962",
     "status": "completed"
    },
    "tags": []
   },
   "outputs": [
    {
     "data": {
      "text/html": [
       "<div>\n",
       "<style scoped>\n",
       "    .dataframe tbody tr th:only-of-type {\n",
       "        vertical-align: middle;\n",
       "    }\n",
       "\n",
       "    .dataframe tbody tr th {\n",
       "        vertical-align: top;\n",
       "    }\n",
       "\n",
       "    .dataframe thead th {\n",
       "        text-align: right;\n",
       "    }\n",
       "</style>\n",
       "<table border=\"1\" class=\"dataframe\">\n",
       "  <thead>\n",
       "    <tr style=\"text-align: right;\">\n",
       "      <th></th>\n",
       "      <th>Movie Name</th>\n",
       "      <th>Release Period</th>\n",
       "      <th>Whether Remake</th>\n",
       "      <th>Whether Franchise</th>\n",
       "      <th>Genre</th>\n",
       "      <th>New Actor</th>\n",
       "      <th>New Director</th>\n",
       "      <th>New Music Director</th>\n",
       "      <th>Lead Star</th>\n",
       "      <th>Director</th>\n",
       "      <th>Music Director</th>\n",
       "      <th>Number of Screens</th>\n",
       "      <th>Revenue(INR)</th>\n",
       "      <th>Budget(INR)</th>\n",
       "    </tr>\n",
       "  </thead>\n",
       "  <tbody>\n",
       "    <tr>\n",
       "      <th>1240</th>\n",
       "      <td>Tiger Zinda Hai</td>\n",
       "      <td>Holiday</td>\n",
       "      <td>No</td>\n",
       "      <td>Yes</td>\n",
       "      <td>action</td>\n",
       "      <td>No</td>\n",
       "      <td>No</td>\n",
       "      <td>No</td>\n",
       "      <td>Salman Khan</td>\n",
       "      <td>Ali Abbas Zafar</td>\n",
       "      <td>Vishal - Shekhar</td>\n",
       "      <td>4600</td>\n",
       "      <td>2100000000</td>\n",
       "      <td>5651020000</td>\n",
       "    </tr>\n",
       "  </tbody>\n",
       "</table>\n",
       "</div>"
      ],
      "text/plain": [
       "           Movie Name Release Period Whether Remake Whether Franchise   Genre  \\\n",
       "1240  Tiger Zinda Hai        Holiday             No               Yes  action   \n",
       "\n",
       "     New Actor New Director New Music Director    Lead Star         Director  \\\n",
       "1240        No           No                 No  Salman Khan  Ali Abbas Zafar   \n",
       "\n",
       "        Music Director  Number of Screens  Revenue(INR)  Budget(INR)  \n",
       "1240  Vishal - Shekhar               4600    2100000000   5651020000  "
      ]
     },
     "execution_count": 11,
     "metadata": {},
     "output_type": "execute_result"
    }
   ],
   "source": [
    "\n",
    "# Identify the movie with the highest number of screens.\n",
    "df[df[\"Number of Screens\"] == df[\"Number of Screens\"].max()]"
   ]
  },
  {
   "cell_type": "code",
   "execution_count": 12,
   "id": "2af235a6",
   "metadata": {
    "execution": {
     "iopub.execute_input": "2024-04-08T15:19:10.313398Z",
     "iopub.status.busy": "2024-04-08T15:19:10.312164Z",
     "iopub.status.idle": "2024-04-08T15:19:10.334032Z",
     "shell.execute_reply": "2024-04-08T15:19:10.332746Z"
    },
    "papermill": {
     "duration": 0.050193,
     "end_time": "2024-04-08T15:19:10.338503",
     "exception": false,
     "start_time": "2024-04-08T15:19:10.288310",
     "status": "completed"
    },
    "tags": []
   },
   "outputs": [
    {
     "data": {
      "text/html": [
       "<div>\n",
       "<style scoped>\n",
       "    .dataframe tbody tr th:only-of-type {\n",
       "        vertical-align: middle;\n",
       "    }\n",
       "\n",
       "    .dataframe tbody tr th {\n",
       "        vertical-align: top;\n",
       "    }\n",
       "\n",
       "    .dataframe thead th {\n",
       "        text-align: right;\n",
       "    }\n",
       "</style>\n",
       "<table border=\"1\" class=\"dataframe\">\n",
       "  <thead>\n",
       "    <tr style=\"text-align: right;\">\n",
       "      <th></th>\n",
       "      <th>Director</th>\n",
       "      <th>Revenue(INR)</th>\n",
       "    </tr>\n",
       "  </thead>\n",
       "  <tbody>\n",
       "    <tr>\n",
       "      <th>740</th>\n",
       "      <td>S.S. Rajamouli</td>\n",
       "      <td>1.825000e+09</td>\n",
       "    </tr>\n",
       "    <tr>\n",
       "      <th>759</th>\n",
       "      <td>Sajid Nadiadwala</td>\n",
       "      <td>1.400000e+09</td>\n",
       "    </tr>\n",
       "    <tr>\n",
       "      <th>65</th>\n",
       "      <td>Ali Abbas Zafar</td>\n",
       "      <td>1.095000e+09</td>\n",
       "    </tr>\n",
       "    <tr>\n",
       "      <th>992</th>\n",
       "      <td>Vijay Krishna Acharya</td>\n",
       "      <td>1.030000e+09</td>\n",
       "    </tr>\n",
       "    <tr>\n",
       "      <th>896</th>\n",
       "      <td>Sooraj Barjatya</td>\n",
       "      <td>9.400000e+08</td>\n",
       "    </tr>\n",
       "  </tbody>\n",
       "</table>\n",
       "</div>"
      ],
      "text/plain": [
       "                  Director  Revenue(INR)\n",
       "740         S.S. Rajamouli  1.825000e+09\n",
       "759       Sajid Nadiadwala  1.400000e+09\n",
       "65         Ali Abbas Zafar  1.095000e+09\n",
       "992  Vijay Krishna Acharya  1.030000e+09\n",
       "896        Sooraj Barjatya  9.400000e+08"
      ]
     },
     "execution_count": 12,
     "metadata": {},
     "output_type": "execute_result"
    }
   ],
   "source": [
    "# Find the top 5 directors with the highest average revenue.\n",
    "\n",
    "df.groupby(\"Director\")[\"Revenue(INR)\"].mean()\n",
    "#df.sort_values(by='Column_Name')\n",
    "\n",
    "director_revenue = df.groupby(\"Director\")[\"Revenue(INR)\"].mean().reset_index()\n",
    "director_revenue_sorted = director_revenue.sort_values(by=\"Revenue(INR)\", ascending=False)\n",
    "director_revenue_sorted.head()\n"
   ]
  },
  {
   "cell_type": "code",
   "execution_count": 13,
   "id": "b7c4903b",
   "metadata": {
    "execution": {
     "iopub.execute_input": "2024-04-08T15:19:10.395854Z",
     "iopub.status.busy": "2024-04-08T15:19:10.394978Z",
     "iopub.status.idle": "2024-04-08T15:19:10.405338Z",
     "shell.execute_reply": "2024-04-08T15:19:10.404071Z"
    },
    "papermill": {
     "duration": 0.042416,
     "end_time": "2024-04-08T15:19:10.407903",
     "exception": false,
     "start_time": "2024-04-08T15:19:10.365487",
     "status": "completed"
    },
    "tags": []
   },
   "outputs": [
    {
     "data": {
      "text/plain": [
       "290000000.0"
      ]
     },
     "execution_count": 13,
     "metadata": {},
     "output_type": "execute_result"
    }
   ],
   "source": [
    "# What is the median revenue for movies that belong to a franchise?\n",
    "df[df[\"Whether Franchise\"] == \"Yes\"][\"Revenue(INR)\"].median()"
   ]
  },
  {
   "cell_type": "code",
   "execution_count": 14,
   "id": "8d1a48bc",
   "metadata": {
    "execution": {
     "iopub.execute_input": "2024-04-08T15:19:10.449754Z",
     "iopub.status.busy": "2024-04-08T15:19:10.448468Z",
     "iopub.status.idle": "2024-04-08T15:19:10.463514Z",
     "shell.execute_reply": "2024-04-08T15:19:10.462158Z"
    },
    "papermill": {
     "duration": 0.038786,
     "end_time": "2024-04-08T15:19:10.466337",
     "exception": false,
     "start_time": "2024-04-08T15:19:10.427551",
     "status": "completed"
    },
    "tags": []
   },
   "outputs": [
    {
     "name": "stdout",
     "output_type": "stream",
     "text": [
      "Total Movies : 1698\n",
      "Total movies in Each period\n",
      "--------------------------------------------------\n"
     ]
    },
    {
     "data": {
      "text/html": [
       "<div>\n",
       "<style scoped>\n",
       "    .dataframe tbody tr th:only-of-type {\n",
       "        vertical-align: middle;\n",
       "    }\n",
       "\n",
       "    .dataframe tbody tr th {\n",
       "        vertical-align: top;\n",
       "    }\n",
       "\n",
       "    .dataframe thead th {\n",
       "        text-align: right;\n",
       "    }\n",
       "</style>\n",
       "<table border=\"1\" class=\"dataframe\">\n",
       "  <thead>\n",
       "    <tr style=\"text-align: right;\">\n",
       "      <th></th>\n",
       "      <th>Release Period</th>\n",
       "      <th>count</th>\n",
       "    </tr>\n",
       "  </thead>\n",
       "  <tbody>\n",
       "    <tr>\n",
       "      <th>0</th>\n",
       "      <td>Normal</td>\n",
       "      <td>1064</td>\n",
       "    </tr>\n",
       "    <tr>\n",
       "      <th>1</th>\n",
       "      <td>Holiday</td>\n",
       "      <td>634</td>\n",
       "    </tr>\n",
       "  </tbody>\n",
       "</table>\n",
       "</div>"
      ],
      "text/plain": [
       "  Release Period  count\n",
       "0         Normal   1064\n",
       "1        Holiday    634"
      ]
     },
     "execution_count": 14,
     "metadata": {},
     "output_type": "execute_result"
    }
   ],
   "source": [
    "# How many movies were released in each period?\n",
    "print(\"Total Movies :\", len(df))\n",
    "print(\"Total movies in Each period\")\n",
    "print(\"-\"*50)\n",
    "df[\"Release Period\"].value_counts().reset_index()"
   ]
  },
  {
   "cell_type": "code",
   "execution_count": 15,
   "id": "afb5d622",
   "metadata": {
    "execution": {
     "iopub.execute_input": "2024-04-08T15:19:10.507893Z",
     "iopub.status.busy": "2024-04-08T15:19:10.507484Z",
     "iopub.status.idle": "2024-04-08T15:19:10.518174Z",
     "shell.execute_reply": "2024-04-08T15:19:10.516593Z"
    },
    "papermill": {
     "duration": 0.034972,
     "end_time": "2024-04-08T15:19:10.521113",
     "exception": false,
     "start_time": "2024-04-08T15:19:10.486141",
     "status": "completed"
    },
    "tags": []
   },
   "outputs": [
    {
     "name": "stdout",
     "output_type": "stream",
     "text": [
      "With new actor: 49675604.395604394\n",
      "Without new actor: 186952393.40305713\n"
     ]
    }
   ],
   "source": [
    "# Calculate the average revenue for movies with a new actor versus those without a new actor.\n",
    "\n",
    "print(\"With new actor:\", df[df[\"New Actor\"] == \"Yes\"][\"Revenue(INR)\"].mean())\n",
    "print(\"Without new actor:\", df[df[\"New Actor\"] == \"No\"][\"Revenue(INR)\"].mean())"
   ]
  },
  {
   "cell_type": "code",
   "execution_count": 16,
   "id": "7ee1adb1",
   "metadata": {
    "execution": {
     "iopub.execute_input": "2024-04-08T15:19:10.571408Z",
     "iopub.status.busy": "2024-04-08T15:19:10.570548Z",
     "iopub.status.idle": "2024-04-08T15:19:10.583630Z",
     "shell.execute_reply": "2024-04-08T15:19:10.582355Z"
    },
    "papermill": {
     "duration": 0.038179,
     "end_time": "2024-04-08T15:19:10.586147",
     "exception": false,
     "start_time": "2024-04-08T15:19:10.547968",
     "status": "completed"
    },
    "tags": []
   },
   "outputs": [
    {
     "data": {
      "text/html": [
       "<div>\n",
       "<style scoped>\n",
       "    .dataframe tbody tr th:only-of-type {\n",
       "        vertical-align: middle;\n",
       "    }\n",
       "\n",
       "    .dataframe tbody tr th {\n",
       "        vertical-align: top;\n",
       "    }\n",
       "\n",
       "    .dataframe thead th {\n",
       "        text-align: right;\n",
       "    }\n",
       "</style>\n",
       "<table border=\"1\" class=\"dataframe\">\n",
       "  <thead>\n",
       "    <tr style=\"text-align: right;\">\n",
       "      <th></th>\n",
       "      <th>Music Director</th>\n",
       "      <th>count</th>\n",
       "    </tr>\n",
       "  </thead>\n",
       "  <tbody>\n",
       "    <tr>\n",
       "      <th>0</th>\n",
       "      <td>Pritam</td>\n",
       "      <td>92</td>\n",
       "    </tr>\n",
       "  </tbody>\n",
       "</table>\n",
       "</div>"
      ],
      "text/plain": [
       "  Music Director  count\n",
       "0         Pritam     92"
      ]
     },
     "execution_count": 16,
     "metadata": {},
     "output_type": "execute_result"
    }
   ],
   "source": [
    "# Determine the most frequent music director in the dataset.\n",
    "df[\"Music Director\"].value_counts().sort_values(ascending=False).head().reset_index()[0:1]"
   ]
  },
  {
   "cell_type": "code",
   "execution_count": 17,
   "id": "9ceca71a",
   "metadata": {
    "execution": {
     "iopub.execute_input": "2024-04-08T15:19:10.629780Z",
     "iopub.status.busy": "2024-04-08T15:19:10.628970Z",
     "iopub.status.idle": "2024-04-08T15:19:10.640739Z",
     "shell.execute_reply": "2024-04-08T15:19:10.639705Z"
    },
    "papermill": {
     "duration": 0.036897,
     "end_time": "2024-04-08T15:19:10.643249",
     "exception": false,
     "start_time": "2024-04-08T15:19:10.606352",
     "status": "completed"
    },
    "tags": []
   },
   "outputs": [
    {
     "data": {
      "text/plain": [
       "75523314.9509804"
      ]
     },
     "execution_count": 17,
     "metadata": {},
     "output_type": "execute_result"
    }
   ],
   "source": [
    "# What is the average revenue for movies with a new director?\n",
    "df[df[\"New Director\"] == \"Yes\"][\"Revenue(INR)\"].mean()"
   ]
  },
  {
   "cell_type": "code",
   "execution_count": 18,
   "id": "57aac0a5",
   "metadata": {
    "execution": {
     "iopub.execute_input": "2024-04-08T15:19:10.686366Z",
     "iopub.status.busy": "2024-04-08T15:19:10.685550Z",
     "iopub.status.idle": "2024-04-08T15:19:10.705497Z",
     "shell.execute_reply": "2024-04-08T15:19:10.704381Z"
    },
    "papermill": {
     "duration": 0.044391,
     "end_time": "2024-04-08T15:19:10.707849",
     "exception": false,
     "start_time": "2024-04-08T15:19:10.663458",
     "status": "completed"
    },
    "tags": []
   },
   "outputs": [
    {
     "data": {
      "text/html": [
       "<div>\n",
       "<style scoped>\n",
       "    .dataframe tbody tr th:only-of-type {\n",
       "        vertical-align: middle;\n",
       "    }\n",
       "\n",
       "    .dataframe tbody tr th {\n",
       "        vertical-align: top;\n",
       "    }\n",
       "\n",
       "    .dataframe thead th {\n",
       "        text-align: right;\n",
       "    }\n",
       "</style>\n",
       "<table border=\"1\" class=\"dataframe\">\n",
       "  <thead>\n",
       "    <tr style=\"text-align: right;\">\n",
       "      <th></th>\n",
       "      <th>Movie Name</th>\n",
       "      <th>Release Period</th>\n",
       "      <th>Whether Remake</th>\n",
       "      <th>Whether Franchise</th>\n",
       "      <th>Genre</th>\n",
       "      <th>New Actor</th>\n",
       "      <th>New Director</th>\n",
       "      <th>New Music Director</th>\n",
       "      <th>Lead Star</th>\n",
       "      <th>Director</th>\n",
       "      <th>Music Director</th>\n",
       "      <th>Number of Screens</th>\n",
       "      <th>Revenue(INR)</th>\n",
       "      <th>Budget(INR)</th>\n",
       "    </tr>\n",
       "  </thead>\n",
       "  <tbody>\n",
       "    <tr>\n",
       "      <th>4</th>\n",
       "      <td>Chaatwali</td>\n",
       "      <td>Holiday</td>\n",
       "      <td>No</td>\n",
       "      <td>No</td>\n",
       "      <td>adult</td>\n",
       "      <td>Yes</td>\n",
       "      <td>Yes</td>\n",
       "      <td>Yes</td>\n",
       "      <td>Aadil Khan</td>\n",
       "      <td>Aadil Khan</td>\n",
       "      <td>Babloo Ustad</td>\n",
       "      <td>1</td>\n",
       "      <td>1000000</td>\n",
       "      <td>1075000</td>\n",
       "    </tr>\n",
       "    <tr>\n",
       "      <th>5</th>\n",
       "      <td>Shuttlecock Boys</td>\n",
       "      <td>Normal</td>\n",
       "      <td>No</td>\n",
       "      <td>No</td>\n",
       "      <td>comedy</td>\n",
       "      <td>Yes</td>\n",
       "      <td>Yes</td>\n",
       "      <td>Yes</td>\n",
       "      <td>Aakar Kaushik</td>\n",
       "      <td>Hemant Gaba</td>\n",
       "      <td>Avinash Baghel</td>\n",
       "      <td>10</td>\n",
       "      <td>5000000</td>\n",
       "      <td>170000</td>\n",
       "    </tr>\n",
       "    <tr>\n",
       "      <th>18</th>\n",
       "      <td>Pyaar Mein Aisa Hota Hai</td>\n",
       "      <td>Holiday</td>\n",
       "      <td>No</td>\n",
       "      <td>No</td>\n",
       "      <td>thriller</td>\n",
       "      <td>Yes</td>\n",
       "      <td>Yes</td>\n",
       "      <td>Yes</td>\n",
       "      <td>Aanamika Bawa</td>\n",
       "      <td>Rajesh Kumar</td>\n",
       "      <td>Shabab Azmi</td>\n",
       "      <td>5</td>\n",
       "      <td>5500000</td>\n",
       "      <td>350000</td>\n",
       "    </tr>\n",
       "    <tr>\n",
       "      <th>19</th>\n",
       "      <td>Gurjar Aandolan - A Fight For Right</td>\n",
       "      <td>Normal</td>\n",
       "      <td>No</td>\n",
       "      <td>No</td>\n",
       "      <td>drama</td>\n",
       "      <td>Yes</td>\n",
       "      <td>Yes</td>\n",
       "      <td>Yes</td>\n",
       "      <td>Aarun Nagar</td>\n",
       "      <td>Aarun Nagar</td>\n",
       "      <td>Ashish Donald</td>\n",
       "      <td>5</td>\n",
       "      <td>6500000</td>\n",
       "      <td>575000</td>\n",
       "    </tr>\n",
       "    <tr>\n",
       "      <th>22</th>\n",
       "      <td>Dreams - Sapnay Sach Honge...</td>\n",
       "      <td>Holiday</td>\n",
       "      <td>No</td>\n",
       "      <td>No</td>\n",
       "      <td>love_story</td>\n",
       "      <td>Yes</td>\n",
       "      <td>Yes</td>\n",
       "      <td>No</td>\n",
       "      <td>Aashish Chanana</td>\n",
       "      <td>Aashish Chanana</td>\n",
       "      <td>Sajid - Wajid</td>\n",
       "      <td>25</td>\n",
       "      <td>12500000</td>\n",
       "      <td>1375000</td>\n",
       "    </tr>\n",
       "  </tbody>\n",
       "</table>\n",
       "</div>"
      ],
      "text/plain": [
       "                             Movie Name Release Period Whether Remake  \\\n",
       "4                             Chaatwali        Holiday             No   \n",
       "5                      Shuttlecock Boys         Normal             No   \n",
       "18             Pyaar Mein Aisa Hota Hai        Holiday             No   \n",
       "19  Gurjar Aandolan - A Fight For Right         Normal             No   \n",
       "22        Dreams - Sapnay Sach Honge...        Holiday             No   \n",
       "\n",
       "   Whether Franchise       Genre New Actor New Director New Music Director  \\\n",
       "4                 No       adult       Yes          Yes                Yes   \n",
       "5                 No      comedy       Yes          Yes                Yes   \n",
       "18                No    thriller       Yes          Yes                Yes   \n",
       "19                No       drama       Yes          Yes                Yes   \n",
       "22                No  love_story       Yes          Yes                 No   \n",
       "\n",
       "          Lead Star         Director  Music Director  Number of Screens  \\\n",
       "4        Aadil Khan       Aadil Khan    Babloo Ustad                  1   \n",
       "5     Aakar Kaushik      Hemant Gaba  Avinash Baghel                 10   \n",
       "18    Aanamika Bawa     Rajesh Kumar     Shabab Azmi                  5   \n",
       "19      Aarun Nagar      Aarun Nagar   Ashish Donald                  5   \n",
       "22  Aashish Chanana  Aashish Chanana   Sajid - Wajid                 25   \n",
       "\n",
       "    Revenue(INR)  Budget(INR)  \n",
       "4        1000000      1075000  \n",
       "5        5000000       170000  \n",
       "18       5500000       350000  \n",
       "19       6500000       575000  \n",
       "22      12500000      1375000  "
      ]
     },
     "execution_count": 18,
     "metadata": {},
     "output_type": "execute_result"
    }
   ],
   "source": [
    "# How many movies have a new music director and a new actor simultaneously?\n",
    "df[(df[\"New Director\"] == \"Yes\") & (df[\"New Actor\"] == \"Yes\")].head()\n"
   ]
  },
  {
   "cell_type": "code",
   "execution_count": 19,
   "id": "c4c9acf2",
   "metadata": {
    "execution": {
     "iopub.execute_input": "2024-04-08T15:19:10.750969Z",
     "iopub.status.busy": "2024-04-08T15:19:10.750294Z",
     "iopub.status.idle": "2024-04-08T15:19:10.764341Z",
     "shell.execute_reply": "2024-04-08T15:19:10.763178Z"
    },
    "papermill": {
     "duration": 0.038754,
     "end_time": "2024-04-08T15:19:10.767027",
     "exception": false,
     "start_time": "2024-04-08T15:19:10.728273",
     "status": "completed"
    },
    "tags": []
   },
   "outputs": [
    {
     "data": {
      "text/html": [
       "<div>\n",
       "<style scoped>\n",
       "    .dataframe tbody tr th:only-of-type {\n",
       "        vertical-align: middle;\n",
       "    }\n",
       "\n",
       "    .dataframe tbody tr th {\n",
       "        vertical-align: top;\n",
       "    }\n",
       "\n",
       "    .dataframe thead th {\n",
       "        text-align: right;\n",
       "    }\n",
       "</style>\n",
       "<table border=\"1\" class=\"dataframe\">\n",
       "  <thead>\n",
       "    <tr style=\"text-align: right;\">\n",
       "      <th></th>\n",
       "      <th>Lead Star</th>\n",
       "      <th>Revenue(INR)</th>\n",
       "    </tr>\n",
       "  </thead>\n",
       "  <tbody>\n",
       "    <tr>\n",
       "      <th>0</th>\n",
       "      <td>Akshay Kumar</td>\n",
       "      <td>24420000000</td>\n",
       "    </tr>\n",
       "    <tr>\n",
       "      <th>1</th>\n",
       "      <td>Salman Khan</td>\n",
       "      <td>18520000000</td>\n",
       "    </tr>\n",
       "    <tr>\n",
       "      <th>2</th>\n",
       "      <td>Ajay Devgn</td>\n",
       "      <td>15155000000</td>\n",
       "    </tr>\n",
       "    <tr>\n",
       "      <th>3</th>\n",
       "      <td>Shahrukh Khan</td>\n",
       "      <td>13660000000</td>\n",
       "    </tr>\n",
       "    <tr>\n",
       "      <th>4</th>\n",
       "      <td>Ranbir Kapoor</td>\n",
       "      <td>10107500000</td>\n",
       "    </tr>\n",
       "  </tbody>\n",
       "</table>\n",
       "</div>"
      ],
      "text/plain": [
       "       Lead Star  Revenue(INR)\n",
       "0   Akshay Kumar   24420000000\n",
       "1    Salman Khan   18520000000\n",
       "2     Ajay Devgn   15155000000\n",
       "3  Shahrukh Khan   13660000000\n",
       "4  Ranbir Kapoor   10107500000"
      ]
     },
     "execution_count": 19,
     "metadata": {},
     "output_type": "execute_result"
    }
   ],
   "source": [
    "# Calculate the total revenue for each lead star.\n",
    "df.groupby(\"Lead Star\")[\"Revenue(INR)\"].sum().sort_values(ascending = False).reset_index().head()"
   ]
  },
  {
   "cell_type": "code",
   "execution_count": 20,
   "id": "07f1d5a1",
   "metadata": {
    "execution": {
     "iopub.execute_input": "2024-04-08T15:19:10.810349Z",
     "iopub.status.busy": "2024-04-08T15:19:10.809734Z",
     "iopub.status.idle": "2024-04-08T15:19:10.831081Z",
     "shell.execute_reply": "2024-04-08T15:19:10.829952Z"
    },
    "papermill": {
     "duration": 0.04663,
     "end_time": "2024-04-08T15:19:10.834232",
     "exception": false,
     "start_time": "2024-04-08T15:19:10.787602",
     "status": "completed"
    },
    "tags": []
   },
   "outputs": [
    {
     "data": {
      "text/html": [
       "<div>\n",
       "<style scoped>\n",
       "    .dataframe tbody tr th:only-of-type {\n",
       "        vertical-align: middle;\n",
       "    }\n",
       "\n",
       "    .dataframe tbody tr th {\n",
       "        vertical-align: top;\n",
       "    }\n",
       "\n",
       "    .dataframe thead th {\n",
       "        text-align: right;\n",
       "    }\n",
       "</style>\n",
       "<table border=\"1\" class=\"dataframe\">\n",
       "  <thead>\n",
       "    <tr style=\"text-align: right;\">\n",
       "      <th></th>\n",
       "      <th>Movie Name</th>\n",
       "      <th>Release Period</th>\n",
       "      <th>Whether Remake</th>\n",
       "      <th>Whether Franchise</th>\n",
       "      <th>Genre</th>\n",
       "      <th>New Actor</th>\n",
       "      <th>New Director</th>\n",
       "      <th>New Music Director</th>\n",
       "      <th>Lead Star</th>\n",
       "      <th>Director</th>\n",
       "      <th>Music Director</th>\n",
       "      <th>Number of Screens</th>\n",
       "      <th>Revenue(INR)</th>\n",
       "      <th>Budget(INR)</th>\n",
       "      <th>Profit</th>\n",
       "    </tr>\n",
       "  </thead>\n",
       "  <tbody>\n",
       "    <tr>\n",
       "      <th>1240</th>\n",
       "      <td>Tiger Zinda Hai</td>\n",
       "      <td>Holiday</td>\n",
       "      <td>No</td>\n",
       "      <td>Yes</td>\n",
       "      <td>action</td>\n",
       "      <td>No</td>\n",
       "      <td>No</td>\n",
       "      <td>No</td>\n",
       "      <td>Salman Khan</td>\n",
       "      <td>Ali Abbas Zafar</td>\n",
       "      <td>Vishal - Shekhar</td>\n",
       "      <td>4600</td>\n",
       "      <td>2100000000</td>\n",
       "      <td>5651020000</td>\n",
       "      <td>-3551020000</td>\n",
       "    </tr>\n",
       "    <tr>\n",
       "      <th>947</th>\n",
       "      <td>Bahubali 2 - The Conclusion</td>\n",
       "      <td>Holiday</td>\n",
       "      <td>No</td>\n",
       "      <td>Yes</td>\n",
       "      <td>masala</td>\n",
       "      <td>No</td>\n",
       "      <td>No</td>\n",
       "      <td>No</td>\n",
       "      <td>Prabhas</td>\n",
       "      <td>S.S. Rajamouli</td>\n",
       "      <td>M.M. Kreem</td>\n",
       "      <td>3950</td>\n",
       "      <td>1950000000</td>\n",
       "      <td>8016120000</td>\n",
       "      <td>-6066120000</td>\n",
       "    </tr>\n",
       "    <tr>\n",
       "      <th>17</th>\n",
       "      <td>Dhoom 3</td>\n",
       "      <td>Normal</td>\n",
       "      <td>No</td>\n",
       "      <td>Yes</td>\n",
       "      <td>action</td>\n",
       "      <td>No</td>\n",
       "      <td>No</td>\n",
       "      <td>No</td>\n",
       "      <td>Aamir Khan</td>\n",
       "      <td>Vijay Krishna Acharya</td>\n",
       "      <td>Pritam</td>\n",
       "      <td>3650</td>\n",
       "      <td>1750000000</td>\n",
       "      <td>5243760000</td>\n",
       "      <td>-3493760000</td>\n",
       "    </tr>\n",
       "    <tr>\n",
       "      <th>121</th>\n",
       "      <td>Golmaal Again</td>\n",
       "      <td>Holiday</td>\n",
       "      <td>No</td>\n",
       "      <td>Yes</td>\n",
       "      <td>comedy</td>\n",
       "      <td>No</td>\n",
       "      <td>No</td>\n",
       "      <td>Yes</td>\n",
       "      <td>Ajay Devgn</td>\n",
       "      <td>Rohit Shetty</td>\n",
       "      <td>DJ Chetas</td>\n",
       "      <td>3300</td>\n",
       "      <td>1420000000</td>\n",
       "      <td>3110450000</td>\n",
       "      <td>-1690450000</td>\n",
       "    </tr>\n",
       "    <tr>\n",
       "      <th>646</th>\n",
       "      <td>Welcome Back</td>\n",
       "      <td>Holiday</td>\n",
       "      <td>No</td>\n",
       "      <td>Yes</td>\n",
       "      <td>comedy</td>\n",
       "      <td>No</td>\n",
       "      <td>No</td>\n",
       "      <td>No</td>\n",
       "      <td>John Abraham</td>\n",
       "      <td>Anees Bazmee</td>\n",
       "      <td>Meet Bros</td>\n",
       "      <td>3200</td>\n",
       "      <td>1080000000</td>\n",
       "      <td>1687670000</td>\n",
       "      <td>-607670000</td>\n",
       "    </tr>\n",
       "  </tbody>\n",
       "</table>\n",
       "</div>"
      ],
      "text/plain": [
       "                       Movie Name Release Period Whether Remake  \\\n",
       "1240              Tiger Zinda Hai        Holiday             No   \n",
       "947   Bahubali 2 - The Conclusion        Holiday             No   \n",
       "17                        Dhoom 3         Normal             No   \n",
       "121                 Golmaal Again        Holiday             No   \n",
       "646                  Welcome Back        Holiday             No   \n",
       "\n",
       "     Whether Franchise   Genre New Actor New Director New Music Director  \\\n",
       "1240               Yes  action        No           No                 No   \n",
       "947                Yes  masala        No           No                 No   \n",
       "17                 Yes  action        No           No                 No   \n",
       "121                Yes  comedy        No           No                Yes   \n",
       "646                Yes  comedy        No           No                 No   \n",
       "\n",
       "         Lead Star               Director    Music Director  \\\n",
       "1240   Salman Khan        Ali Abbas Zafar  Vishal - Shekhar   \n",
       "947        Prabhas         S.S. Rajamouli        M.M. Kreem   \n",
       "17      Aamir Khan  Vijay Krishna Acharya            Pritam   \n",
       "121     Ajay Devgn           Rohit Shetty         DJ Chetas   \n",
       "646   John Abraham           Anees Bazmee         Meet Bros   \n",
       "\n",
       "      Number of Screens  Revenue(INR)  Budget(INR)      Profit  \n",
       "1240               4600    2100000000   5651020000 -3551020000  \n",
       "947                3950    1950000000   8016120000 -6066120000  \n",
       "17                 3650    1750000000   5243760000 -3493760000  \n",
       "121                3300    1420000000   3110450000 -1690450000  \n",
       "646                3200    1080000000   1687670000  -607670000  "
      ]
     },
     "execution_count": 20,
     "metadata": {},
     "output_type": "execute_result"
    }
   ],
   "source": [
    "# Determine the most profitable franchise in terms of revenue.\n",
    "df[\"Profit\"] = df[\"Revenue(INR)\"] - df[\"Budget(INR)\"]\n",
    "df[df[\"Whether Franchise\"] == \"Yes\"].sort_values(by=\"Revenue(INR)\", ascending=False).head()\n",
    "\n",
    "#sort_values(by=\"Revenue(INR)\", ascending=False)"
   ]
  },
  {
   "cell_type": "code",
   "execution_count": 21,
   "id": "2a50ffaa",
   "metadata": {
    "execution": {
     "iopub.execute_input": "2024-04-08T15:19:10.878606Z",
     "iopub.status.busy": "2024-04-08T15:19:10.877977Z",
     "iopub.status.idle": "2024-04-08T15:19:10.901953Z",
     "shell.execute_reply": "2024-04-08T15:19:10.900677Z"
    },
    "papermill": {
     "duration": 0.049265,
     "end_time": "2024-04-08T15:19:10.904587",
     "exception": false,
     "start_time": "2024-04-08T15:19:10.855322",
     "status": "completed"
    },
    "tags": []
   },
   "outputs": [
    {
     "data": {
      "text/html": [
       "<div>\n",
       "<style scoped>\n",
       "    .dataframe tbody tr th:only-of-type {\n",
       "        vertical-align: middle;\n",
       "    }\n",
       "\n",
       "    .dataframe tbody tr th {\n",
       "        vertical-align: top;\n",
       "    }\n",
       "\n",
       "    .dataframe thead th {\n",
       "        text-align: right;\n",
       "    }\n",
       "</style>\n",
       "<table border=\"1\" class=\"dataframe\">\n",
       "  <thead>\n",
       "    <tr style=\"text-align: right;\">\n",
       "      <th></th>\n",
       "      <th>Genre</th>\n",
       "      <th>Release Period</th>\n",
       "      <th>Revenue(INR)</th>\n",
       "    </tr>\n",
       "  </thead>\n",
       "  <tbody>\n",
       "    <tr>\n",
       "      <th>0</th>\n",
       "      <td>action</td>\n",
       "      <td>Holiday</td>\n",
       "      <td>4.698770e+08</td>\n",
       "    </tr>\n",
       "    <tr>\n",
       "      <th>1</th>\n",
       "      <td>action</td>\n",
       "      <td>Normal</td>\n",
       "      <td>2.239766e+08</td>\n",
       "    </tr>\n",
       "    <tr>\n",
       "      <th>2</th>\n",
       "      <td>adult</td>\n",
       "      <td>Holiday</td>\n",
       "      <td>3.854167e+06</td>\n",
       "    </tr>\n",
       "    <tr>\n",
       "      <th>3</th>\n",
       "      <td>adult</td>\n",
       "      <td>Normal</td>\n",
       "      <td>4.046429e+06</td>\n",
       "    </tr>\n",
       "    <tr>\n",
       "      <th>4</th>\n",
       "      <td>animation</td>\n",
       "      <td>Holiday</td>\n",
       "      <td>1.300000e+08</td>\n",
       "    </tr>\n",
       "    <tr>\n",
       "      <th>5</th>\n",
       "      <td>animation</td>\n",
       "      <td>Normal</td>\n",
       "      <td>3.250000e+07</td>\n",
       "    </tr>\n",
       "    <tr>\n",
       "      <th>6</th>\n",
       "      <td>comedy</td>\n",
       "      <td>Holiday</td>\n",
       "      <td>2.000842e+08</td>\n",
       "    </tr>\n",
       "    <tr>\n",
       "      <th>7</th>\n",
       "      <td>comedy</td>\n",
       "      <td>Normal</td>\n",
       "      <td>1.289021e+08</td>\n",
       "    </tr>\n",
       "    <tr>\n",
       "      <th>8</th>\n",
       "      <td>documentary</td>\n",
       "      <td>Normal</td>\n",
       "      <td>3.900000e+08</td>\n",
       "    </tr>\n",
       "    <tr>\n",
       "      <th>9</th>\n",
       "      <td>drama</td>\n",
       "      <td>Holiday</td>\n",
       "      <td>1.318810e+08</td>\n",
       "    </tr>\n",
       "    <tr>\n",
       "      <th>10</th>\n",
       "      <td>drama</td>\n",
       "      <td>Normal</td>\n",
       "      <td>9.807004e+07</td>\n",
       "    </tr>\n",
       "    <tr>\n",
       "      <th>11</th>\n",
       "      <td>fantasy</td>\n",
       "      <td>Holiday</td>\n",
       "      <td>2.925000e+08</td>\n",
       "    </tr>\n",
       "    <tr>\n",
       "      <th>12</th>\n",
       "      <td>fantasy</td>\n",
       "      <td>Normal</td>\n",
       "      <td>1.583333e+08</td>\n",
       "    </tr>\n",
       "    <tr>\n",
       "      <th>13</th>\n",
       "      <td>horror</td>\n",
       "      <td>Holiday</td>\n",
       "      <td>7.481579e+07</td>\n",
       "    </tr>\n",
       "    <tr>\n",
       "      <th>14</th>\n",
       "      <td>horror</td>\n",
       "      <td>Normal</td>\n",
       "      <td>6.902941e+07</td>\n",
       "    </tr>\n",
       "    <tr>\n",
       "      <th>15</th>\n",
       "      <td>love_story</td>\n",
       "      <td>Holiday</td>\n",
       "      <td>1.842708e+08</td>\n",
       "    </tr>\n",
       "    <tr>\n",
       "      <th>16</th>\n",
       "      <td>love_story</td>\n",
       "      <td>Normal</td>\n",
       "      <td>1.375824e+08</td>\n",
       "    </tr>\n",
       "    <tr>\n",
       "      <th>17</th>\n",
       "      <td>masala</td>\n",
       "      <td>Holiday</td>\n",
       "      <td>9.708333e+08</td>\n",
       "    </tr>\n",
       "    <tr>\n",
       "      <th>18</th>\n",
       "      <td>masala</td>\n",
       "      <td>Normal</td>\n",
       "      <td>1.097500e+09</td>\n",
       "    </tr>\n",
       "    <tr>\n",
       "      <th>19</th>\n",
       "      <td>mythological</td>\n",
       "      <td>Holiday</td>\n",
       "      <td>2.150000e+07</td>\n",
       "    </tr>\n",
       "    <tr>\n",
       "      <th>20</th>\n",
       "      <td>mythological</td>\n",
       "      <td>Normal</td>\n",
       "      <td>4.300000e+06</td>\n",
       "    </tr>\n",
       "    <tr>\n",
       "      <th>21</th>\n",
       "      <td>rom__com</td>\n",
       "      <td>Holiday</td>\n",
       "      <td>2.473387e+08</td>\n",
       "    </tr>\n",
       "    <tr>\n",
       "      <th>22</th>\n",
       "      <td>rom__com</td>\n",
       "      <td>Normal</td>\n",
       "      <td>1.760656e+08</td>\n",
       "    </tr>\n",
       "    <tr>\n",
       "      <th>23</th>\n",
       "      <td>suspense</td>\n",
       "      <td>Holiday</td>\n",
       "      <td>4.850000e+07</td>\n",
       "    </tr>\n",
       "    <tr>\n",
       "      <th>24</th>\n",
       "      <td>suspense</td>\n",
       "      <td>Normal</td>\n",
       "      <td>3.520455e+07</td>\n",
       "    </tr>\n",
       "    <tr>\n",
       "      <th>25</th>\n",
       "      <td>thriller</td>\n",
       "      <td>Holiday</td>\n",
       "      <td>1.850309e+08</td>\n",
       "    </tr>\n",
       "    <tr>\n",
       "      <th>26</th>\n",
       "      <td>thriller</td>\n",
       "      <td>Normal</td>\n",
       "      <td>1.377939e+08</td>\n",
       "    </tr>\n",
       "  </tbody>\n",
       "</table>\n",
       "</div>"
      ],
      "text/plain": [
       "           Genre Release Period  Revenue(INR)\n",
       "0         action        Holiday  4.698770e+08\n",
       "1         action         Normal  2.239766e+08\n",
       "2          adult        Holiday  3.854167e+06\n",
       "3          adult         Normal  4.046429e+06\n",
       "4      animation        Holiday  1.300000e+08\n",
       "5      animation         Normal  3.250000e+07\n",
       "6         comedy        Holiday  2.000842e+08\n",
       "7         comedy         Normal  1.289021e+08\n",
       "8    documentary         Normal  3.900000e+08\n",
       "9          drama        Holiday  1.318810e+08\n",
       "10         drama         Normal  9.807004e+07\n",
       "11       fantasy        Holiday  2.925000e+08\n",
       "12       fantasy         Normal  1.583333e+08\n",
       "13        horror        Holiday  7.481579e+07\n",
       "14        horror         Normal  6.902941e+07\n",
       "15    love_story        Holiday  1.842708e+08\n",
       "16    love_story         Normal  1.375824e+08\n",
       "17        masala        Holiday  9.708333e+08\n",
       "18        masala         Normal  1.097500e+09\n",
       "19  mythological        Holiday  2.150000e+07\n",
       "20  mythological         Normal  4.300000e+06\n",
       "21      rom__com        Holiday  2.473387e+08\n",
       "22      rom__com         Normal  1.760656e+08\n",
       "23      suspense        Holiday  4.850000e+07\n",
       "24      suspense         Normal  3.520455e+07\n",
       "25      thriller        Holiday  1.850309e+08\n",
       "26      thriller         Normal  1.377939e+08"
      ]
     },
     "execution_count": 21,
     "metadata": {},
     "output_type": "execute_result"
    }
   ],
   "source": [
    "# What is the average revenue for movies in each genre and release period combination?\n",
    "df.groupby([\"Genre\", \"Release Period\"])[\"Revenue(INR)\"].mean().reset_index()\n"
   ]
  },
  {
   "cell_type": "code",
   "execution_count": 22,
   "id": "40d48381",
   "metadata": {
    "execution": {
     "iopub.execute_input": "2024-04-08T15:19:10.966361Z",
     "iopub.status.busy": "2024-04-08T15:19:10.965346Z",
     "iopub.status.idle": "2024-04-08T15:19:10.996463Z",
     "shell.execute_reply": "2024-04-08T15:19:10.995399Z"
    },
    "papermill": {
     "duration": 0.066639,
     "end_time": "2024-04-08T15:19:10.999124",
     "exception": false,
     "start_time": "2024-04-08T15:19:10.932485",
     "status": "completed"
    },
    "tags": []
   },
   "outputs": [
    {
     "data": {
      "text/html": [
       "<div>\n",
       "<style scoped>\n",
       "    .dataframe tbody tr th:only-of-type {\n",
       "        vertical-align: middle;\n",
       "    }\n",
       "\n",
       "    .dataframe tbody tr th {\n",
       "        vertical-align: top;\n",
       "    }\n",
       "\n",
       "    .dataframe thead th {\n",
       "        text-align: right;\n",
       "    }\n",
       "</style>\n",
       "<table border=\"1\" class=\"dataframe\">\n",
       "  <thead>\n",
       "    <tr style=\"text-align: right;\">\n",
       "      <th></th>\n",
       "      <th>Genre</th>\n",
       "      <th>Release Period</th>\n",
       "      <th>Mean Revenue</th>\n",
       "    </tr>\n",
       "  </thead>\n",
       "  <tbody>\n",
       "    <tr>\n",
       "      <th>0</th>\n",
       "      <td>action</td>\n",
       "      <td>Holiday</td>\n",
       "      <td>4.698770e+08</td>\n",
       "    </tr>\n",
       "    <tr>\n",
       "      <th>1</th>\n",
       "      <td>action</td>\n",
       "      <td>Normal</td>\n",
       "      <td>2.239766e+08</td>\n",
       "    </tr>\n",
       "    <tr>\n",
       "      <th>2</th>\n",
       "      <td>adult</td>\n",
       "      <td>Holiday</td>\n",
       "      <td>3.854167e+06</td>\n",
       "    </tr>\n",
       "    <tr>\n",
       "      <th>3</th>\n",
       "      <td>adult</td>\n",
       "      <td>Normal</td>\n",
       "      <td>4.046429e+06</td>\n",
       "    </tr>\n",
       "    <tr>\n",
       "      <th>4</th>\n",
       "      <td>animation</td>\n",
       "      <td>Holiday</td>\n",
       "      <td>1.300000e+08</td>\n",
       "    </tr>\n",
       "    <tr>\n",
       "      <th>5</th>\n",
       "      <td>animation</td>\n",
       "      <td>Normal</td>\n",
       "      <td>3.250000e+07</td>\n",
       "    </tr>\n",
       "    <tr>\n",
       "      <th>6</th>\n",
       "      <td>comedy</td>\n",
       "      <td>Holiday</td>\n",
       "      <td>2.000842e+08</td>\n",
       "    </tr>\n",
       "    <tr>\n",
       "      <th>7</th>\n",
       "      <td>comedy</td>\n",
       "      <td>Normal</td>\n",
       "      <td>1.289021e+08</td>\n",
       "    </tr>\n",
       "    <tr>\n",
       "      <th>8</th>\n",
       "      <td>documentary</td>\n",
       "      <td>Normal</td>\n",
       "      <td>3.900000e+08</td>\n",
       "    </tr>\n",
       "    <tr>\n",
       "      <th>9</th>\n",
       "      <td>drama</td>\n",
       "      <td>Holiday</td>\n",
       "      <td>1.318810e+08</td>\n",
       "    </tr>\n",
       "    <tr>\n",
       "      <th>10</th>\n",
       "      <td>drama</td>\n",
       "      <td>Normal</td>\n",
       "      <td>9.807004e+07</td>\n",
       "    </tr>\n",
       "    <tr>\n",
       "      <th>11</th>\n",
       "      <td>fantasy</td>\n",
       "      <td>Holiday</td>\n",
       "      <td>2.925000e+08</td>\n",
       "    </tr>\n",
       "    <tr>\n",
       "      <th>12</th>\n",
       "      <td>fantasy</td>\n",
       "      <td>Normal</td>\n",
       "      <td>1.583333e+08</td>\n",
       "    </tr>\n",
       "    <tr>\n",
       "      <th>13</th>\n",
       "      <td>horror</td>\n",
       "      <td>Holiday</td>\n",
       "      <td>7.481579e+07</td>\n",
       "    </tr>\n",
       "    <tr>\n",
       "      <th>14</th>\n",
       "      <td>horror</td>\n",
       "      <td>Normal</td>\n",
       "      <td>6.902941e+07</td>\n",
       "    </tr>\n",
       "    <tr>\n",
       "      <th>15</th>\n",
       "      <td>love_story</td>\n",
       "      <td>Holiday</td>\n",
       "      <td>1.842708e+08</td>\n",
       "    </tr>\n",
       "    <tr>\n",
       "      <th>16</th>\n",
       "      <td>love_story</td>\n",
       "      <td>Normal</td>\n",
       "      <td>1.375824e+08</td>\n",
       "    </tr>\n",
       "    <tr>\n",
       "      <th>17</th>\n",
       "      <td>masala</td>\n",
       "      <td>Holiday</td>\n",
       "      <td>9.708333e+08</td>\n",
       "    </tr>\n",
       "    <tr>\n",
       "      <th>18</th>\n",
       "      <td>masala</td>\n",
       "      <td>Normal</td>\n",
       "      <td>1.097500e+09</td>\n",
       "    </tr>\n",
       "    <tr>\n",
       "      <th>19</th>\n",
       "      <td>mythological</td>\n",
       "      <td>Holiday</td>\n",
       "      <td>2.150000e+07</td>\n",
       "    </tr>\n",
       "    <tr>\n",
       "      <th>20</th>\n",
       "      <td>mythological</td>\n",
       "      <td>Normal</td>\n",
       "      <td>4.300000e+06</td>\n",
       "    </tr>\n",
       "    <tr>\n",
       "      <th>21</th>\n",
       "      <td>rom__com</td>\n",
       "      <td>Holiday</td>\n",
       "      <td>2.473387e+08</td>\n",
       "    </tr>\n",
       "    <tr>\n",
       "      <th>22</th>\n",
       "      <td>rom__com</td>\n",
       "      <td>Normal</td>\n",
       "      <td>1.760656e+08</td>\n",
       "    </tr>\n",
       "    <tr>\n",
       "      <th>23</th>\n",
       "      <td>suspense</td>\n",
       "      <td>Holiday</td>\n",
       "      <td>4.850000e+07</td>\n",
       "    </tr>\n",
       "    <tr>\n",
       "      <th>24</th>\n",
       "      <td>suspense</td>\n",
       "      <td>Normal</td>\n",
       "      <td>3.520455e+07</td>\n",
       "    </tr>\n",
       "    <tr>\n",
       "      <th>25</th>\n",
       "      <td>thriller</td>\n",
       "      <td>Holiday</td>\n",
       "      <td>1.850309e+08</td>\n",
       "    </tr>\n",
       "    <tr>\n",
       "      <th>26</th>\n",
       "      <td>thriller</td>\n",
       "      <td>Normal</td>\n",
       "      <td>1.377939e+08</td>\n",
       "    </tr>\n",
       "  </tbody>\n",
       "</table>\n",
       "</div>"
      ],
      "text/plain": [
       "           Genre Release Period  Mean Revenue\n",
       "0         action        Holiday  4.698770e+08\n",
       "1         action         Normal  2.239766e+08\n",
       "2          adult        Holiday  3.854167e+06\n",
       "3          adult         Normal  4.046429e+06\n",
       "4      animation        Holiday  1.300000e+08\n",
       "5      animation         Normal  3.250000e+07\n",
       "6         comedy        Holiday  2.000842e+08\n",
       "7         comedy         Normal  1.289021e+08\n",
       "8    documentary         Normal  3.900000e+08\n",
       "9          drama        Holiday  1.318810e+08\n",
       "10         drama         Normal  9.807004e+07\n",
       "11       fantasy        Holiday  2.925000e+08\n",
       "12       fantasy         Normal  1.583333e+08\n",
       "13        horror        Holiday  7.481579e+07\n",
       "14        horror         Normal  6.902941e+07\n",
       "15    love_story        Holiday  1.842708e+08\n",
       "16    love_story         Normal  1.375824e+08\n",
       "17        masala        Holiday  9.708333e+08\n",
       "18        masala         Normal  1.097500e+09\n",
       "19  mythological        Holiday  2.150000e+07\n",
       "20  mythological         Normal  4.300000e+06\n",
       "21      rom__com        Holiday  2.473387e+08\n",
       "22      rom__com         Normal  1.760656e+08\n",
       "23      suspense        Holiday  4.850000e+07\n",
       "24      suspense         Normal  3.520455e+07\n",
       "25      thriller        Holiday  1.850309e+08\n",
       "26      thriller         Normal  1.377939e+08"
      ]
     },
     "execution_count": 22,
     "metadata": {},
     "output_type": "execute_result"
    }
   ],
   "source": [
    "result = df.groupby([\"Genre\", \"Release Period\"]).agg({'Revenue(INR)': 'mean'}).reset_index()\n",
    "result.columns = ['Genre', 'Release Period', 'Mean Revenue']\n",
    "result"
   ]
  },
  {
   "cell_type": "code",
   "execution_count": 23,
   "id": "59f22a1f",
   "metadata": {
    "execution": {
     "iopub.execute_input": "2024-04-08T15:19:11.046913Z",
     "iopub.status.busy": "2024-04-08T15:19:11.046224Z",
     "iopub.status.idle": "2024-04-08T15:19:11.059548Z",
     "shell.execute_reply": "2024-04-08T15:19:11.058388Z"
    },
    "papermill": {
     "duration": 0.040531,
     "end_time": "2024-04-08T15:19:11.062082",
     "exception": false,
     "start_time": "2024-04-08T15:19:11.021551",
     "status": "completed"
    },
    "tags": []
   },
   "outputs": [
    {
     "data": {
      "text/html": [
       "<div>\n",
       "<style scoped>\n",
       "    .dataframe tbody tr th:only-of-type {\n",
       "        vertical-align: middle;\n",
       "    }\n",
       "\n",
       "    .dataframe tbody tr th {\n",
       "        vertical-align: top;\n",
       "    }\n",
       "\n",
       "    .dataframe thead th {\n",
       "        text-align: right;\n",
       "    }\n",
       "</style>\n",
       "<table border=\"1\" class=\"dataframe\">\n",
       "  <thead>\n",
       "    <tr style=\"text-align: right;\">\n",
       "      <th></th>\n",
       "      <th>Director</th>\n",
       "      <th>count</th>\n",
       "    </tr>\n",
       "  </thead>\n",
       "  <tbody>\n",
       "    <tr>\n",
       "      <th>0</th>\n",
       "      <td>Ram Gopal Verma</td>\n",
       "      <td>18</td>\n",
       "    </tr>\n",
       "    <tr>\n",
       "      <th>1</th>\n",
       "      <td>Priyadarshan</td>\n",
       "      <td>16</td>\n",
       "    </tr>\n",
       "    <tr>\n",
       "      <th>2</th>\n",
       "      <td>Vikram Bhatt</td>\n",
       "      <td>16</td>\n",
       "    </tr>\n",
       "    <tr>\n",
       "      <th>3</th>\n",
       "      <td>Suresh Jain</td>\n",
       "      <td>15</td>\n",
       "    </tr>\n",
       "    <tr>\n",
       "      <th>4</th>\n",
       "      <td>Rohit Shetty</td>\n",
       "      <td>11</td>\n",
       "    </tr>\n",
       "    <tr>\n",
       "      <th>5</th>\n",
       "      <td>Mohit Suri</td>\n",
       "      <td>11</td>\n",
       "    </tr>\n",
       "    <tr>\n",
       "      <th>6</th>\n",
       "      <td>Anurag Kashyap</td>\n",
       "      <td>10</td>\n",
       "    </tr>\n",
       "    <tr>\n",
       "      <th>7</th>\n",
       "      <td>Madhur Bhandarkar</td>\n",
       "      <td>9</td>\n",
       "    </tr>\n",
       "    <tr>\n",
       "      <th>8</th>\n",
       "      <td>Anees Bazmee</td>\n",
       "      <td>9</td>\n",
       "    </tr>\n",
       "    <tr>\n",
       "      <th>9</th>\n",
       "      <td>David Dhawan</td>\n",
       "      <td>8</td>\n",
       "    </tr>\n",
       "  </tbody>\n",
       "</table>\n",
       "</div>"
      ],
      "text/plain": [
       "            Director  count\n",
       "0    Ram Gopal Verma     18\n",
       "1       Priyadarshan     16\n",
       "2       Vikram Bhatt     16\n",
       "3        Suresh Jain     15\n",
       "4       Rohit Shetty     11\n",
       "5         Mohit Suri     11\n",
       "6     Anurag Kashyap     10\n",
       "7  Madhur Bhandarkar      9\n",
       "8       Anees Bazmee      9\n",
       "9       David Dhawan      8"
      ]
     },
     "execution_count": 23,
     "metadata": {},
     "output_type": "execute_result"
    }
   ],
   "source": [
    "# Find the director who has worked on the most movies.\n",
    "\n",
    "df[\"Director\"].value_counts().sort_values(ascending = False).head(10).reset_index()"
   ]
  },
  {
   "cell_type": "code",
   "execution_count": 24,
   "id": "99cc9247",
   "metadata": {
    "execution": {
     "iopub.execute_input": "2024-04-08T15:19:11.109492Z",
     "iopub.status.busy": "2024-04-08T15:19:11.108861Z",
     "iopub.status.idle": "2024-04-08T15:19:11.119596Z",
     "shell.execute_reply": "2024-04-08T15:19:11.118469Z"
    },
    "papermill": {
     "duration": 0.036899,
     "end_time": "2024-04-08T15:19:11.121969",
     "exception": false,
     "start_time": "2024-04-08T15:19:11.085070",
     "status": "completed"
    },
    "tags": []
   },
   "outputs": [
    {
     "data": {
      "text/plain": [
       "Release Period\n",
       "Holiday     7822750000\n",
       "Normal     14779650000\n",
       "Name: Revenue(INR), dtype: int64"
      ]
     },
     "execution_count": 24,
     "metadata": {},
     "output_type": "execute_result"
    }
   ],
   "source": [
    "# Calculate the total revenue for movies in each release period with a new actor.\n",
    "df[df[\"New Actor\"] == \"Yes\"].groupby(\"Release Period\")[\"Revenue(INR)\"].sum()"
   ]
  },
  {
   "cell_type": "code",
   "execution_count": 25,
   "id": "22e51dd7",
   "metadata": {
    "execution": {
     "iopub.execute_input": "2024-04-08T15:19:11.169697Z",
     "iopub.status.busy": "2024-04-08T15:19:11.169287Z",
     "iopub.status.idle": "2024-04-08T15:19:11.190398Z",
     "shell.execute_reply": "2024-04-08T15:19:11.189044Z"
    },
    "papermill": {
     "duration": 0.04825,
     "end_time": "2024-04-08T15:19:11.193100",
     "exception": false,
     "start_time": "2024-04-08T15:19:11.144850",
     "status": "completed"
    },
    "tags": []
   },
   "outputs": [
    {
     "data": {
      "text/html": [
       "<div>\n",
       "<style scoped>\n",
       "    .dataframe tbody tr th:only-of-type {\n",
       "        vertical-align: middle;\n",
       "    }\n",
       "\n",
       "    .dataframe tbody tr th {\n",
       "        vertical-align: top;\n",
       "    }\n",
       "\n",
       "    .dataframe thead th {\n",
       "        text-align: right;\n",
       "    }\n",
       "</style>\n",
       "<table border=\"1\" class=\"dataframe\">\n",
       "  <thead>\n",
       "    <tr style=\"text-align: right;\">\n",
       "      <th></th>\n",
       "      <th>Movie Name</th>\n",
       "      <th>Director</th>\n",
       "    </tr>\n",
       "  </thead>\n",
       "  <tbody>\n",
       "    <tr>\n",
       "      <th>4</th>\n",
       "      <td>Chaatwali</td>\n",
       "      <td>Aadil Khan</td>\n",
       "    </tr>\n",
       "    <tr>\n",
       "      <th>9</th>\n",
       "      <td>Taare Zameen Par</td>\n",
       "      <td>Aamir Khan</td>\n",
       "    </tr>\n",
       "    <tr>\n",
       "      <th>19</th>\n",
       "      <td>Gurjar Aandolan - A Fight For Right</td>\n",
       "      <td>Aarun Nagar</td>\n",
       "    </tr>\n",
       "    <tr>\n",
       "      <th>22</th>\n",
       "      <td>Dreams - Sapnay Sach Honge...</td>\n",
       "      <td>Aashish Chanana</td>\n",
       "    </tr>\n",
       "    <tr>\n",
       "      <th>68</th>\n",
       "      <td>Bandook</td>\n",
       "      <td>Aditya Om</td>\n",
       "    </tr>\n",
       "    <tr>\n",
       "      <th>90</th>\n",
       "      <td>U Me Aur Hum</td>\n",
       "      <td>Ajay Devgn</td>\n",
       "    </tr>\n",
       "    <tr>\n",
       "      <th>91</th>\n",
       "      <td>Shivaay</td>\n",
       "      <td>Ajay Devgn</td>\n",
       "    </tr>\n",
       "    <tr>\n",
       "      <th>246</th>\n",
       "      <td>Staying Alive</td>\n",
       "      <td>Anant Mahadevan</td>\n",
       "    </tr>\n",
       "    <tr>\n",
       "      <th>249</th>\n",
       "      <td>Happy Husbands</td>\n",
       "      <td>Anay</td>\n",
       "    </tr>\n",
       "    <tr>\n",
       "      <th>260</th>\n",
       "      <td>Mr Ya Miss</td>\n",
       "      <td>Antara Mali</td>\n",
       "    </tr>\n",
       "    <tr>\n",
       "      <th>402</th>\n",
       "      <td>Yeh Dooriyaan</td>\n",
       "      <td>Deepshika</td>\n",
       "    </tr>\n",
       "    <tr>\n",
       "      <th>406</th>\n",
       "      <td>Mr. Prime Minister</td>\n",
       "      <td>Dev Anand</td>\n",
       "    </tr>\n",
       "    <tr>\n",
       "      <th>407</th>\n",
       "      <td>Chargesheet</td>\n",
       "      <td>Dev Anand</td>\n",
       "    </tr>\n",
       "    <tr>\n",
       "      <th>526</th>\n",
       "      <td>MSG - The Warrior Lion Heart</td>\n",
       "      <td>Gurmeet Ram Rahim Singh</td>\n",
       "    </tr>\n",
       "    <tr>\n",
       "      <th>527</th>\n",
       "      <td>Hind Ka Napak Ko Jawab - MSG Lion Heart-2</td>\n",
       "      <td>Gurmeet Ram Rahim Singh</td>\n",
       "    </tr>\n",
       "    <tr>\n",
       "      <th>528</th>\n",
       "      <td>Jattu Engineer</td>\n",
       "      <td>Gurmeet Ram Rahim Singh</td>\n",
       "    </tr>\n",
       "    <tr>\n",
       "      <th>735</th>\n",
       "      <td>Shringaar</td>\n",
       "      <td>Kumaar Aadarsh</td>\n",
       "    </tr>\n",
       "    <tr>\n",
       "      <th>754</th>\n",
       "      <td>Rise Of The Zombie</td>\n",
       "      <td>Luke Kenny</td>\n",
       "    </tr>\n",
       "    <tr>\n",
       "      <th>785</th>\n",
       "      <td>Life Is Beautiful!</td>\n",
       "      <td>Manoj Amarnani</td>\n",
       "    </tr>\n",
       "    <tr>\n",
       "      <th>799</th>\n",
       "      <td>Hum Sey Hai Jahaan</td>\n",
       "      <td>Mashhoor Amrohi</td>\n",
       "    </tr>\n",
       "    <tr>\n",
       "      <th>840</th>\n",
       "      <td>Young - The Powerful Blood</td>\n",
       "      <td>Mukesh R.K. Chouksey</td>\n",
       "    </tr>\n",
       "    <tr>\n",
       "      <th>841</th>\n",
       "      <td>Tantiya Bheel</td>\n",
       "      <td>Mukesh R.K. Chouksey</td>\n",
       "    </tr>\n",
       "    <tr>\n",
       "      <th>930</th>\n",
       "      <td>Kabhi Yun Bhi Toh Ho...</td>\n",
       "      <td>Paritosh Goswami</td>\n",
       "    </tr>\n",
       "    <tr>\n",
       "      <th>950</th>\n",
       "      <td>Last Benchers</td>\n",
       "      <td>Prajakt Rebeloma</td>\n",
       "    </tr>\n",
       "    <tr>\n",
       "      <th>987</th>\n",
       "      <td>Huff! It's Too Much</td>\n",
       "      <td>Pushkar Jog</td>\n",
       "    </tr>\n",
       "    <tr>\n",
       "      <th>1079</th>\n",
       "      <td>Ata Pata Laapata</td>\n",
       "      <td>Rajpal Yadav</td>\n",
       "    </tr>\n",
       "    <tr>\n",
       "      <th>1144</th>\n",
       "      <td>World Cupp 2011</td>\n",
       "      <td>Ravi Kapoor</td>\n",
       "    </tr>\n",
       "    <tr>\n",
       "      <th>1169</th>\n",
       "      <td>Naari Teri Shakti Anokhi</td>\n",
       "      <td>Rita S. Roy</td>\n",
       "    </tr>\n",
       "    <tr>\n",
       "      <th>1201</th>\n",
       "      <td>Jaana Pehchana</td>\n",
       "      <td>Sachin</td>\n",
       "    </tr>\n",
       "    <tr>\n",
       "      <th>1213</th>\n",
       "      <td>M.A.D - Mad About Dance</td>\n",
       "      <td>Sahil Prem</td>\n",
       "    </tr>\n",
       "    <tr>\n",
       "      <th>1309</th>\n",
       "      <td>Jai Singh Are Baap Re</td>\n",
       "      <td>Sankalp Shrivastava</td>\n",
       "    </tr>\n",
       "    <tr>\n",
       "      <th>1329</th>\n",
       "      <td>Soch Lo</td>\n",
       "      <td>Sartaj Singh Pannu</td>\n",
       "    </tr>\n",
       "    <tr>\n",
       "      <th>1382</th>\n",
       "      <td>Us Disha Mein</td>\n",
       "      <td>Shahzad Pathan</td>\n",
       "    </tr>\n",
       "    <tr>\n",
       "      <th>1427</th>\n",
       "      <td>Shakal Pe Mat Ja</td>\n",
       "      <td>Shubh</td>\n",
       "    </tr>\n",
       "    <tr>\n",
       "      <th>1430</th>\n",
       "      <td>Raat Abhi Baaki Hai</td>\n",
       "      <td>Siddhant Kumar</td>\n",
       "    </tr>\n",
       "    <tr>\n",
       "      <th>1488</th>\n",
       "      <td>Money Back Guarantee</td>\n",
       "      <td>Sunil Pal</td>\n",
       "    </tr>\n",
       "    <tr>\n",
       "      <th>1503</th>\n",
       "      <td>Ghayal Once Again</td>\n",
       "      <td>Sunny Deol</td>\n",
       "    </tr>\n",
       "    <tr>\n",
       "      <th>1512</th>\n",
       "      <td>Yahi To Pyar Hai</td>\n",
       "      <td>Suraj Dev Sahu</td>\n",
       "    </tr>\n",
       "    <tr>\n",
       "      <th>1532</th>\n",
       "      <td>Yeh Dil Ramta Jogi</td>\n",
       "      <td>Swaroop Kanchi</td>\n",
       "    </tr>\n",
       "    <tr>\n",
       "      <th>1597</th>\n",
       "      <td>Tere Pyaarr Mein Paapad</td>\n",
       "      <td>Uunnat Duutt</td>\n",
       "    </tr>\n",
       "    <tr>\n",
       "      <th>1629</th>\n",
       "      <td>Kya Dilli Kya Lahore</td>\n",
       "      <td>Vijay Raaz</td>\n",
       "    </tr>\n",
       "    <tr>\n",
       "      <th>1630</th>\n",
       "      <td>Don Ke Baad Kaun?</td>\n",
       "      <td>Vijay Saxena</td>\n",
       "    </tr>\n",
       "    <tr>\n",
       "      <th>1639</th>\n",
       "      <td>Challo Driver</td>\n",
       "      <td>Vikrant Mahajan</td>\n",
       "    </tr>\n",
       "    <tr>\n",
       "      <th>1641</th>\n",
       "      <td>Pehla Aashiq Pehla Qatil</td>\n",
       "      <td>Vinay Arora</td>\n",
       "    </tr>\n",
       "    <tr>\n",
       "      <th>1658</th>\n",
       "      <td>Gopa - The Freedom Fighter</td>\n",
       "      <td>Vinod Painter</td>\n",
       "    </tr>\n",
       "  </tbody>\n",
       "</table>\n",
       "</div>"
      ],
      "text/plain": [
       "                                     Movie Name                 Director\n",
       "4                                     Chaatwali               Aadil Khan\n",
       "9                              Taare Zameen Par               Aamir Khan\n",
       "19          Gurjar Aandolan - A Fight For Right              Aarun Nagar\n",
       "22                Dreams - Sapnay Sach Honge...          Aashish Chanana\n",
       "68                                      Bandook                Aditya Om\n",
       "90                                 U Me Aur Hum               Ajay Devgn\n",
       "91                                      Shivaay               Ajay Devgn\n",
       "246                               Staying Alive          Anant Mahadevan\n",
       "249                              Happy Husbands                     Anay\n",
       "260                                  Mr Ya Miss              Antara Mali\n",
       "402                               Yeh Dooriyaan                Deepshika\n",
       "406                          Mr. Prime Minister                Dev Anand\n",
       "407                                 Chargesheet                Dev Anand\n",
       "526                MSG - The Warrior Lion Heart  Gurmeet Ram Rahim Singh\n",
       "527   Hind Ka Napak Ko Jawab - MSG Lion Heart-2  Gurmeet Ram Rahim Singh\n",
       "528                              Jattu Engineer  Gurmeet Ram Rahim Singh\n",
       "735                                   Shringaar           Kumaar Aadarsh\n",
       "754                          Rise Of The Zombie               Luke Kenny\n",
       "785                          Life Is Beautiful!           Manoj Amarnani\n",
       "799                          Hum Sey Hai Jahaan          Mashhoor Amrohi\n",
       "840                  Young - The Powerful Blood     Mukesh R.K. Chouksey\n",
       "841                               Tantiya Bheel     Mukesh R.K. Chouksey\n",
       "930                     Kabhi Yun Bhi Toh Ho...         Paritosh Goswami\n",
       "950                               Last Benchers         Prajakt Rebeloma\n",
       "987                         Huff! It's Too Much              Pushkar Jog\n",
       "1079                           Ata Pata Laapata             Rajpal Yadav\n",
       "1144                            World Cupp 2011              Ravi Kapoor\n",
       "1169                   Naari Teri Shakti Anokhi              Rita S. Roy\n",
       "1201                             Jaana Pehchana                   Sachin\n",
       "1213                    M.A.D - Mad About Dance               Sahil Prem\n",
       "1309                      Jai Singh Are Baap Re      Sankalp Shrivastava\n",
       "1329                                    Soch Lo       Sartaj Singh Pannu\n",
       "1382                              Us Disha Mein           Shahzad Pathan\n",
       "1427                           Shakal Pe Mat Ja                    Shubh\n",
       "1430                        Raat Abhi Baaki Hai           Siddhant Kumar\n",
       "1488                       Money Back Guarantee                Sunil Pal\n",
       "1503                          Ghayal Once Again               Sunny Deol\n",
       "1512                           Yahi To Pyar Hai           Suraj Dev Sahu\n",
       "1532                         Yeh Dil Ramta Jogi           Swaroop Kanchi\n",
       "1597                    Tere Pyaarr Mein Paapad             Uunnat Duutt\n",
       "1629                       Kya Dilli Kya Lahore               Vijay Raaz\n",
       "1630                          Don Ke Baad Kaun?             Vijay Saxena\n",
       "1639                              Challo Driver          Vikrant Mahajan\n",
       "1641                   Pehla Aashiq Pehla Qatil              Vinay Arora\n",
       "1658                 Gopa - The Freedom Fighter            Vinod Painter"
      ]
     },
     "execution_count": 25,
     "metadata": {},
     "output_type": "execute_result"
    }
   ],
   "source": [
    "\n",
    "# Identify movies where the lead star is also the director.\n",
    "df[df[\"Lead Star\"] == df[\"Director\"]][[\"Movie Name\",\"Director\"]]"
   ]
  },
  {
   "cell_type": "code",
   "execution_count": 26,
   "id": "6d214f4c",
   "metadata": {
    "execution": {
     "iopub.execute_input": "2024-04-08T15:19:11.244335Z",
     "iopub.status.busy": "2024-04-08T15:19:11.243482Z",
     "iopub.status.idle": "2024-04-08T15:19:11.256589Z",
     "shell.execute_reply": "2024-04-08T15:19:11.255419Z"
    },
    "papermill": {
     "duration": 0.043139,
     "end_time": "2024-04-08T15:19:11.259739",
     "exception": false,
     "start_time": "2024-04-08T15:19:11.216600",
     "status": "completed"
    },
    "tags": []
   },
   "outputs": [
    {
     "data": {
      "text/plain": [
       "0.8977651709284016"
      ]
     },
     "execution_count": 26,
     "metadata": {},
     "output_type": "execute_result"
    }
   ],
   "source": [
    "\n",
    "# Determine the correlation between the number of screens and revenue.\n",
    "df[\"Number of Screens\"].corr(df[\"Revenue(INR)\"])"
   ]
  },
  {
   "cell_type": "code",
   "execution_count": 27,
   "id": "0a569975",
   "metadata": {
    "execution": {
     "iopub.execute_input": "2024-04-08T15:19:11.309659Z",
     "iopub.status.busy": "2024-04-08T15:19:11.308843Z",
     "iopub.status.idle": "2024-04-08T15:19:11.317913Z",
     "shell.execute_reply": "2024-04-08T15:19:11.316888Z"
    },
    "papermill": {
     "duration": 0.037013,
     "end_time": "2024-04-08T15:19:11.320181",
     "exception": false,
     "start_time": "2024-04-08T15:19:11.283168",
     "status": "completed"
    },
    "tags": []
   },
   "outputs": [
    {
     "data": {
      "text/plain": [
       "75523314.9509804"
      ]
     },
     "execution_count": 27,
     "metadata": {},
     "output_type": "execute_result"
    }
   ],
   "source": [
    "# What is the average revenue for movies directed by new directors?\n",
    "df[df[\"New Director\"] == \"Yes\"][\"Revenue(INR)\"].mean()"
   ]
  },
  {
   "cell_type": "code",
   "execution_count": 28,
   "id": "dbf1483f",
   "metadata": {
    "execution": {
     "iopub.execute_input": "2024-04-08T15:19:11.369964Z",
     "iopub.status.busy": "2024-04-08T15:19:11.369172Z",
     "iopub.status.idle": "2024-04-08T15:19:11.388281Z",
     "shell.execute_reply": "2024-04-08T15:19:11.387065Z"
    },
    "papermill": {
     "duration": 0.046339,
     "end_time": "2024-04-08T15:19:11.390726",
     "exception": false,
     "start_time": "2024-04-08T15:19:11.344387",
     "status": "completed"
    },
    "tags": []
   },
   "outputs": [
    {
     "data": {
      "text/html": [
       "<div>\n",
       "<style scoped>\n",
       "    .dataframe tbody tr th:only-of-type {\n",
       "        vertical-align: middle;\n",
       "    }\n",
       "\n",
       "    .dataframe tbody tr th {\n",
       "        vertical-align: top;\n",
       "    }\n",
       "\n",
       "    .dataframe thead th {\n",
       "        text-align: right;\n",
       "    }\n",
       "</style>\n",
       "<table border=\"1\" class=\"dataframe\">\n",
       "  <thead>\n",
       "    <tr style=\"text-align: right;\">\n",
       "      <th></th>\n",
       "      <th>Movie Name</th>\n",
       "      <th>Release Period</th>\n",
       "      <th>Whether Remake</th>\n",
       "      <th>Whether Franchise</th>\n",
       "      <th>Genre</th>\n",
       "      <th>New Actor</th>\n",
       "      <th>New Director</th>\n",
       "      <th>New Music Director</th>\n",
       "      <th>Lead Star</th>\n",
       "      <th>Director</th>\n",
       "      <th>Music Director</th>\n",
       "      <th>Number of Screens</th>\n",
       "      <th>Revenue(INR)</th>\n",
       "      <th>Budget(INR)</th>\n",
       "      <th>Profit</th>\n",
       "    </tr>\n",
       "  </thead>\n",
       "  <tbody>\n",
       "    <tr>\n",
       "      <th>718</th>\n",
       "      <td>It Can Be Dangerous - City Of Dreams</td>\n",
       "      <td>Normal</td>\n",
       "      <td>No</td>\n",
       "      <td>No</td>\n",
       "      <td>drama</td>\n",
       "      <td>No</td>\n",
       "      <td>Yes</td>\n",
       "      <td>Yes</td>\n",
       "      <td>Kiran Janjani</td>\n",
       "      <td>Mahesh D. Singh</td>\n",
       "      <td>Niranjan - Saket</td>\n",
       "      <td>40</td>\n",
       "      <td>325000</td>\n",
       "      <td>450000</td>\n",
       "      <td>-125000</td>\n",
       "    </tr>\n",
       "  </tbody>\n",
       "</table>\n",
       "</div>"
      ],
      "text/plain": [
       "                               Movie Name Release Period Whether Remake  \\\n",
       "718  It Can Be Dangerous - City Of Dreams         Normal             No   \n",
       "\n",
       "    Whether Franchise  Genre New Actor New Director New Music Director  \\\n",
       "718                No  drama        No          Yes                Yes   \n",
       "\n",
       "         Lead Star         Director    Music Director  Number of Screens  \\\n",
       "718  Kiran Janjani  Mahesh D. Singh  Niranjan - Saket                 40   \n",
       "\n",
       "     Revenue(INR)  Budget(INR)  Profit  \n",
       "718        325000       450000 -125000  "
      ]
     },
     "execution_count": 28,
     "metadata": {},
     "output_type": "execute_result"
    }
   ],
   "source": [
    "# Find the movie with the lowest revenue.\n",
    "df[df[\"Revenue(INR)\"] == df[\"Revenue(INR)\"].min()]"
   ]
  },
  {
   "cell_type": "code",
   "execution_count": 29,
   "id": "8a845756",
   "metadata": {
    "execution": {
     "iopub.execute_input": "2024-04-08T15:19:11.440234Z",
     "iopub.status.busy": "2024-04-08T15:19:11.439154Z",
     "iopub.status.idle": "2024-04-08T15:19:11.450241Z",
     "shell.execute_reply": "2024-04-08T15:19:11.449186Z"
    },
    "papermill": {
     "duration": 0.038286,
     "end_time": "2024-04-08T15:19:11.452757",
     "exception": false,
     "start_time": "2024-04-08T15:19:11.414471",
     "status": "completed"
    },
    "tags": []
   },
   "outputs": [
    {
     "data": {
      "text/plain": [
       "46155408.1632653"
      ]
     },
     "execution_count": 29,
     "metadata": {},
     "output_type": "execute_result"
    }
   ],
   "source": [
    "# Calculate the average revenue for movies in the 'Drama' genre with a new music director.\n",
    "df[(df[\"Genre\"] == \"drama\") & (df[\"New Music Director\"] == \"Yes\")][\"Revenue(INR)\"].mean()"
   ]
  },
  {
   "cell_type": "markdown",
   "id": "ec2df43b",
   "metadata": {
    "papermill": {
     "duration": 0.02356,
     "end_time": "2024-04-08T15:19:11.500175",
     "exception": false,
     "start_time": "2024-04-08T15:19:11.476615",
     "status": "completed"
    },
    "tags": []
   },
   "source": [
    "\n",
    "Financial Analysis:\n",
    "\n",
    "What is the distribution of revenue, budget, and profit?\n",
    "Is there any correlation between budget and revenue?\n",
    "How do profits vary across different genres?\n",
    "Are franchise movies more profitable compared to non-franchise ones?\n",
    "Is there any trend in the revenue and budget over different release periods?\n",
    "Cast and Crew Analysis:\n",
    "\n",
    "Who are the most frequently appearing lead stars, directors, and music directors?\n",
    "Is there any correlation between the lead star/director/music director and the movie's revenue?\n",
    "Do movies with new actors/directors/music directors perform differently in terms of revenue/profit?\n",
    "Screen Presence:\n",
    "\n",
    "How does the number of screens affect revenue and profit?\n",
    "Are movies released on more screens generally more profitable?\n",
    "Visualization and Trends:\n",
    "\n",
    "Can you visualize the distribution of revenue, budget, and profit using histograms or box plots?\n",
    "Are there any noticeable trends or patterns over the years in terms of revenue, budget, or profit?\n",
    "Can you visualize the relationship between budget and revenue using a scatter plot?\n",
    "Franchise Analysis:\n",
    "\n",
    "How does the performance (revenue, profit) of movies in a franchise compare to standalone movies?\n",
    "Is there any trend in the revenue or profit of a franchise over its sequels?\n",
    "Genre Analysis:\n",
    "\n",
    "Which genres tend to have higher revenue and profit?\n",
    "Are certain genres more likely to be remade or belong to a franchise?\n",
    "How has the popularity of different genres changed over time?\n",
    "Correlation Analysis:\n",
    "\n",
    "Can you identify any correlations between different variables such as budget, revenue, profit, and number of screens?\n",
    "Are there any interesting relationships between variables that stand out?\n",
    "Outlier Detection:\n",
    "\n",
    "Are there any outliers in terms of revenue, budget, or profit? If so, can you identify any patterns or reasons for these outliers?\n",
    "Predictive Analysis:\n",
    "\n",
    "Can you build a predictive model to forecast a movie's revenue or profit based on its features such as genre, lead star, director, budget, etc.?\n",
    "How accurate is your predictive model, and which features contribute the most to predicting revenue/profit?"
   ]
  },
  {
   "cell_type": "markdown",
   "id": "17b96754",
   "metadata": {
    "papermill": {
     "duration": 0.023607,
     "end_time": "2024-04-08T15:19:11.548210",
     "exception": false,
     "start_time": "2024-04-08T15:19:11.524603",
     "status": "completed"
    },
    "tags": []
   },
   "source": [
    "### (A) General Overview:"
   ]
  },
  {
   "cell_type": "markdown",
   "id": "e842e2c7",
   "metadata": {
    "papermill": {
     "duration": 0.024113,
     "end_time": "2024-04-08T15:19:11.595828",
     "exception": false,
     "start_time": "2024-04-08T15:19:11.571715",
     "status": "completed"
    },
    "tags": []
   },
   "source": [
    "What is the distribution of movies across different release periods?"
   ]
  },
  {
   "cell_type": "code",
   "execution_count": 30,
   "id": "bcc89128",
   "metadata": {
    "execution": {
     "iopub.execute_input": "2024-04-08T15:19:11.645703Z",
     "iopub.status.busy": "2024-04-08T15:19:11.645035Z",
     "iopub.status.idle": "2024-04-08T15:19:11.879061Z",
     "shell.execute_reply": "2024-04-08T15:19:11.877501Z"
    },
    "papermill": {
     "duration": 0.26372,
     "end_time": "2024-04-08T15:19:11.883419",
     "exception": false,
     "start_time": "2024-04-08T15:19:11.619699",
     "status": "completed"
    },
    "tags": []
   },
   "outputs": [
    {
     "data": {
      "image/png": "[encoded data removed]",
      "text/plain": [
       "<Figure size 800x600 with 1 Axes>"
      ]
     },
     "metadata": {},
     "output_type": "display_data"
    }
   ],
   "source": [
    "\n",
    "import matplotlib.pyplot as plt\n",
    "\n",
    "# Assuming df is your DataFrame containing the movies dataset\n",
    "\n",
    "# Calculate the value counts for the \"Release Period\" column\n",
    "release_period_counts = df[\"Release Period\"].value_counts()\n",
    "\n",
    "# Plotting the pie chart\n",
    "plt.figure(figsize=(8, 6))\n",
    "plt.pie(release_period_counts, labels=release_period_counts.index, autopct='%1.1f%%', startangle=140)\n",
    "plt.title('Distribution of Movies Across Release Periods')\n",
    "plt.axis('equal')  # Equal aspect ratio ensures that pie is drawn as a circle.\n",
    "plt.show()\n"
   ]
  },
  {
   "cell_type": "markdown",
   "id": "0bfc4fbd",
   "metadata": {
    "papermill": {
     "duration": 0.023737,
     "end_time": "2024-04-08T15:19:11.934419",
     "exception": false,
     "start_time": "2024-04-08T15:19:11.910682",
     "status": "completed"
    },
    "tags": []
   },
   "source": [
    "How many movies are remakes and how many are original?"
   ]
  },
  {
   "cell_type": "code",
   "execution_count": 31,
   "id": "6a2c934d",
   "metadata": {
    "execution": {
     "iopub.execute_input": "2024-04-08T15:19:11.988598Z",
     "iopub.status.busy": "2024-04-08T15:19:11.988004Z",
     "iopub.status.idle": "2024-04-08T15:19:12.314284Z",
     "shell.execute_reply": "2024-04-08T15:19:12.313085Z"
    },
    "papermill": {
     "duration": 0.355719,
     "end_time": "2024-04-08T15:19:12.317076",
     "exception": false,
     "start_time": "2024-04-08T15:19:11.961357",
     "status": "completed"
    },
    "tags": []
   },
   "outputs": [
    {
     "data": {
      "image/png": "[encoded data removed]",
      "text/plain": [
       "<Figure size 800x600 with 1 Axes>"
      ]
     },
     "metadata": {},
     "output_type": "display_data"
    }
   ],
   "source": [
    "whether_remakes_counts = df[\"Whether Remake\"].value_counts()\n",
    "\n",
    "# Plotting the bar diagram\n",
    "plt.figure(figsize=(8, 6))\n",
    "whether_remakes_counts.plot(kind='bar', color=['blue', 'orange'])\n",
    "plt.title('Distribution of Movies Whether They are Remakes or Not')\n",
    "plt.xlabel('Whether Remake')\n",
    "plt.ylabel('Count')\n",
    "plt.xticks(rotation=0)  # Rotate x-axis labels if needed\n",
    "plt.show()"
   ]
  },
  {
   "cell_type": "markdown",
   "id": "8e5eb568",
   "metadata": {
    "papermill": {
     "duration": 0.025147,
     "end_time": "2024-04-08T15:19:12.367391",
     "exception": false,
     "start_time": "2024-04-08T15:19:12.342244",
     "status": "completed"
    },
    "tags": []
   },
   "source": [
    "What percentage of movies belong to a franchise?"
   ]
  },
  {
   "cell_type": "code",
   "execution_count": 32,
   "id": "e977eab8",
   "metadata": {
    "execution": {
     "iopub.execute_input": "2024-04-08T15:19:12.419374Z",
     "iopub.status.busy": "2024-04-08T15:19:12.418957Z",
     "iopub.status.idle": "2024-04-08T15:19:12.429034Z",
     "shell.execute_reply": "2024-04-08T15:19:12.427818Z"
    },
    "papermill": {
     "duration": 0.03862,
     "end_time": "2024-04-08T15:19:12.431225",
     "exception": false,
     "start_time": "2024-04-08T15:19:12.392605",
     "status": "completed"
    },
    "tags": []
   },
   "outputs": [
    {
     "name": "stdout",
     "output_type": "stream",
     "text": [
      "Percentage of movies belonging to a franchise: 4.829210836277975\n"
     ]
    }
   ],
   "source": [
    "total_movies = len(df)\n",
    "\n",
    "franchise_movies_count = len(df[df[\"Whether Franchise\"] == \"Yes\"])\n",
    "\n",
    "# Calculate the percentage of movies belonging to a franchise\n",
    "percentage_franchise_movies = (franchise_movies_count / total_movies) * 100\n",
    "\n",
    "print(\"Percentage of movies belonging to a franchise:\", percentage_franchise_movies)"
   ]
  },
  {
   "cell_type": "markdown",
   "id": "b115babc",
   "metadata": {
    "papermill": {
     "duration": 0.02427,
     "end_time": "2024-04-08T15:19:12.480808",
     "exception": false,
     "start_time": "2024-04-08T15:19:12.456538",
     "status": "completed"
    },
    "tags": []
   },
   "source": [
    "What are the most common genres in the dataset?"
   ]
  },
  {
   "cell_type": "code",
   "execution_count": 33,
   "id": "92f7ff05",
   "metadata": {
    "execution": {
     "iopub.execute_input": "2024-04-08T15:19:12.533440Z",
     "iopub.status.busy": "2024-04-08T15:19:12.532250Z",
     "iopub.status.idle": "2024-04-08T15:19:12.542365Z",
     "shell.execute_reply": "2024-04-08T15:19:12.541035Z"
    },
    "papermill": {
     "duration": 0.039398,
     "end_time": "2024-04-08T15:19:12.544877",
     "exception": false,
     "start_time": "2024-04-08T15:19:12.505479",
     "status": "completed"
    },
    "tags": []
   },
   "outputs": [
    {
     "name": "stdout",
     "output_type": "stream",
     "text": [
      "Total Genres : 14\n",
      "--------------------------------------------------------------------------------\n",
      "Genres : ['suspense', 'drama', 'thriller', 'adult', 'comedy', 'action', 'love_story', 'rom__com', 'horror', 'fantasy', 'masala', 'mythological', 'animation', 'documentary']\n"
     ]
    }
   ],
   "source": [
    "print(\"Total Genres :\",len(list(df['Genre'].unique())))\n",
    "print(\"-\"*80)\n",
    "print(\"Genres :\",list(df['Genre'].unique()))"
   ]
  },
  {
   "cell_type": "markdown",
   "id": "0a0a4c41",
   "metadata": {
    "papermill": {
     "duration": 0.025275,
     "end_time": "2024-04-08T15:19:12.595253",
     "exception": false,
     "start_time": "2024-04-08T15:19:12.569978",
     "status": "completed"
    },
    "tags": []
   },
   "source": [
    "How many movies feature new actors, directors, or music directors?"
   ]
  },
  {
   "cell_type": "code",
   "execution_count": 34,
   "id": "62b83927",
   "metadata": {
    "execution": {
     "iopub.execute_input": "2024-04-08T15:19:12.647328Z",
     "iopub.status.busy": "2024-04-08T15:19:12.646661Z",
     "iopub.status.idle": "2024-04-08T15:19:12.655636Z",
     "shell.execute_reply": "2024-04-08T15:19:12.654387Z"
    },
    "papermill": {
     "duration": 0.03833,
     "end_time": "2024-04-08T15:19:12.658329",
     "exception": false,
     "start_time": "2024-04-08T15:19:12.619999",
     "status": "completed"
    },
    "tags": []
   },
   "outputs": [
    {
     "name": "stdout",
     "output_type": "stream",
     "text": [
      "Movies with new actor, new director and new music director : 186\n"
     ]
    }
   ],
   "source": [
    "print(\"Movies with new actor, new director and new music director :\",len(df[(df[\"New Actor\"] == \"Yes\") & (df[\"New Director\"] == \"Yes\") & (df[\"New Music Director\"] == \"Yes\")]))"
   ]
  },
  {
   "cell_type": "markdown",
   "id": "149cedc7",
   "metadata": {
    "papermill": {
     "duration": 0.024468,
     "end_time": "2024-04-08T15:19:12.708287",
     "exception": false,
     "start_time": "2024-04-08T15:19:12.683819",
     "status": "completed"
    },
    "tags": []
   },
   "source": [
    "### (B) Financial Analysis:"
   ]
  },
  {
   "cell_type": "markdown",
   "id": "1ffeecaa",
   "metadata": {
    "papermill": {
     "duration": 0.024853,
     "end_time": "2024-04-08T15:19:12.757951",
     "exception": false,
     "start_time": "2024-04-08T15:19:12.733098",
     "status": "completed"
    },
    "tags": []
   },
   "source": [
    "What is the distribution of revenue, budget, and profit? "
   ]
  },
  {
   "cell_type": "code",
   "execution_count": 35,
   "id": "96878be2",
   "metadata": {
    "execution": {
     "iopub.execute_input": "2024-04-08T15:19:12.809133Z",
     "iopub.status.busy": "2024-04-08T15:19:12.808723Z",
     "iopub.status.idle": "2024-04-08T15:19:13.861088Z",
     "shell.execute_reply": "2024-04-08T15:19:13.859638Z"
    },
    "papermill": {
     "duration": 1.081113,
     "end_time": "2024-04-08T15:19:13.863783",
     "exception": false,
     "start_time": "2024-04-08T15:19:12.782670",
     "status": "completed"
    },
    "tags": []
   },
   "outputs": [
    {
     "data": {
      "image/png": "[encoded data removed]",
      "text/plain": [
       "<Figure size 1000x1000 with 3 Axes>"
      ]
     },
     "metadata": {},
     "output_type": "display_data"
    }
   ],
   "source": [
    "import matplotlib.pyplot as plt\n",
    "\n",
    "# Assuming df is your DataFrame containing the movies dataset\n",
    "\n",
    "# Create subplots for revenue, budget, and profit histograms\n",
    "fig, axes = plt.subplots(3, 1, figsize=(10, 10))\n",
    "\n",
    "# Plot revenue histogram\n",
    "axes[0].hist(df['Revenue(INR)'], bins=20, color='skyblue')\n",
    "axes[0].set_title('Distribution of Revenue')\n",
    "axes[0].set_xlabel('Revenue (INR)')\n",
    "axes[0].set_ylabel('Frequency')\n",
    "\n",
    "# Plot budget histogram\n",
    "axes[1].hist(df['Budget(INR)'], bins=20, color='salmon')\n",
    "axes[1].set_title('Distribution of Budget')\n",
    "axes[1].set_xlabel('Budget (INR)')\n",
    "axes[1].set_ylabel('Frequency')\n",
    "\n",
    "# Plot profit histogram\n",
    "axes[2].hist(df['Profit'], bins=20, color='lightgreen')\n",
    "axes[2].set_title('Distribution of Profit')\n",
    "axes[2].set_xlabel('Profit (INR)')\n",
    "axes[2].set_ylabel('Frequency')\n",
    "\n",
    "# Adjust layout\n",
    "plt.tight_layout()\n",
    "\n",
    "# Show the plots\n",
    "plt.show()\n"
   ]
  },
  {
   "cell_type": "markdown",
   "id": "dc08b0ce",
   "metadata": {
    "papermill": {
     "duration": 0.025647,
     "end_time": "2024-04-08T15:19:13.915959",
     "exception": false,
     "start_time": "2024-04-08T15:19:13.890312",
     "status": "completed"
    },
    "tags": []
   },
   "source": [
    "Is there any correlation between budget and revenue?"
   ]
  },
  {
   "cell_type": "code",
   "execution_count": 36,
   "id": "59b8c43f",
   "metadata": {
    "execution": {
     "iopub.execute_input": "2024-04-08T15:19:13.969850Z",
     "iopub.status.busy": "2024-04-08T15:19:13.969175Z",
     "iopub.status.idle": "2024-04-08T15:19:14.325253Z",
     "shell.execute_reply": "2024-04-08T15:19:14.324127Z"
    },
    "papermill": {
     "duration": 0.386043,
     "end_time": "2024-04-08T15:19:14.327866",
     "exception": false,
     "start_time": "2024-04-08T15:19:13.941823",
     "status": "completed"
    },
    "tags": []
   },
   "outputs": [
    {
     "data": {
      "image/png": "[encoded data removed]",
      "text/plain": [
       "<Figure size 800x600 with 1 Axes>"
      ]
     },
     "metadata": {},
     "output_type": "display_data"
    }
   ],
   "source": [
    "import matplotlib.pyplot as plt\n",
    "\n",
    "# Assuming df is your DataFrame containing the movies dataset\n",
    "\n",
    "# Plotting the scatter plot\n",
    "plt.figure(figsize=(8, 6))\n",
    "plt.scatter(df[\"Budget(INR)\"], df[\"Revenue(INR)\"], alpha=0.5)\n",
    "plt.title('Correlation between Budget and Revenue')\n",
    "plt.xlabel('Budget (INR)')\n",
    "plt.ylabel('Revenue (INR)')\n",
    "plt.grid(True)\n",
    "plt.show()\n"
   ]
  },
  {
   "cell_type": "code",
   "execution_count": 37,
   "id": "273ad1da",
   "metadata": {
    "execution": {
     "iopub.execute_input": "2024-04-08T15:19:14.384944Z",
     "iopub.status.busy": "2024-04-08T15:19:14.384143Z",
     "iopub.status.idle": "2024-04-08T15:19:14.391938Z",
     "shell.execute_reply": "2024-04-08T15:19:14.390844Z"
    },
    "papermill": {
     "duration": 0.039498,
     "end_time": "2024-04-08T15:19:14.394696",
     "exception": false,
     "start_time": "2024-04-08T15:19:14.355198",
     "status": "completed"
    },
    "tags": []
   },
   "outputs": [
    {
     "name": "stdout",
     "output_type": "stream",
     "text": [
      "Correlation between budget and revenue: 0.8434464800307456\n"
     ]
    }
   ],
   "source": [
    "\n",
    "\n",
    "# Assuming df is your DataFrame containing the movies dataset\n",
    "\n",
    "# Calculate the correlation between budget and revenue\n",
    "correlation = df['Budget(INR)'].corr(df['Revenue(INR)'])\n",
    "\n",
    "print(\"Correlation between budget and revenue:\", correlation)"
   ]
  },
  {
   "cell_type": "markdown",
   "id": "b96e18a4",
   "metadata": {
    "papermill": {
     "duration": 0.026391,
     "end_time": "2024-04-08T15:19:14.450446",
     "exception": false,
     "start_time": "2024-04-08T15:19:14.424055",
     "status": "completed"
    },
    "tags": []
   },
   "source": [
    "You can see here that there is a positive correlation between Budget and Revenue."
   ]
  },
  {
   "cell_type": "markdown",
   "id": "c066d0eb",
   "metadata": {
    "papermill": {
     "duration": 0.026592,
     "end_time": "2024-04-08T15:19:14.503854",
     "exception": false,
     "start_time": "2024-04-08T15:19:14.477262",
     "status": "completed"
    },
    "tags": []
   },
   "source": [
    "How do profits vary across different genres?"
   ]
  },
  {
   "cell_type": "code",
   "execution_count": 38,
   "id": "4cc47933",
   "metadata": {
    "execution": {
     "iopub.execute_input": "2024-04-08T15:19:14.559699Z",
     "iopub.status.busy": "2024-04-08T15:19:14.559274Z",
     "iopub.status.idle": "2024-04-08T15:19:14.940240Z",
     "shell.execute_reply": "2024-04-08T15:19:14.939157Z"
    },
    "papermill": {
     "duration": 0.411841,
     "end_time": "2024-04-08T15:19:14.942633",
     "exception": false,
     "start_time": "2024-04-08T15:19:14.530792",
     "status": "completed"
    },
    "tags": []
   },
   "outputs": [
    {
     "data": {
      "image/png": "[encoded data removed]",
      "text/plain": [
       "<Figure size 1000x600 with 1 Axes>"
      ]
     },
     "metadata": {},
     "output_type": "display_data"
    }
   ],
   "source": [
    "genre_profit_means = df.groupby('Genre')['Profit'].mean().sort_values()\n",
    "\n",
    "# Plotting the bar diagram\n",
    "plt.figure(figsize=(10, 6))\n",
    "genre_profit_means.plot(kind='barh', color='skyblue')\n",
    "plt.title('Average Profit by Genre')\n",
    "plt.xlabel('Average Profit (INR)')\n",
    "plt.ylabel('Genre')\n",
    "plt.show()"
   ]
  },
  {
   "cell_type": "markdown",
   "id": "256d67f9",
   "metadata": {
    "papermill": {
     "duration": 0.027932,
     "end_time": "2024-04-08T15:19:14.997703",
     "exception": false,
     "start_time": "2024-04-08T15:19:14.969771",
     "status": "completed"
    },
    "tags": []
   },
   "source": [
    "Are franchise movies more profitable compared to non-franchise ones?"
   ]
  },
  {
   "cell_type": "code",
   "execution_count": null,
   "id": "4211d380",
   "metadata": {
    "papermill": {
     "duration": 0.027876,
     "end_time": "2024-04-08T15:19:15.053021",
     "exception": false,
     "start_time": "2024-04-08T15:19:15.025145",
     "status": "completed"
    },
    "tags": []
   },
   "outputs": [],
   "source": []
  },
  {
   "cell_type": "markdown",
   "id": "6cc374cc",
   "metadata": {
    "papermill": {
     "duration": 0.027896,
     "end_time": "2024-04-08T15:19:15.108394",
     "exception": false,
     "start_time": "2024-04-08T15:19:15.080498",
     "status": "completed"
    },
    "tags": []
   },
   "source": [
    "Is there any trend in the revenue and budget over different release periods?"
   ]
  },
  {
   "cell_type": "code",
   "execution_count": null,
   "id": "c7267845",
   "metadata": {
    "papermill": {
     "duration": 0.027177,
     "end_time": "2024-04-08T15:19:15.163402",
     "exception": false,
     "start_time": "2024-04-08T15:19:15.136225",
     "status": "completed"
    },
    "tags": []
   },
   "outputs": [],
   "source": []
  }
 ],
 "metadata": {
  "kaggle": {
   "accelerator": "none",
   "dataSources": [
    {
     "datasetId": 2476918,
     "sourceId": 4200898,
     "sourceType": "datasetVersion"
    }
   ],
   "dockerImageVersionId": 30558,
   "isGpuEnabled": false,
   "isInternetEnabled": true,
   "language": "python",
   "sourceType": "notebook"
  },
  "kernelspec": {
   "display_name": "Python 3",
   "language": "python",
   "name": "python3"
  },
  "language_info": {
   "codemirror_mode": {
    "name": "ipython",
    "version": 3
   },
   "file_extension": ".py",
   "mimetype": "text/x-python",
   "name": "python",
   "nbconvert_exporter": "python",
   "pygments_lexer": "ipython3",
   "version": "3.10.12"
  },
  "papermill": {
   "default_parameters": {},
   "duration": 11.865459,
   "end_time": "2024-04-08T15:19:15.711140",
   "environment_variables": {},
   "exception": null,
   "input_path": "__notebook__.ipynb",
   "output_path": "__notebook__.ipynb",
   "parameters": {},
   "start_time": "2024-04-08T15:19:03.845681",
   "version": "2.4.0"
  }
 },
 "nbformat": 4,
 "nbformat_minor": 5
}
